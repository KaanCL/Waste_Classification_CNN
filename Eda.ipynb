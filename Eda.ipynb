{
 "cells": [
  {
   "cell_type": "code",
   "execution_count": 10,
   "metadata": {},
   "outputs": [],
   "source": [
    "import plotly.express as px\n",
    "import os\n",
    "import pandas as pd\n",
    "import numpy as np\n",
    "import random\n",
    "import shutil\n",
    "import matplotlib.pyplot as plt\n",
    "import seaborn as sns\n",
    "from scipy import stats\n",
    "from PIL import Image\n",
    "from tensorflow.keras.preprocessing.image import ImageDataGenerator\n",
    "\n",
    "import warnings\n",
    "import splitfolders"
   ]
  },
  {
   "cell_type": "code",
   "execution_count": 2,
   "metadata": {},
   "outputs": [
    {
     "data": {
      "text/plain": [
       "['Microwave',\n",
       " 'paper',\n",
       " 'cardboard',\n",
       " 'Television',\n",
       " 'Player',\n",
       " 'plastic',\n",
       " 'trash',\n",
       " 'glass',\n",
       " 'Mouse',\n",
       " 'Keyboard',\n",
       " 'Washing Machine',\n",
       " 'Mobile',\n",
       " 'organic',\n",
       " 'PCB',\n",
       " 'metal',\n",
       " 'Battery',\n",
       " 'Printer']"
      ]
     },
     "execution_count": 2,
     "metadata": {},
     "output_type": "execute_result"
    }
   ],
   "source": [
    "rootPath = \"dataset/garbage_images\"\n",
    "class_names = os.listdir(rootPath)\n",
    "class_names"
   ]
  },
  {
   "cell_type": "code",
   "execution_count": 3,
   "metadata": {},
   "outputs": [
    {
     "data": {
      "application/vnd.plotly.v1+json": {
       "config": {
        "plotlyServerURL": "https://plot.ly"
       },
       "data": [
        {
         "domain": {
          "x": [
           0,
           1
          ],
          "y": [
           0,
           1
          ]
         },
         "hovertemplate": "label=%{label}<br>value=%{value}<extra></extra>",
         "labels": [
          "Microwave",
          "paper",
          "cardboard",
          "Television",
          "Player",
          "plastic",
          "trash",
          "glass",
          "Mouse",
          "Keyboard",
          "Washing Machine",
          "Mobile",
          "organic",
          "PCB",
          "metal",
          "Battery",
          "Printer"
         ],
         "legendgroup": "",
         "name": "",
         "showlegend": true,
         "type": "pie",
         "values": [
          240,
          594,
          403,
          240,
          240,
          482,
          137,
          501,
          240,
          240,
          240,
          240,
          500,
          240,
          410,
          240,
          240
         ]
        }
       ],
       "layout": {
        "legend": {
         "tracegroupgap": 0
        },
        "piecolorway": [
         "rgb(102, 197, 204)",
         "rgb(246, 207, 113)",
         "rgb(248, 156, 116)",
         "rgb(220, 176, 242)",
         "rgb(135, 197, 95)",
         "rgb(158, 185, 243)",
         "rgb(254, 136, 177)",
         "rgb(201, 219, 116)",
         "rgb(139, 224, 164)",
         "rgb(180, 151, 231)",
         "rgb(179, 179, 179)"
        ],
        "template": {
         "data": {
          "bar": [
           {
            "error_x": {
             "color": "#2a3f5f"
            },
            "error_y": {
             "color": "#2a3f5f"
            },
            "marker": {
             "line": {
              "color": "#E5ECF6",
              "width": 0.5
             },
             "pattern": {
              "fillmode": "overlay",
              "size": 10,
              "solidity": 0.2
             }
            },
            "type": "bar"
           }
          ],
          "barpolar": [
           {
            "marker": {
             "line": {
              "color": "#E5ECF6",
              "width": 0.5
             },
             "pattern": {
              "fillmode": "overlay",
              "size": 10,
              "solidity": 0.2
             }
            },
            "type": "barpolar"
           }
          ],
          "carpet": [
           {
            "aaxis": {
             "endlinecolor": "#2a3f5f",
             "gridcolor": "white",
             "linecolor": "white",
             "minorgridcolor": "white",
             "startlinecolor": "#2a3f5f"
            },
            "baxis": {
             "endlinecolor": "#2a3f5f",
             "gridcolor": "white",
             "linecolor": "white",
             "minorgridcolor": "white",
             "startlinecolor": "#2a3f5f"
            },
            "type": "carpet"
           }
          ],
          "choropleth": [
           {
            "colorbar": {
             "outlinewidth": 0,
             "ticks": ""
            },
            "type": "choropleth"
           }
          ],
          "contour": [
           {
            "colorbar": {
             "outlinewidth": 0,
             "ticks": ""
            },
            "colorscale": [
             [
              0,
              "#0d0887"
             ],
             [
              0.1111111111111111,
              "#46039f"
             ],
             [
              0.2222222222222222,
              "#7201a8"
             ],
             [
              0.3333333333333333,
              "#9c179e"
             ],
             [
              0.4444444444444444,
              "#bd3786"
             ],
             [
              0.5555555555555556,
              "#d8576b"
             ],
             [
              0.6666666666666666,
              "#ed7953"
             ],
             [
              0.7777777777777778,
              "#fb9f3a"
             ],
             [
              0.8888888888888888,
              "#fdca26"
             ],
             [
              1,
              "#f0f921"
             ]
            ],
            "type": "contour"
           }
          ],
          "contourcarpet": [
           {
            "colorbar": {
             "outlinewidth": 0,
             "ticks": ""
            },
            "type": "contourcarpet"
           }
          ],
          "heatmap": [
           {
            "colorbar": {
             "outlinewidth": 0,
             "ticks": ""
            },
            "colorscale": [
             [
              0,
              "#0d0887"
             ],
             [
              0.1111111111111111,
              "#46039f"
             ],
             [
              0.2222222222222222,
              "#7201a8"
             ],
             [
              0.3333333333333333,
              "#9c179e"
             ],
             [
              0.4444444444444444,
              "#bd3786"
             ],
             [
              0.5555555555555556,
              "#d8576b"
             ],
             [
              0.6666666666666666,
              "#ed7953"
             ],
             [
              0.7777777777777778,
              "#fb9f3a"
             ],
             [
              0.8888888888888888,
              "#fdca26"
             ],
             [
              1,
              "#f0f921"
             ]
            ],
            "type": "heatmap"
           }
          ],
          "heatmapgl": [
           {
            "colorbar": {
             "outlinewidth": 0,
             "ticks": ""
            },
            "colorscale": [
             [
              0,
              "#0d0887"
             ],
             [
              0.1111111111111111,
              "#46039f"
             ],
             [
              0.2222222222222222,
              "#7201a8"
             ],
             [
              0.3333333333333333,
              "#9c179e"
             ],
             [
              0.4444444444444444,
              "#bd3786"
             ],
             [
              0.5555555555555556,
              "#d8576b"
             ],
             [
              0.6666666666666666,
              "#ed7953"
             ],
             [
              0.7777777777777778,
              "#fb9f3a"
             ],
             [
              0.8888888888888888,
              "#fdca26"
             ],
             [
              1,
              "#f0f921"
             ]
            ],
            "type": "heatmapgl"
           }
          ],
          "histogram": [
           {
            "marker": {
             "pattern": {
              "fillmode": "overlay",
              "size": 10,
              "solidity": 0.2
             }
            },
            "type": "histogram"
           }
          ],
          "histogram2d": [
           {
            "colorbar": {
             "outlinewidth": 0,
             "ticks": ""
            },
            "colorscale": [
             [
              0,
              "#0d0887"
             ],
             [
              0.1111111111111111,
              "#46039f"
             ],
             [
              0.2222222222222222,
              "#7201a8"
             ],
             [
              0.3333333333333333,
              "#9c179e"
             ],
             [
              0.4444444444444444,
              "#bd3786"
             ],
             [
              0.5555555555555556,
              "#d8576b"
             ],
             [
              0.6666666666666666,
              "#ed7953"
             ],
             [
              0.7777777777777778,
              "#fb9f3a"
             ],
             [
              0.8888888888888888,
              "#fdca26"
             ],
             [
              1,
              "#f0f921"
             ]
            ],
            "type": "histogram2d"
           }
          ],
          "histogram2dcontour": [
           {
            "colorbar": {
             "outlinewidth": 0,
             "ticks": ""
            },
            "colorscale": [
             [
              0,
              "#0d0887"
             ],
             [
              0.1111111111111111,
              "#46039f"
             ],
             [
              0.2222222222222222,
              "#7201a8"
             ],
             [
              0.3333333333333333,
              "#9c179e"
             ],
             [
              0.4444444444444444,
              "#bd3786"
             ],
             [
              0.5555555555555556,
              "#d8576b"
             ],
             [
              0.6666666666666666,
              "#ed7953"
             ],
             [
              0.7777777777777778,
              "#fb9f3a"
             ],
             [
              0.8888888888888888,
              "#fdca26"
             ],
             [
              1,
              "#f0f921"
             ]
            ],
            "type": "histogram2dcontour"
           }
          ],
          "mesh3d": [
           {
            "colorbar": {
             "outlinewidth": 0,
             "ticks": ""
            },
            "type": "mesh3d"
           }
          ],
          "parcoords": [
           {
            "line": {
             "colorbar": {
              "outlinewidth": 0,
              "ticks": ""
             }
            },
            "type": "parcoords"
           }
          ],
          "pie": [
           {
            "automargin": true,
            "type": "pie"
           }
          ],
          "scatter": [
           {
            "fillpattern": {
             "fillmode": "overlay",
             "size": 10,
             "solidity": 0.2
            },
            "type": "scatter"
           }
          ],
          "scatter3d": [
           {
            "line": {
             "colorbar": {
              "outlinewidth": 0,
              "ticks": ""
             }
            },
            "marker": {
             "colorbar": {
              "outlinewidth": 0,
              "ticks": ""
             }
            },
            "type": "scatter3d"
           }
          ],
          "scattercarpet": [
           {
            "marker": {
             "colorbar": {
              "outlinewidth": 0,
              "ticks": ""
             }
            },
            "type": "scattercarpet"
           }
          ],
          "scattergeo": [
           {
            "marker": {
             "colorbar": {
              "outlinewidth": 0,
              "ticks": ""
             }
            },
            "type": "scattergeo"
           }
          ],
          "scattergl": [
           {
            "marker": {
             "colorbar": {
              "outlinewidth": 0,
              "ticks": ""
             }
            },
            "type": "scattergl"
           }
          ],
          "scattermapbox": [
           {
            "marker": {
             "colorbar": {
              "outlinewidth": 0,
              "ticks": ""
             }
            },
            "type": "scattermapbox"
           }
          ],
          "scatterpolar": [
           {
            "marker": {
             "colorbar": {
              "outlinewidth": 0,
              "ticks": ""
             }
            },
            "type": "scatterpolar"
           }
          ],
          "scatterpolargl": [
           {
            "marker": {
             "colorbar": {
              "outlinewidth": 0,
              "ticks": ""
             }
            },
            "type": "scatterpolargl"
           }
          ],
          "scatterternary": [
           {
            "marker": {
             "colorbar": {
              "outlinewidth": 0,
              "ticks": ""
             }
            },
            "type": "scatterternary"
           }
          ],
          "surface": [
           {
            "colorbar": {
             "outlinewidth": 0,
             "ticks": ""
            },
            "colorscale": [
             [
              0,
              "#0d0887"
             ],
             [
              0.1111111111111111,
              "#46039f"
             ],
             [
              0.2222222222222222,
              "#7201a8"
             ],
             [
              0.3333333333333333,
              "#9c179e"
             ],
             [
              0.4444444444444444,
              "#bd3786"
             ],
             [
              0.5555555555555556,
              "#d8576b"
             ],
             [
              0.6666666666666666,
              "#ed7953"
             ],
             [
              0.7777777777777778,
              "#fb9f3a"
             ],
             [
              0.8888888888888888,
              "#fdca26"
             ],
             [
              1,
              "#f0f921"
             ]
            ],
            "type": "surface"
           }
          ],
          "table": [
           {
            "cells": {
             "fill": {
              "color": "#EBF0F8"
             },
             "line": {
              "color": "white"
             }
            },
            "header": {
             "fill": {
              "color": "#C8D4E3"
             },
             "line": {
              "color": "white"
             }
            },
            "type": "table"
           }
          ]
         },
         "layout": {
          "annotationdefaults": {
           "arrowcolor": "#2a3f5f",
           "arrowhead": 0,
           "arrowwidth": 1
          },
          "autotypenumbers": "strict",
          "coloraxis": {
           "colorbar": {
            "outlinewidth": 0,
            "ticks": ""
           }
          },
          "colorscale": {
           "diverging": [
            [
             0,
             "#8e0152"
            ],
            [
             0.1,
             "#c51b7d"
            ],
            [
             0.2,
             "#de77ae"
            ],
            [
             0.3,
             "#f1b6da"
            ],
            [
             0.4,
             "#fde0ef"
            ],
            [
             0.5,
             "#f7f7f7"
            ],
            [
             0.6,
             "#e6f5d0"
            ],
            [
             0.7,
             "#b8e186"
            ],
            [
             0.8,
             "#7fbc41"
            ],
            [
             0.9,
             "#4d9221"
            ],
            [
             1,
             "#276419"
            ]
           ],
           "sequential": [
            [
             0,
             "#0d0887"
            ],
            [
             0.1111111111111111,
             "#46039f"
            ],
            [
             0.2222222222222222,
             "#7201a8"
            ],
            [
             0.3333333333333333,
             "#9c179e"
            ],
            [
             0.4444444444444444,
             "#bd3786"
            ],
            [
             0.5555555555555556,
             "#d8576b"
            ],
            [
             0.6666666666666666,
             "#ed7953"
            ],
            [
             0.7777777777777778,
             "#fb9f3a"
            ],
            [
             0.8888888888888888,
             "#fdca26"
            ],
            [
             1,
             "#f0f921"
            ]
           ],
           "sequentialminus": [
            [
             0,
             "#0d0887"
            ],
            [
             0.1111111111111111,
             "#46039f"
            ],
            [
             0.2222222222222222,
             "#7201a8"
            ],
            [
             0.3333333333333333,
             "#9c179e"
            ],
            [
             0.4444444444444444,
             "#bd3786"
            ],
            [
             0.5555555555555556,
             "#d8576b"
            ],
            [
             0.6666666666666666,
             "#ed7953"
            ],
            [
             0.7777777777777778,
             "#fb9f3a"
            ],
            [
             0.8888888888888888,
             "#fdca26"
            ],
            [
             1,
             "#f0f921"
            ]
           ]
          },
          "colorway": [
           "#636efa",
           "#EF553B",
           "#00cc96",
           "#ab63fa",
           "#FFA15A",
           "#19d3f3",
           "#FF6692",
           "#B6E880",
           "#FF97FF",
           "#FECB52"
          ],
          "font": {
           "color": "#2a3f5f"
          },
          "geo": {
           "bgcolor": "white",
           "lakecolor": "white",
           "landcolor": "#E5ECF6",
           "showlakes": true,
           "showland": true,
           "subunitcolor": "white"
          },
          "hoverlabel": {
           "align": "left"
          },
          "hovermode": "closest",
          "mapbox": {
           "style": "light"
          },
          "paper_bgcolor": "white",
          "plot_bgcolor": "#E5ECF6",
          "polar": {
           "angularaxis": {
            "gridcolor": "white",
            "linecolor": "white",
            "ticks": ""
           },
           "bgcolor": "#E5ECF6",
           "radialaxis": {
            "gridcolor": "white",
            "linecolor": "white",
            "ticks": ""
           }
          },
          "scene": {
           "xaxis": {
            "backgroundcolor": "#E5ECF6",
            "gridcolor": "white",
            "gridwidth": 2,
            "linecolor": "white",
            "showbackground": true,
            "ticks": "",
            "zerolinecolor": "white"
           },
           "yaxis": {
            "backgroundcolor": "#E5ECF6",
            "gridcolor": "white",
            "gridwidth": 2,
            "linecolor": "white",
            "showbackground": true,
            "ticks": "",
            "zerolinecolor": "white"
           },
           "zaxis": {
            "backgroundcolor": "#E5ECF6",
            "gridcolor": "white",
            "gridwidth": 2,
            "linecolor": "white",
            "showbackground": true,
            "ticks": "",
            "zerolinecolor": "white"
           }
          },
          "shapedefaults": {
           "line": {
            "color": "#2a3f5f"
           }
          },
          "ternary": {
           "aaxis": {
            "gridcolor": "white",
            "linecolor": "white",
            "ticks": ""
           },
           "baxis": {
            "gridcolor": "white",
            "linecolor": "white",
            "ticks": ""
           },
           "bgcolor": "#E5ECF6",
           "caxis": {
            "gridcolor": "white",
            "linecolor": "white",
            "ticks": ""
           }
          },
          "title": {
           "x": 0.05
          },
          "xaxis": {
           "automargin": true,
           "gridcolor": "white",
           "linecolor": "white",
           "ticks": "",
           "title": {
            "standoff": 15
           },
           "zerolinecolor": "white",
           "zerolinewidth": 2
          },
          "yaxis": {
           "automargin": true,
           "gridcolor": "white",
           "linecolor": "white",
           "ticks": "",
           "title": {
            "standoff": 15
           },
           "zerolinecolor": "white",
           "zerolinewidth": 2
          }
         }
        },
        "title": {
         "text": "Garbage Image Dataset Distribution"
        }
       }
      }
     },
     "metadata": {},
     "output_type": "display_data"
    }
   ],
   "source": [
    "sizes = [len(os.listdir(os.path.join(rootPath, class_name))) for class_name in class_names]\n",
    "\n",
    "fig = px.pie(\n",
    "    names=class_names,\n",
    "    values=sizes,\n",
    "    title=\"Garbage Image Dataset Distribution\",\n",
    "    color_discrete_sequence=px.colors.qualitative.Pastel\n",
    ")\n",
    "fig.show()\n"
   ]
  },
  {
   "cell_type": "code",
   "execution_count": 4,
   "metadata": {},
   "outputs": [
    {
     "name": "stdout",
     "output_type": "stream",
     "text": [
      "\n",
      "📁 DATASET YAPISI:\n",
      "Toplam kategori sayısı: 17\n",
      "Kategoriler: ['Microwave', 'paper', 'cardboard', 'Television', 'Player', 'plastic', 'trash', 'glass', 'Mouse', 'Keyboard', 'Washing Machine', 'Mobile', 'organic', 'PCB', 'metal', 'Battery', 'Printer']\n",
      "\n",
      "Toplam görüntü sayısı: 5427\n",
      "\n",
      "📊 KATEGORİ DAĞILIMI:\n",
      "       Category  Count  Percentage\n",
      "          paper    594   10.945274\n",
      "          glass    501    9.231620\n",
      "        organic    500    9.213193\n",
      "        plastic    482    8.881518\n",
      "          metal    410    7.554819\n",
      "      cardboard    403    7.425834\n",
      "      Microwave    240    4.422333\n",
      "         Player    240    4.422333\n",
      "     Television    240    4.422333\n",
      "         Mobile    240    4.422333\n",
      "          Mouse    240    4.422333\n",
      "Washing Machine    240    4.422333\n",
      "       Keyboard    240    4.422333\n",
      "        Battery    240    4.422333\n",
      "            PCB    240    4.422333\n",
      "        Printer    240    4.422333\n",
      "          trash    137    2.524415\n"
     ]
    }
   ],
   "source": [
    "print(\"\\n📁 DATASET YAPISI:\")\n",
    "print(f\"Toplam kategori sayısı: {len(class_names)}\")\n",
    "print(f\"Kategoriler: {class_names}\")\n",
    "\n",
    "category_data = []\n",
    "total_images = 0\n",
    "\n",
    "for class_name in class_names:\n",
    "    class_path = os.path.join(rootPath, class_name)\n",
    "    if os.path.isdir(class_path):\n",
    "   \n",
    "        image_extensions = ['.jpg', '.jpeg', '.png', '.bmp', '.gif', '.tiff']\n",
    "        image_files = [f for f in os.listdir(class_path) \n",
    "                      if any(f.lower().endswith(ext) for ext in image_extensions)]\n",
    "        count = len(image_files)\n",
    "        total_images += count\n",
    "        category_data.append({\n",
    "            'Category': class_name,\n",
    "            'Count': count,\n",
    "            'Percentage': 0  \n",
    "        })\n",
    "\n",
    "for item in category_data:\n",
    "    item['Percentage'] = (item['Count'] / total_images) * 100\n",
    "\n",
    "df = pd.DataFrame(category_data)\n",
    "df = df.sort_values('Count', ascending=False).reset_index(drop=True)\n",
    "\n",
    "print(f\"\\nToplam görüntü sayısı: {total_images}\")\n",
    "print(\"\\n📊 KATEGORİ DAĞILIMI:\")\n",
    "print(df.to_string(index=False))"
   ]
  },
  {
   "cell_type": "code",
   "execution_count": 12,
   "metadata": {},
   "outputs": [],
   "source": [
    "def undersample_class (class_dir,target_count = 400 , output_dir = None):\n",
    "    images = os.listdir(class_dir)\n",
    "    if len(images)>target_count:\n",
    "        selected = random.sample(images, target_count)\n",
    "    else:\n",
    "        selected = images\n",
    "    \n",
    "    if output_dir:\n",
    "        os.makedirs(output_dir, exist_ok=True)\n",
    "        for img in selected:\n",
    "            shutil.copy(os.path.join(class_dir, img), os.path.join(output_dir, img))\n",
    "    return selected\n",
    "\n",
    "\n",
    "\n"
   ]
  },
  {
   "cell_type": "code",
   "execution_count": 23,
   "metadata": {},
   "outputs": [],
   "source": [
    "\n",
    "datagen = ImageDataGenerator(\n",
    "    rotation_range=20,\n",
    "    width_shift_range=0.2,\n",
    "    height_shift_range=0.2,\n",
    "    shear_range=0.2,\n",
    "    zoom_range=0.2,\n",
    "    horizontal_flip=True,\n",
    "    fill_mode='nearest'  \n",
    ")\n",
    "\n",
    "def augment_images(class_dir, target_count=400, output_dir=None):\n",
    "    images = os.listdir(class_dir)\n",
    "    current_count = len(images)\n",
    "\n",
    "    if current_count >= target_count:\n",
    "        print(f\"Already have {current_count} images in {class_dir}, no augmentation needed.\")\n",
    "        return\n",
    "\n",
    "    if output_dir is None:\n",
    "        output_dir = class_dir\n",
    "\n",
    "    # Eğer output_dir ile class_dir aynı değilse dosyaları kopyala\n",
    "    if class_dir != output_dir:\n",
    "        if not os.path.exists(output_dir):\n",
    "            os.makedirs(output_dir)\n",
    "        for img in images:\n",
    "            src = os.path.join(class_dir, img)\n",
    "            dst = os.path.join(output_dir, img)\n",
    "            if not os.path.exists(dst):\n",
    "                shutil.copy(src, dst)\n",
    "\n",
    "    images = os.listdir(output_dir)  # output_dir içindeki dosyalar\n",
    "    current_count = len(images)\n",
    "    i = 0\n",
    "\n",
    "    while current_count + i < target_count:\n",
    "        img_name = np.random.choice(images)\n",
    "        path = os.path.join(output_dir, img_name)  # output_dir'den açıyoruz\n",
    "        img = Image.open(path).convert('RGB')\n",
    "        x = np.array(img)\n",
    "        x = x.reshape((1,) + x.shape)\n",
    "\n",
    "        # datagen ile augment edilmiş tek bir görüntü oluştur\n",
    "        for batch in datagen.flow(x,\n",
    "                                  batch_size=1,\n",
    "                                  save_to_dir=output_dir,\n",
    "                                  save_prefix='aug',\n",
    "                                  save_format='jpeg'):\n",
    "            i += 1\n",
    "            break\n"
   ]
  },
  {
   "cell_type": "code",
   "execution_count": 25,
   "metadata": {},
   "outputs": [
    {
     "name": "stdout",
     "output_type": "stream",
     "text": [
      "Copying Microwave_52.jpg to dataset/balanced_waste_images/Microwave\n",
      "Copying Microwave_295.jpg to dataset/balanced_waste_images/Microwave\n",
      "Copying Microwave_20.jpg to dataset/balanced_waste_images/Microwave\n",
      "Copying Microwave_196.jpg to dataset/balanced_waste_images/Microwave\n",
      "Copying Microwave_29.jpg to dataset/balanced_waste_images/Microwave\n",
      "Copying Microwave_93.jpg to dataset/balanced_waste_images/Microwave\n",
      "Copying Microwave_114.jpg to dataset/balanced_waste_images/Microwave\n",
      "Copying Microwave_48.jpg to dataset/balanced_waste_images/Microwave\n",
      "Copying Microwave_263.jpg to dataset/balanced_waste_images/Microwave\n",
      "Copying Microwave_205.jpg to dataset/balanced_waste_images/Microwave\n",
      "Copying Microwave_208.jpg to dataset/balanced_waste_images/Microwave\n",
      "Copying Microwave_119.jpg to dataset/balanced_waste_images/Microwave\n",
      "Copying Microwave_55.jpg to dataset/balanced_waste_images/Microwave\n",
      "Copying Microwave_217.jpg to dataset/balanced_waste_images/Microwave\n",
      "Copying Microwave_44.jpg to dataset/balanced_waste_images/Microwave\n",
      "Copying Microwave_132.jpg to dataset/balanced_waste_images/Microwave\n",
      "Copying Microwave_79.jpg to dataset/balanced_waste_images/Microwave\n",
      "Copying Microwave_28.jpg to dataset/balanced_waste_images/Microwave\n",
      "Copying Microwave_123.jpg to dataset/balanced_waste_images/Microwave\n",
      "Copying Microwave_43.jpg to dataset/balanced_waste_images/Microwave\n",
      "Copying Microwave_164.jpg to dataset/balanced_waste_images/Microwave\n",
      "Copying Microwave_46.jpg to dataset/balanced_waste_images/Microwave\n",
      "Copying Microwave_273.jpg to dataset/balanced_waste_images/Microwave\n",
      "Copying Microwave_98.jpg to dataset/balanced_waste_images/Microwave\n",
      "Copying Microwave_21.jpg to dataset/balanced_waste_images/Microwave\n",
      "Copying Microwave_218.jpg to dataset/balanced_waste_images/Microwave\n",
      "Copying Microwave_253.jpg to dataset/balanced_waste_images/Microwave\n",
      "Copying Microwave_57.jpg to dataset/balanced_waste_images/Microwave\n",
      "Copying Microwave_19.jpg to dataset/balanced_waste_images/Microwave\n",
      "Copying Microwave_171.jpg to dataset/balanced_waste_images/Microwave\n",
      "Copying Microwave_158.jpg to dataset/balanced_waste_images/Microwave\n",
      "Copying Microwave_134.jpg to dataset/balanced_waste_images/Microwave\n",
      "Copying Microwave_73.jpg to dataset/balanced_waste_images/Microwave\n",
      "Copying Microwave_35.jpg to dataset/balanced_waste_images/Microwave\n",
      "Copying Microwave_156.jpg to dataset/balanced_waste_images/Microwave\n",
      "Copying Microwave_209.jpg to dataset/balanced_waste_images/Microwave\n",
      "Copying Microwave_115.jpg to dataset/balanced_waste_images/Microwave\n",
      "Copying Microwave_117.jpg to dataset/balanced_waste_images/Microwave\n",
      "Copying Microwave_11.jpg to dataset/balanced_waste_images/Microwave\n",
      "Copying Microwave_161.jpg to dataset/balanced_waste_images/Microwave\n",
      "Copying Microwave_80.jpg to dataset/balanced_waste_images/Microwave\n",
      "Copying Microwave_50.jpg to dataset/balanced_waste_images/Microwave\n",
      "Copying Microwave_213.jpg to dataset/balanced_waste_images/Microwave\n",
      "Copying Microwave_237.jpg to dataset/balanced_waste_images/Microwave\n",
      "Copying Microwave_139.jpg to dataset/balanced_waste_images/Microwave\n",
      "Copying Microwave_297.jpg to dataset/balanced_waste_images/Microwave\n",
      "Copying Microwave_141.jpg to dataset/balanced_waste_images/Microwave\n",
      "Copying Microwave_27.jpg to dataset/balanced_waste_images/Microwave\n",
      "Copying Microwave_288.jpg to dataset/balanced_waste_images/Microwave\n",
      "Copying Microwave_206.jpg to dataset/balanced_waste_images/Microwave\n",
      "Copying Microwave_172.jpg to dataset/balanced_waste_images/Microwave\n",
      "Copying Microwave_127.jpg to dataset/balanced_waste_images/Microwave\n",
      "Copying Microwave_220.jpg to dataset/balanced_waste_images/Microwave\n",
      "Copying Microwave_63.jpg to dataset/balanced_waste_images/Microwave\n",
      "Copying Microwave_159.jpg to dataset/balanced_waste_images/Microwave\n",
      "Copying Microwave_285.jpg to dataset/balanced_waste_images/Microwave\n",
      "Copying Microwave_153.jpg to dataset/balanced_waste_images/Microwave\n",
      "Copying Microwave_12.jpg to dataset/balanced_waste_images/Microwave\n",
      "Copying Microwave_214.jpg to dataset/balanced_waste_images/Microwave\n",
      "Copying Microwave_102.jpg to dataset/balanced_waste_images/Microwave\n",
      "Copying Microwave_68.jpg to dataset/balanced_waste_images/Microwave\n",
      "Copying Microwave_232.jpg to dataset/balanced_waste_images/Microwave\n",
      "Copying Microwave_8.jpg to dataset/balanced_waste_images/Microwave\n",
      "Copying Microwave_203.jpg to dataset/balanced_waste_images/Microwave\n",
      "Copying Microwave_250.jpg to dataset/balanced_waste_images/Microwave\n",
      "Copying Microwave_26.jpg to dataset/balanced_waste_images/Microwave\n",
      "Copying Microwave_38.jpg to dataset/balanced_waste_images/Microwave\n",
      "Copying Microwave_298.jpg to dataset/balanced_waste_images/Microwave\n",
      "Copying Microwave_154.jpg to dataset/balanced_waste_images/Microwave\n",
      "Copying Microwave_180.jpg to dataset/balanced_waste_images/Microwave\n",
      "Copying Microwave_77.jpg to dataset/balanced_waste_images/Microwave\n",
      "Copying Microwave_262.jpg to dataset/balanced_waste_images/Microwave\n",
      "Copying Microwave_91.jpg to dataset/balanced_waste_images/Microwave\n",
      "Copying Microwave_291.jpg to dataset/balanced_waste_images/Microwave\n",
      "Copying Microwave_175.jpg to dataset/balanced_waste_images/Microwave\n",
      "Copying Microwave_3.jpg to dataset/balanced_waste_images/Microwave\n",
      "Copying Microwave_173.jpg to dataset/balanced_waste_images/Microwave\n",
      "Copying Microwave_47.jpg to dataset/balanced_waste_images/Microwave\n",
      "Copying Microwave_162.jpg to dataset/balanced_waste_images/Microwave\n",
      "Copying Microwave_110.jpg to dataset/balanced_waste_images/Microwave\n",
      "Copying Microwave_176.jpg to dataset/balanced_waste_images/Microwave\n",
      "Copying Microwave_67.jpg to dataset/balanced_waste_images/Microwave\n",
      "Copying Microwave_71.jpg to dataset/balanced_waste_images/Microwave\n",
      "Copying Microwave_74.jpg to dataset/balanced_waste_images/Microwave\n",
      "Copying Microwave_78.jpg to dataset/balanced_waste_images/Microwave\n",
      "Copying Microwave_157.jpg to dataset/balanced_waste_images/Microwave\n",
      "Copying Microwave_160.jpg to dataset/balanced_waste_images/Microwave\n",
      "Copying Microwave_45.jpg to dataset/balanced_waste_images/Microwave\n",
      "Copying Microwave_13.jpg to dataset/balanced_waste_images/Microwave\n",
      "Copying Microwave_257.jpg to dataset/balanced_waste_images/Microwave\n",
      "Copying Microwave_15.jpg to dataset/balanced_waste_images/Microwave\n",
      "Copying Microwave_194.jpg to dataset/balanced_waste_images/Microwave\n",
      "Copying Microwave_49.jpg to dataset/balanced_waste_images/Microwave\n",
      "Copying Microwave_85.jpg to dataset/balanced_waste_images/Microwave\n",
      "Copying Microwave_293.jpg to dataset/balanced_waste_images/Microwave\n",
      "Copying Microwave_104.jpg to dataset/balanced_waste_images/Microwave\n",
      "Copying Microwave_112.jpg to dataset/balanced_waste_images/Microwave\n",
      "Copying Microwave_216.jpg to dataset/balanced_waste_images/Microwave\n",
      "Copying Microwave_210.jpg to dataset/balanced_waste_images/Microwave\n",
      "Copying Microwave_230.jpg to dataset/balanced_waste_images/Microwave\n",
      "Copying Microwave_258.jpg to dataset/balanced_waste_images/Microwave\n",
      "Copying Microwave_248.jpg to dataset/balanced_waste_images/Microwave\n",
      "Copying Microwave_116.jpg to dataset/balanced_waste_images/Microwave\n",
      "Copying Microwave_207.jpg to dataset/balanced_waste_images/Microwave\n",
      "Copying Microwave_184.jpg to dataset/balanced_waste_images/Microwave\n",
      "Copying Microwave_299.jpg to dataset/balanced_waste_images/Microwave\n",
      "Copying Microwave_87.jpg to dataset/balanced_waste_images/Microwave\n",
      "Copying Microwave_70.jpg to dataset/balanced_waste_images/Microwave\n",
      "Copying Microwave_131.jpg to dataset/balanced_waste_images/Microwave\n",
      "Copying Microwave_178.jpg to dataset/balanced_waste_images/Microwave\n",
      "Copying Microwave_0.jpg to dataset/balanced_waste_images/Microwave\n",
      "Copying Microwave_31.jpg to dataset/balanced_waste_images/Microwave\n",
      "Copying Microwave_30.jpg to dataset/balanced_waste_images/Microwave\n",
      "Copying Microwave_96.jpg to dataset/balanced_waste_images/Microwave\n",
      "Copying Microwave_9.jpg to dataset/balanced_waste_images/Microwave\n",
      "Copying Microwave_25.jpg to dataset/balanced_waste_images/Microwave\n",
      "Copying Microwave_142.jpg to dataset/balanced_waste_images/Microwave\n",
      "Copying Microwave_269.jpg to dataset/balanced_waste_images/Microwave\n",
      "Copying Microwave_32.jpg to dataset/balanced_waste_images/Microwave\n",
      "Copying Microwave_215.jpg to dataset/balanced_waste_images/Microwave\n",
      "Copying Microwave_290.jpg to dataset/balanced_waste_images/Microwave\n",
      "Copying Microwave_261.jpg to dataset/balanced_waste_images/Microwave\n",
      "Copying Microwave_17.jpg to dataset/balanced_waste_images/Microwave\n",
      "Copying Microwave_249.jpg to dataset/balanced_waste_images/Microwave\n",
      "Copying Microwave_238.jpg to dataset/balanced_waste_images/Microwave\n",
      "Copying Microwave_111.jpg to dataset/balanced_waste_images/Microwave\n",
      "Copying Microwave_254.jpg to dataset/balanced_waste_images/Microwave\n",
      "Copying Microwave_244.jpg to dataset/balanced_waste_images/Microwave\n",
      "Copying Microwave_287.jpg to dataset/balanced_waste_images/Microwave\n",
      "Copying Microwave_188.jpg to dataset/balanced_waste_images/Microwave\n",
      "Copying Microwave_124.jpg to dataset/balanced_waste_images/Microwave\n",
      "Copying Microwave_234.jpg to dataset/balanced_waste_images/Microwave\n",
      "Copying Microwave_252.jpg to dataset/balanced_waste_images/Microwave\n",
      "Copying Microwave_167.jpg to dataset/balanced_waste_images/Microwave\n",
      "Copying Microwave_283.jpg to dataset/balanced_waste_images/Microwave\n",
      "Copying Microwave_197.jpg to dataset/balanced_waste_images/Microwave\n",
      "Copying Microwave_56.jpg to dataset/balanced_waste_images/Microwave\n",
      "Copying Microwave_243.jpg to dataset/balanced_waste_images/Microwave\n",
      "Copying Microwave_7.jpg to dataset/balanced_waste_images/Microwave\n",
      "Copying Microwave_121.jpg to dataset/balanced_waste_images/Microwave\n",
      "Copying Microwave_36.jpg to dataset/balanced_waste_images/Microwave\n",
      "Copying Microwave_60.jpg to dataset/balanced_waste_images/Microwave\n",
      "Copying Microwave_155.jpg to dataset/balanced_waste_images/Microwave\n",
      "Copying Microwave_201.jpg to dataset/balanced_waste_images/Microwave\n",
      "Copying Microwave_76.jpg to dataset/balanced_waste_images/Microwave\n",
      "Copying Microwave_136.jpg to dataset/balanced_waste_images/Microwave\n",
      "Copying Microwave_120.jpg to dataset/balanced_waste_images/Microwave\n",
      "Copying Microwave_276.jpg to dataset/balanced_waste_images/Microwave\n",
      "Copying Microwave_109.jpg to dataset/balanced_waste_images/Microwave\n",
      "Copying Microwave_227.jpg to dataset/balanced_waste_images/Microwave\n",
      "Copying Microwave_181.jpg to dataset/balanced_waste_images/Microwave\n",
      "Copying Microwave_54.jpg to dataset/balanced_waste_images/Microwave\n",
      "Copying Microwave_138.jpg to dataset/balanced_waste_images/Microwave\n",
      "Copying Microwave_143.jpg to dataset/balanced_waste_images/Microwave\n",
      "Copying Microwave_94.jpg to dataset/balanced_waste_images/Microwave\n",
      "Copying Microwave_199.jpg to dataset/balanced_waste_images/Microwave\n",
      "Copying Microwave_89.jpg to dataset/balanced_waste_images/Microwave\n",
      "Copying Microwave_2.jpg to dataset/balanced_waste_images/Microwave\n",
      "Copying Microwave_137.jpg to dataset/balanced_waste_images/Microwave\n",
      "Copying Microwave_33.jpg to dataset/balanced_waste_images/Microwave\n",
      "Copying Microwave_10.jpg to dataset/balanced_waste_images/Microwave\n",
      "Copying Microwave_272.jpg to dataset/balanced_waste_images/Microwave\n",
      "Copying Microwave_170.jpg to dataset/balanced_waste_images/Microwave\n",
      "Copying Microwave_195.jpg to dataset/balanced_waste_images/Microwave\n",
      "Copying Microwave_166.jpg to dataset/balanced_waste_images/Microwave\n",
      "Copying Microwave_5.jpg to dataset/balanced_waste_images/Microwave\n",
      "Copying Microwave_271.jpg to dataset/balanced_waste_images/Microwave\n",
      "Copying Microwave_281.jpg to dataset/balanced_waste_images/Microwave\n",
      "Copying Microwave_39.jpg to dataset/balanced_waste_images/Microwave\n",
      "Copying Microwave_204.jpg to dataset/balanced_waste_images/Microwave\n",
      "Copying Microwave_256.jpg to dataset/balanced_waste_images/Microwave\n",
      "Copying Microwave_149.jpg to dataset/balanced_waste_images/Microwave\n",
      "Copying Microwave_16.jpg to dataset/balanced_waste_images/Microwave\n",
      "Copying Microwave_126.jpg to dataset/balanced_waste_images/Microwave\n",
      "Copying Microwave_278.jpg to dataset/balanced_waste_images/Microwave\n",
      "Copying Microwave_42.jpg to dataset/balanced_waste_images/Microwave\n",
      "Copying Microwave_274.jpg to dataset/balanced_waste_images/Microwave\n",
      "Copying Microwave_86.jpg to dataset/balanced_waste_images/Microwave\n",
      "Copying Microwave_90.jpg to dataset/balanced_waste_images/Microwave\n",
      "Copying Microwave_193.jpg to dataset/balanced_waste_images/Microwave\n",
      "Copying Microwave_69.jpg to dataset/balanced_waste_images/Microwave\n",
      "Copying Microwave_82.jpg to dataset/balanced_waste_images/Microwave\n",
      "Copying Microwave_53.jpg to dataset/balanced_waste_images/Microwave\n",
      "Copying Microwave_151.jpg to dataset/balanced_waste_images/Microwave\n",
      "Copying Microwave_289.jpg to dataset/balanced_waste_images/Microwave\n",
      "Copying Microwave_245.jpg to dataset/balanced_waste_images/Microwave\n",
      "Copying Microwave_144.jpg to dataset/balanced_waste_images/Microwave\n",
      "Copying Microwave_133.jpg to dataset/balanced_waste_images/Microwave\n",
      "Copying Microwave_64.jpg to dataset/balanced_waste_images/Microwave\n",
      "Copying Microwave_246.jpg to dataset/balanced_waste_images/Microwave\n",
      "Copying Microwave_221.jpg to dataset/balanced_waste_images/Microwave\n",
      "Copying Microwave_14.jpg to dataset/balanced_waste_images/Microwave\n",
      "Copying Microwave_296.jpg to dataset/balanced_waste_images/Microwave\n",
      "Copying Microwave_41.jpg to dataset/balanced_waste_images/Microwave\n",
      "Copying Microwave_140.jpg to dataset/balanced_waste_images/Microwave\n",
      "Copying Microwave_228.jpg to dataset/balanced_waste_images/Microwave\n",
      "Copying Microwave_225.jpg to dataset/balanced_waste_images/Microwave\n",
      "Copying Microwave_182.jpg to dataset/balanced_waste_images/Microwave\n",
      "Copying Microwave_165.jpg to dataset/balanced_waste_images/Microwave\n",
      "Copying Microwave_168.jpg to dataset/balanced_waste_images/Microwave\n",
      "Copying Microwave_235.jpg to dataset/balanced_waste_images/Microwave\n",
      "Copying Microwave_6.jpg to dataset/balanced_waste_images/Microwave\n",
      "Copying Microwave_223.jpg to dataset/balanced_waste_images/Microwave\n",
      "Copying Microwave_191.jpg to dataset/balanced_waste_images/Microwave\n",
      "Copying Microwave_125.jpg to dataset/balanced_waste_images/Microwave\n",
      "Copying Microwave_186.jpg to dataset/balanced_waste_images/Microwave\n",
      "Copying Microwave_135.jpg to dataset/balanced_waste_images/Microwave\n",
      "Copying Microwave_107.jpg to dataset/balanced_waste_images/Microwave\n",
      "Copying Microwave_163.jpg to dataset/balanced_waste_images/Microwave\n",
      "Copying Microwave_18.jpg to dataset/balanced_waste_images/Microwave\n",
      "Copying Microwave_101.jpg to dataset/balanced_waste_images/Microwave\n",
      "Copying Microwave_202.jpg to dataset/balanced_waste_images/Microwave\n",
      "Copying Microwave_240.jpg to dataset/balanced_waste_images/Microwave\n",
      "Copying Microwave_183.jpg to dataset/balanced_waste_images/Microwave\n",
      "Copying Microwave_100.jpg to dataset/balanced_waste_images/Microwave\n",
      "Copying Microwave_179.jpg to dataset/balanced_waste_images/Microwave\n",
      "Copying Microwave_84.jpg to dataset/balanced_waste_images/Microwave\n",
      "Copying Microwave_270.jpg to dataset/balanced_waste_images/Microwave\n",
      "Copying Microwave_292.jpg to dataset/balanced_waste_images/Microwave\n",
      "Copying Microwave_72.jpg to dataset/balanced_waste_images/Microwave\n",
      "Copying Microwave_62.jpg to dataset/balanced_waste_images/Microwave\n",
      "Copying Microwave_51.jpg to dataset/balanced_waste_images/Microwave\n",
      "Copying Microwave_145.jpg to dataset/balanced_waste_images/Microwave\n",
      "Copying Microwave_255.jpg to dataset/balanced_waste_images/Microwave\n",
      "Copying Microwave_81.jpg to dataset/balanced_waste_images/Microwave\n",
      "Copying Microwave_113.jpg to dataset/balanced_waste_images/Microwave\n",
      "Copying Microwave_58.jpg to dataset/balanced_waste_images/Microwave\n",
      "Copying Microwave_200.jpg to dataset/balanced_waste_images/Microwave\n",
      "Copying Microwave_185.jpg to dataset/balanced_waste_images/Microwave\n",
      "Copying Microwave_1.jpg to dataset/balanced_waste_images/Microwave\n",
      "Copying Microwave_233.jpg to dataset/balanced_waste_images/Microwave\n",
      "Copying Microwave_236.jpg to dataset/balanced_waste_images/Microwave\n",
      "Copying Microwave_222.jpg to dataset/balanced_waste_images/Microwave\n",
      "Copying Microwave_59.jpg to dataset/balanced_waste_images/Microwave\n",
      "Copying Microwave_97.jpg to dataset/balanced_waste_images/Microwave\n",
      "Copying Microwave_231.jpg to dataset/balanced_waste_images/Microwave\n",
      "Copying Microwave_219.jpg to dataset/balanced_waste_images/Microwave\n",
      "Copying Microwave_212.jpg to dataset/balanced_waste_images/Microwave\n",
      "Copying Microwave_187.jpg to dataset/balanced_waste_images/Microwave\n",
      "Copying Microwave_268.jpg to dataset/balanced_waste_images/Microwave\n",
      "Copying Television_199.jpg to dataset/balanced_waste_images/Television\n",
      "Copying Television_138.jpg to dataset/balanced_waste_images/Television\n",
      "Copying Television_53.jpg to dataset/balanced_waste_images/Television\n",
      "Copying Television_187.jpg to dataset/balanced_waste_images/Television\n",
      "Copying Television_165.jpg to dataset/balanced_waste_images/Television\n",
      "Copying Television_218.jpg to dataset/balanced_waste_images/Television\n",
      "Copying Television_296.jpg to dataset/balanced_waste_images/Television\n",
      "Copying Television_240.jpg to dataset/balanced_waste_images/Television\n",
      "Copying Television_298.jpg to dataset/balanced_waste_images/Television\n",
      "Copying Television_154.jpg to dataset/balanced_waste_images/Television\n",
      "Copying Television_32.jpg to dataset/balanced_waste_images/Television\n",
      "Copying Television_208.jpg to dataset/balanced_waste_images/Television\n",
      "Copying Television_9.jpg to dataset/balanced_waste_images/Television\n",
      "Copying Television_14.jpg to dataset/balanced_waste_images/Television\n",
      "Copying Television_76.jpg to dataset/balanced_waste_images/Television\n",
      "Copying Television_153.jpg to dataset/balanced_waste_images/Television\n",
      "Copying Television_84.jpg to dataset/balanced_waste_images/Television\n",
      "Copying Television_202.jpg to dataset/balanced_waste_images/Television\n",
      "Copying Television_201.jpg to dataset/balanced_waste_images/Television\n",
      "Copying Television_43.jpg to dataset/balanced_waste_images/Television\n",
      "Copying Television_223.jpg to dataset/balanced_waste_images/Television\n",
      "Copying Television_54.jpg to dataset/balanced_waste_images/Television\n",
      "Copying Television_42.jpg to dataset/balanced_waste_images/Television\n",
      "Copying Television_250.jpg to dataset/balanced_waste_images/Television\n",
      "Copying Television_26.jpg to dataset/balanced_waste_images/Television\n",
      "Copying Television_141.jpg to dataset/balanced_waste_images/Television\n",
      "Copying Television_113.jpg to dataset/balanced_waste_images/Television\n",
      "Copying Television_176.jpg to dataset/balanced_waste_images/Television\n",
      "Copying Television_96.jpg to dataset/balanced_waste_images/Television\n",
      "Copying Television_74.jpg to dataset/balanced_waste_images/Television\n",
      "Copying Television_100.jpg to dataset/balanced_waste_images/Television\n",
      "Copying Television_85.jpg to dataset/balanced_waste_images/Television\n",
      "Copying Television_171.jpg to dataset/balanced_waste_images/Television\n",
      "Copying Television_212.jpg to dataset/balanced_waste_images/Television\n",
      "Copying Television_289.jpg to dataset/balanced_waste_images/Television\n",
      "Copying Television_98.jpg to dataset/balanced_waste_images/Television\n",
      "Copying Television_3.jpg to dataset/balanced_waste_images/Television\n",
      "Copying Television_1.jpg to dataset/balanced_waste_images/Television\n",
      "Copying Television_25.jpg to dataset/balanced_waste_images/Television\n",
      "Copying Television_38.jpg to dataset/balanced_waste_images/Television\n",
      "Copying Television_15.jpg to dataset/balanced_waste_images/Television\n",
      "Copying Television_107.jpg to dataset/balanced_waste_images/Television\n",
      "Copying Television_173.jpg to dataset/balanced_waste_images/Television\n",
      "Copying Television_136.jpg to dataset/balanced_waste_images/Television\n",
      "Copying Television_186.jpg to dataset/balanced_waste_images/Television\n",
      "Copying Television_117.jpg to dataset/balanced_waste_images/Television\n",
      "Copying Television_6.jpg to dataset/balanced_waste_images/Television\n",
      "Copying Television_87.jpg to dataset/balanced_waste_images/Television\n",
      "Copying Television_125.jpg to dataset/balanced_waste_images/Television\n",
      "Copying Television_0.jpg to dataset/balanced_waste_images/Television\n",
      "Copying Television_283.jpg to dataset/balanced_waste_images/Television\n",
      "Copying Television_299.jpg to dataset/balanced_waste_images/Television\n",
      "Copying Television_184.jpg to dataset/balanced_waste_images/Television\n",
      "Copying Television_28.jpg to dataset/balanced_waste_images/Television\n",
      "Copying Television_10.jpg to dataset/balanced_waste_images/Television\n",
      "Copying Television_49.jpg to dataset/balanced_waste_images/Television\n",
      "Copying Television_164.jpg to dataset/balanced_waste_images/Television\n",
      "Copying Television_261.jpg to dataset/balanced_waste_images/Television\n",
      "Copying Television_188.jpg to dataset/balanced_waste_images/Television\n",
      "Copying Television_204.jpg to dataset/balanced_waste_images/Television\n",
      "Copying Television_7.jpg to dataset/balanced_waste_images/Television\n",
      "Copying Television_97.jpg to dataset/balanced_waste_images/Television\n",
      "Copying Television_30.jpg to dataset/balanced_waste_images/Television\n",
      "Copying Television_45.jpg to dataset/balanced_waste_images/Television\n",
      "Copying Television_82.jpg to dataset/balanced_waste_images/Television\n",
      "Copying Television_206.jpg to dataset/balanced_waste_images/Television\n",
      "Copying Television_56.jpg to dataset/balanced_waste_images/Television\n",
      "Copying Television_140.jpg to dataset/balanced_waste_images/Television\n",
      "Copying Television_139.jpg to dataset/balanced_waste_images/Television\n",
      "Copying Television_214.jpg to dataset/balanced_waste_images/Television\n",
      "Copying Television_290.jpg to dataset/balanced_waste_images/Television\n",
      "Copying Television_172.jpg to dataset/balanced_waste_images/Television\n",
      "Copying Television_163.jpg to dataset/balanced_waste_images/Television\n",
      "Copying Television_161.jpg to dataset/balanced_waste_images/Television\n",
      "Copying Television_253.jpg to dataset/balanced_waste_images/Television\n",
      "Copying Television_149.jpg to dataset/balanced_waste_images/Television\n",
      "Copying Television_235.jpg to dataset/balanced_waste_images/Television\n",
      "Copying Television_73.jpg to dataset/balanced_waste_images/Television\n",
      "Copying Television_252.jpg to dataset/balanced_waste_images/Television\n",
      "Copying Television_216.jpg to dataset/balanced_waste_images/Television\n",
      "Copying Television_256.jpg to dataset/balanced_waste_images/Television\n",
      "Copying Television_274.jpg to dataset/balanced_waste_images/Television\n",
      "Copying Television_120.jpg to dataset/balanced_waste_images/Television\n",
      "Copying Television_170.jpg to dataset/balanced_waste_images/Television\n",
      "Copying Television_58.jpg to dataset/balanced_waste_images/Television\n",
      "Copying Television_35.jpg to dataset/balanced_waste_images/Television\n",
      "Copying Television_20.jpg to dataset/balanced_waste_images/Television\n",
      "Copying Television_48.jpg to dataset/balanced_waste_images/Television\n",
      "Copying Television_210.jpg to dataset/balanced_waste_images/Television\n",
      "Copying Television_67.jpg to dataset/balanced_waste_images/Television\n",
      "Copying Television_116.jpg to dataset/balanced_waste_images/Television\n",
      "Copying Television_60.jpg to dataset/balanced_waste_images/Television\n",
      "Copying Television_217.jpg to dataset/balanced_waste_images/Television\n",
      "Copying Television_183.jpg to dataset/balanced_waste_images/Television\n",
      "Copying Television_68.jpg to dataset/balanced_waste_images/Television\n",
      "Copying Television_11.jpg to dataset/balanced_waste_images/Television\n",
      "Copying Television_19.jpg to dataset/balanced_waste_images/Television\n",
      "Copying Television_179.jpg to dataset/balanced_waste_images/Television\n",
      "Copying Television_160.jpg to dataset/balanced_waste_images/Television\n",
      "Copying Television_234.jpg to dataset/balanced_waste_images/Television\n",
      "Copying Television_292.jpg to dataset/balanced_waste_images/Television\n",
      "Copying Television_293.jpg to dataset/balanced_waste_images/Television\n",
      "Copying Television_80.jpg to dataset/balanced_waste_images/Television\n",
      "Copying Television_115.jpg to dataset/balanced_waste_images/Television\n",
      "Copying Television_228.jpg to dataset/balanced_waste_images/Television\n",
      "Copying Television_36.jpg to dataset/balanced_waste_images/Television\n",
      "Copying Television_29.jpg to dataset/balanced_waste_images/Television\n",
      "Copying Television_151.jpg to dataset/balanced_waste_images/Television\n",
      "Copying Television_162.jpg to dataset/balanced_waste_images/Television\n",
      "Copying Television_102.jpg to dataset/balanced_waste_images/Television\n",
      "Copying Television_16.jpg to dataset/balanced_waste_images/Television\n",
      "Copying Television_166.jpg to dataset/balanced_waste_images/Television\n",
      "Copying Television_205.jpg to dataset/balanced_waste_images/Television\n",
      "Copying Television_71.jpg to dataset/balanced_waste_images/Television\n",
      "Copying Television_227.jpg to dataset/balanced_waste_images/Television\n",
      "Copying Television_158.jpg to dataset/balanced_waste_images/Television\n",
      "Copying Television_244.jpg to dataset/balanced_waste_images/Television\n",
      "Copying Television_33.jpg to dataset/balanced_waste_images/Television\n",
      "Copying Television_12.jpg to dataset/balanced_waste_images/Television\n",
      "Copying Television_281.jpg to dataset/balanced_waste_images/Television\n",
      "Copying Television_2.jpg to dataset/balanced_waste_images/Television\n",
      "Copying Television_175.jpg to dataset/balanced_waste_images/Television\n",
      "Copying Television_50.jpg to dataset/balanced_waste_images/Television\n",
      "Copying Television_69.jpg to dataset/balanced_waste_images/Television\n",
      "Copying Television_5.jpg to dataset/balanced_waste_images/Television\n",
      "Copying Television_271.jpg to dataset/balanced_waste_images/Television\n",
      "Copying Television_31.jpg to dataset/balanced_waste_images/Television\n",
      "Copying Television_47.jpg to dataset/balanced_waste_images/Television\n",
      "Copying Television_196.jpg to dataset/balanced_waste_images/Television\n",
      "Copying Television_72.jpg to dataset/balanced_waste_images/Television\n",
      "Copying Television_142.jpg to dataset/balanced_waste_images/Television\n",
      "Copying Television_8.jpg to dataset/balanced_waste_images/Television\n",
      "Copying Television_133.jpg to dataset/balanced_waste_images/Television\n",
      "Copying Television_209.jpg to dataset/balanced_waste_images/Television\n",
      "Copying Television_86.jpg to dataset/balanced_waste_images/Television\n",
      "Copying Television_178.jpg to dataset/balanced_waste_images/Television\n",
      "Copying Television_109.jpg to dataset/balanced_waste_images/Television\n",
      "Copying Television_143.jpg to dataset/balanced_waste_images/Television\n",
      "Copying Television_255.jpg to dataset/balanced_waste_images/Television\n",
      "Copying Television_276.jpg to dataset/balanced_waste_images/Television\n",
      "Copying Television_89.jpg to dataset/balanced_waste_images/Television\n",
      "Copying Television_288.jpg to dataset/balanced_waste_images/Television\n",
      "Copying Television_246.jpg to dataset/balanced_waste_images/Television\n",
      "Copying Television_159.jpg to dataset/balanced_waste_images/Television\n",
      "Copying Television_62.jpg to dataset/balanced_waste_images/Television\n",
      "Copying Television_221.jpg to dataset/balanced_waste_images/Television\n",
      "Copying Television_182.jpg to dataset/balanced_waste_images/Television\n",
      "Copying Television_285.jpg to dataset/balanced_waste_images/Television\n",
      "Copying Television_297.jpg to dataset/balanced_waste_images/Television\n",
      "Copying Television_93.jpg to dataset/balanced_waste_images/Television\n",
      "Copying Television_101.jpg to dataset/balanced_waste_images/Television\n",
      "Copying Television_257.jpg to dataset/balanced_waste_images/Television\n",
      "Copying Television_270.jpg to dataset/balanced_waste_images/Television\n",
      "Copying Television_291.jpg to dataset/balanced_waste_images/Television\n",
      "Copying Television_127.jpg to dataset/balanced_waste_images/Television\n",
      "Copying Television_78.jpg to dataset/balanced_waste_images/Television\n",
      "Copying Television_197.jpg to dataset/balanced_waste_images/Television\n",
      "Copying Television_233.jpg to dataset/balanced_waste_images/Television\n",
      "Copying Television_17.jpg to dataset/balanced_waste_images/Television\n",
      "Copying Television_104.jpg to dataset/balanced_waste_images/Television\n",
      "Copying Television_131.jpg to dataset/balanced_waste_images/Television\n",
      "Copying Television_70.jpg to dataset/balanced_waste_images/Television\n",
      "Copying Television_51.jpg to dataset/balanced_waste_images/Television\n",
      "Copying Television_134.jpg to dataset/balanced_waste_images/Television\n",
      "Copying Television_77.jpg to dataset/balanced_waste_images/Television\n",
      "Copying Television_238.jpg to dataset/balanced_waste_images/Television\n",
      "Copying Television_156.jpg to dataset/balanced_waste_images/Television\n",
      "Copying Television_144.jpg to dataset/balanced_waste_images/Television\n",
      "Copying Television_112.jpg to dataset/balanced_waste_images/Television\n",
      "Copying Television_145.jpg to dataset/balanced_waste_images/Television\n",
      "Copying Television_59.jpg to dataset/balanced_waste_images/Television\n",
      "Copying Television_119.jpg to dataset/balanced_waste_images/Television\n",
      "Copying Television_123.jpg to dataset/balanced_waste_images/Television\n",
      "Copying Television_268.jpg to dataset/balanced_waste_images/Television\n",
      "Copying Television_79.jpg to dataset/balanced_waste_images/Television\n",
      "Copying Television_137.jpg to dataset/balanced_waste_images/Television\n",
      "Copying Television_167.jpg to dataset/balanced_waste_images/Television\n",
      "Copying Television_278.jpg to dataset/balanced_waste_images/Television\n",
      "Copying Television_215.jpg to dataset/balanced_waste_images/Television\n",
      "Copying Television_180.jpg to dataset/balanced_waste_images/Television\n",
      "Copying Television_213.jpg to dataset/balanced_waste_images/Television\n",
      "Copying Television_64.jpg to dataset/balanced_waste_images/Television\n",
      "Copying Television_232.jpg to dataset/balanced_waste_images/Television\n",
      "Copying Television_185.jpg to dataset/balanced_waste_images/Television\n",
      "Copying Television_203.jpg to dataset/balanced_waste_images/Television\n",
      "Copying Television_193.jpg to dataset/balanced_waste_images/Television\n",
      "Copying Television_90.jpg to dataset/balanced_waste_images/Television\n",
      "Copying Television_287.jpg to dataset/balanced_waste_images/Television\n",
      "Copying Television_243.jpg to dataset/balanced_waste_images/Television\n",
      "Copying Television_272.jpg to dataset/balanced_waste_images/Television\n",
      "Copying Television_181.jpg to dataset/balanced_waste_images/Television\n",
      "Copying Television_219.jpg to dataset/balanced_waste_images/Television\n",
      "Copying Television_41.jpg to dataset/balanced_waste_images/Television\n",
      "Copying Television_110.jpg to dataset/balanced_waste_images/Television\n",
      "Copying Television_269.jpg to dataset/balanced_waste_images/Television\n",
      "Copying Television_126.jpg to dataset/balanced_waste_images/Television\n",
      "Copying Television_263.jpg to dataset/balanced_waste_images/Television\n",
      "Copying Television_44.jpg to dataset/balanced_waste_images/Television\n",
      "Copying Television_132.jpg to dataset/balanced_waste_images/Television\n",
      "Copying Television_18.jpg to dataset/balanced_waste_images/Television\n",
      "Copying Television_124.jpg to dataset/balanced_waste_images/Television\n",
      "Copying Television_46.jpg to dataset/balanced_waste_images/Television\n",
      "Copying Television_111.jpg to dataset/balanced_waste_images/Television\n",
      "Copying Television_168.jpg to dataset/balanced_waste_images/Television\n",
      "Copying Television_57.jpg to dataset/balanced_waste_images/Television\n",
      "Copying Television_135.jpg to dataset/balanced_waste_images/Television\n",
      "Copying Television_258.jpg to dataset/balanced_waste_images/Television\n",
      "Copying Television_155.jpg to dataset/balanced_waste_images/Television\n",
      "Copying Television_55.jpg to dataset/balanced_waste_images/Television\n",
      "Copying Television_81.jpg to dataset/balanced_waste_images/Television\n",
      "Copying Television_273.jpg to dataset/balanced_waste_images/Television\n",
      "Copying Television_236.jpg to dataset/balanced_waste_images/Television\n",
      "Copying Television_207.jpg to dataset/balanced_waste_images/Television\n",
      "Copying Television_200.jpg to dataset/balanced_waste_images/Television\n",
      "Copying Television_13.jpg to dataset/balanced_waste_images/Television\n",
      "Copying Television_254.jpg to dataset/balanced_waste_images/Television\n",
      "Copying Television_249.jpg to dataset/balanced_waste_images/Television\n",
      "Copying Television_21.jpg to dataset/balanced_waste_images/Television\n",
      "Copying Television_94.jpg to dataset/balanced_waste_images/Television\n",
      "Copying Television_157.jpg to dataset/balanced_waste_images/Television\n",
      "Copying Television_91.jpg to dataset/balanced_waste_images/Television\n",
      "Copying Television_63.jpg to dataset/balanced_waste_images/Television\n",
      "Copying Television_114.jpg to dataset/balanced_waste_images/Television\n",
      "Copying Television_121.jpg to dataset/balanced_waste_images/Television\n",
      "Copying Television_262.jpg to dataset/balanced_waste_images/Television\n",
      "Copying Television_225.jpg to dataset/balanced_waste_images/Television\n",
      "Copying Television_248.jpg to dataset/balanced_waste_images/Television\n",
      "Copying Television_52.jpg to dataset/balanced_waste_images/Television\n",
      "Copying Television_27.jpg to dataset/balanced_waste_images/Television\n",
      "Copying Television_231.jpg to dataset/balanced_waste_images/Television\n",
      "Copying Television_191.jpg to dataset/balanced_waste_images/Television\n",
      "Copying Television_222.jpg to dataset/balanced_waste_images/Television\n",
      "Copying Television_245.jpg to dataset/balanced_waste_images/Television\n",
      "Copying Television_295.jpg to dataset/balanced_waste_images/Television\n",
      "Copying Television_237.jpg to dataset/balanced_waste_images/Television\n",
      "Copying Television_195.jpg to dataset/balanced_waste_images/Television\n",
      "Copying Television_230.jpg to dataset/balanced_waste_images/Television\n",
      "Copying Television_39.jpg to dataset/balanced_waste_images/Television\n",
      "Copying Television_194.jpg to dataset/balanced_waste_images/Television\n",
      "Copying Television_220.jpg to dataset/balanced_waste_images/Television\n",
      "Copying Player_237.jpg to dataset/balanced_waste_images/Player\n",
      "Copying Player_67.jpg to dataset/balanced_waste_images/Player\n",
      "Copying Player_31.jpg to dataset/balanced_waste_images/Player\n",
      "Copying Player_137.jpg to dataset/balanced_waste_images/Player\n",
      "Copying Player_209.jpg to dataset/balanced_waste_images/Player\n",
      "Copying Player_143.jpg to dataset/balanced_waste_images/Player\n",
      "Copying Player_238.jpg to dataset/balanced_waste_images/Player\n",
      "Copying Player_296.jpg to dataset/balanced_waste_images/Player\n",
      "Copying Player_116.jpg to dataset/balanced_waste_images/Player\n",
      "Copying Player_3.jpg to dataset/balanced_waste_images/Player\n",
      "Copying Player_102.jpg to dataset/balanced_waste_images/Player\n",
      "Copying Player_18.jpg to dataset/balanced_waste_images/Player\n",
      "Copying Player_50.jpg to dataset/balanced_waste_images/Player\n",
      "Copying Player_85.jpg to dataset/balanced_waste_images/Player\n",
      "Copying Player_123.jpg to dataset/balanced_waste_images/Player\n",
      "Copying Player_205.jpg to dataset/balanced_waste_images/Player\n",
      "Copying Player_160.jpg to dataset/balanced_waste_images/Player\n",
      "Copying Player_0.jpg to dataset/balanced_waste_images/Player\n",
      "Copying Player_140.jpg to dataset/balanced_waste_images/Player\n",
      "Copying Player_138.jpg to dataset/balanced_waste_images/Player\n",
      "Copying Player_131.jpg to dataset/balanced_waste_images/Player\n",
      "Copying Player_271.jpg to dataset/balanced_waste_images/Player\n",
      "Copying Player_246.jpg to dataset/balanced_waste_images/Player\n",
      "Copying Player_144.jpg to dataset/balanced_waste_images/Player\n",
      "Copying Player_164.jpg to dataset/balanced_waste_images/Player\n",
      "Copying Player_293.jpg to dataset/balanced_waste_images/Player\n",
      "Copying Player_48.jpg to dataset/balanced_waste_images/Player\n",
      "Copying Player_216.jpg to dataset/balanced_waste_images/Player\n",
      "Copying Player_249.jpg to dataset/balanced_waste_images/Player\n",
      "Copying Player_135.jpg to dataset/balanced_waste_images/Player\n",
      "Copying Player_195.jpg to dataset/balanced_waste_images/Player\n",
      "Copying Player_172.jpg to dataset/balanced_waste_images/Player\n",
      "Copying Player_57.jpg to dataset/balanced_waste_images/Player\n",
      "Copying Player_120.jpg to dataset/balanced_waste_images/Player\n",
      "Copying Player_217.jpg to dataset/balanced_waste_images/Player\n",
      "Copying Player_149.jpg to dataset/balanced_waste_images/Player\n",
      "Copying Player_202.jpg to dataset/balanced_waste_images/Player\n",
      "Copying Player_54.jpg to dataset/balanced_waste_images/Player\n",
      "Copying Player_30.jpg to dataset/balanced_waste_images/Player\n",
      "Copying Player_91.jpg to dataset/balanced_waste_images/Player\n",
      "Copying Player_104.jpg to dataset/balanced_waste_images/Player\n",
      "Copying Player_298.jpg to dataset/balanced_waste_images/Player\n",
      "Copying Player_225.jpg to dataset/balanced_waste_images/Player\n",
      "Copying Player_8.jpg to dataset/balanced_waste_images/Player\n",
      "Copying Player_285.jpg to dataset/balanced_waste_images/Player\n",
      "Copying Player_73.jpg to dataset/balanced_waste_images/Player\n",
      "Copying Player_289.jpg to dataset/balanced_waste_images/Player\n",
      "Copying Player_207.jpg to dataset/balanced_waste_images/Player\n",
      "Copying Player_52.jpg to dataset/balanced_waste_images/Player\n",
      "Copying Player_16.jpg to dataset/balanced_waste_images/Player\n",
      "Copying Player_194.jpg to dataset/balanced_waste_images/Player\n",
      "Copying Player_115.jpg to dataset/balanced_waste_images/Player\n",
      "Copying Player_254.jpg to dataset/balanced_waste_images/Player\n",
      "Copying Player_132.jpg to dataset/balanced_waste_images/Player\n",
      "Copying Player_2.jpg to dataset/balanced_waste_images/Player\n",
      "Copying Player_290.jpg to dataset/balanced_waste_images/Player\n",
      "Copying Player_236.jpg to dataset/balanced_waste_images/Player\n",
      "Copying Player_72.jpg to dataset/balanced_waste_images/Player\n",
      "Copying Player_184.jpg to dataset/balanced_waste_images/Player\n",
      "Copying Player_171.jpg to dataset/balanced_waste_images/Player\n",
      "Copying Player_44.jpg to dataset/balanced_waste_images/Player\n",
      "Copying Player_220.jpg to dataset/balanced_waste_images/Player\n",
      "Copying Player_248.jpg to dataset/balanced_waste_images/Player\n",
      "Copying Player_210.jpg to dataset/balanced_waste_images/Player\n",
      "Copying Player_262.jpg to dataset/balanced_waste_images/Player\n",
      "Copying Player_176.jpg to dataset/balanced_waste_images/Player\n",
      "Copying Player_295.jpg to dataset/balanced_waste_images/Player\n",
      "Copying Player_283.jpg to dataset/balanced_waste_images/Player\n",
      "Copying Player_204.jpg to dataset/balanced_waste_images/Player\n",
      "Copying Player_6.jpg to dataset/balanced_waste_images/Player\n",
      "Copying Player_182.jpg to dataset/balanced_waste_images/Player\n",
      "Copying Player_168.jpg to dataset/balanced_waste_images/Player\n",
      "Copying Player_268.jpg to dataset/balanced_waste_images/Player\n",
      "Copying Player_151.jpg to dataset/balanced_waste_images/Player\n",
      "Copying Player_231.jpg to dataset/balanced_waste_images/Player\n",
      "Copying Player_183.jpg to dataset/balanced_waste_images/Player\n",
      "Copying Player_179.jpg to dataset/balanced_waste_images/Player\n",
      "Copying Player_27.jpg to dataset/balanced_waste_images/Player\n",
      "Copying Player_63.jpg to dataset/balanced_waste_images/Player\n",
      "Copying Player_7.jpg to dataset/balanced_waste_images/Player\n",
      "Copying Player_215.jpg to dataset/balanced_waste_images/Player\n",
      "Copying Player_154.jpg to dataset/balanced_waste_images/Player\n",
      "Copying Player_114.jpg to dataset/balanced_waste_images/Player\n",
      "Copying Player_187.jpg to dataset/balanced_waste_images/Player\n",
      "Copying Player_263.jpg to dataset/balanced_waste_images/Player\n",
      "Copying Player_170.jpg to dataset/balanced_waste_images/Player\n",
      "Copying Player_159.jpg to dataset/balanced_waste_images/Player\n",
      "Copying Player_89.jpg to dataset/balanced_waste_images/Player\n",
      "Copying Player_278.jpg to dataset/balanced_waste_images/Player\n",
      "Copying Player_245.jpg to dataset/balanced_waste_images/Player\n",
      "Copying Player_173.jpg to dataset/balanced_waste_images/Player\n",
      "Copying Player_39.jpg to dataset/balanced_waste_images/Player\n",
      "Copying Player_80.jpg to dataset/balanced_waste_images/Player\n",
      "Copying Player_180.jpg to dataset/balanced_waste_images/Player\n",
      "Copying Player_208.jpg to dataset/balanced_waste_images/Player\n",
      "Copying Player_113.jpg to dataset/balanced_waste_images/Player\n",
      "Copying Player_232.jpg to dataset/balanced_waste_images/Player\n",
      "Copying Player_78.jpg to dataset/balanced_waste_images/Player\n",
      "Copying Player_185.jpg to dataset/balanced_waste_images/Player\n",
      "Copying Player_196.jpg to dataset/balanced_waste_images/Player\n",
      "Copying Player_14.jpg to dataset/balanced_waste_images/Player\n",
      "Copying Player_161.jpg to dataset/balanced_waste_images/Player\n",
      "Copying Player_188.jpg to dataset/balanced_waste_images/Player\n",
      "Copying Player_200.jpg to dataset/balanced_waste_images/Player\n",
      "Copying Player_272.jpg to dataset/balanced_waste_images/Player\n",
      "Copying Player_33.jpg to dataset/balanced_waste_images/Player\n",
      "Copying Player_87.jpg to dataset/balanced_waste_images/Player\n",
      "Copying Player_253.jpg to dataset/balanced_waste_images/Player\n",
      "Copying Player_126.jpg to dataset/balanced_waste_images/Player\n",
      "Copying Player_223.jpg to dataset/balanced_waste_images/Player\n",
      "Copying Player_109.jpg to dataset/balanced_waste_images/Player\n",
      "Copying Player_166.jpg to dataset/balanced_waste_images/Player\n",
      "Copying Player_221.jpg to dataset/balanced_waste_images/Player\n",
      "Copying Player_107.jpg to dataset/balanced_waste_images/Player\n",
      "Copying Player_56.jpg to dataset/balanced_waste_images/Player\n",
      "Copying Player_255.jpg to dataset/balanced_waste_images/Player\n",
      "Copying Player_76.jpg to dataset/balanced_waste_images/Player\n",
      "Copying Player_100.jpg to dataset/balanced_waste_images/Player\n",
      "Copying Player_93.jpg to dataset/balanced_waste_images/Player\n",
      "Copying Player_244.jpg to dataset/balanced_waste_images/Player\n",
      "Copying Player_26.jpg to dataset/balanced_waste_images/Player\n",
      "Copying Player_297.jpg to dataset/balanced_waste_images/Player\n",
      "Copying Player_25.jpg to dataset/balanced_waste_images/Player\n",
      "Copying Player_227.jpg to dataset/balanced_waste_images/Player\n",
      "Copying Player_230.jpg to dataset/balanced_waste_images/Player\n",
      "Copying Player_77.jpg to dataset/balanced_waste_images/Player\n",
      "Copying Player_71.jpg to dataset/balanced_waste_images/Player\n",
      "Copying Player_256.jpg to dataset/balanced_waste_images/Player\n",
      "Copying Player_12.jpg to dataset/balanced_waste_images/Player\n",
      "Copying Player_117.jpg to dataset/balanced_waste_images/Player\n",
      "Copying Player_240.jpg to dataset/balanced_waste_images/Player\n",
      "Copying Player_90.jpg to dataset/balanced_waste_images/Player\n",
      "Copying Player_269.jpg to dataset/balanced_waste_images/Player\n",
      "Copying Player_250.jpg to dataset/balanced_waste_images/Player\n",
      "Copying Player_199.jpg to dataset/balanced_waste_images/Player\n",
      "Copying Player_79.jpg to dataset/balanced_waste_images/Player\n",
      "Copying Player_82.jpg to dataset/balanced_waste_images/Player\n",
      "Copying Player_193.jpg to dataset/balanced_waste_images/Player\n",
      "Copying Player_292.jpg to dataset/balanced_waste_images/Player\n",
      "Copying Player_197.jpg to dataset/balanced_waste_images/Player\n",
      "Copying Player_124.jpg to dataset/balanced_waste_images/Player\n",
      "Copying Player_101.jpg to dataset/balanced_waste_images/Player\n",
      "Copying Player_94.jpg to dataset/balanced_waste_images/Player\n",
      "Copying Player_219.jpg to dataset/balanced_waste_images/Player\n",
      "Copying Player_233.jpg to dataset/balanced_waste_images/Player\n",
      "Copying Player_28.jpg to dataset/balanced_waste_images/Player\n",
      "Copying Player_64.jpg to dataset/balanced_waste_images/Player\n",
      "Copying Player_291.jpg to dataset/balanced_waste_images/Player\n",
      "Copying Player_62.jpg to dataset/balanced_waste_images/Player\n",
      "Copying Player_43.jpg to dataset/balanced_waste_images/Player\n",
      "Copying Player_42.jpg to dataset/balanced_waste_images/Player\n",
      "Copying Player_228.jpg to dataset/balanced_waste_images/Player\n",
      "Copying Player_186.jpg to dataset/balanced_waste_images/Player\n",
      "Copying Player_97.jpg to dataset/balanced_waste_images/Player\n",
      "Copying Player_13.jpg to dataset/balanced_waste_images/Player\n",
      "Copying Player_55.jpg to dataset/balanced_waste_images/Player\n",
      "Copying Player_158.jpg to dataset/balanced_waste_images/Player\n",
      "Copying Player_38.jpg to dataset/balanced_waste_images/Player\n",
      "Copying Player_134.jpg to dataset/balanced_waste_images/Player\n",
      "Copying Player_5.jpg to dataset/balanced_waste_images/Player\n",
      "Copying Player_11.jpg to dataset/balanced_waste_images/Player\n",
      "Copying Player_19.jpg to dataset/balanced_waste_images/Player\n",
      "Copying Player_47.jpg to dataset/balanced_waste_images/Player\n",
      "Copying Player_46.jpg to dataset/balanced_waste_images/Player\n",
      "Copying Player_141.jpg to dataset/balanced_waste_images/Player\n",
      "Copying Player_81.jpg to dataset/balanced_waste_images/Player\n",
      "Copying Player_299.jpg to dataset/balanced_waste_images/Player\n",
      "Copying Player_243.jpg to dataset/balanced_waste_images/Player\n",
      "Copying Player_96.jpg to dataset/balanced_waste_images/Player\n",
      "Copying Player_36.jpg to dataset/balanced_waste_images/Player\n",
      "Copying Player_145.jpg to dataset/balanced_waste_images/Player\n",
      "Copying Player_155.jpg to dataset/balanced_waste_images/Player\n",
      "Copying Player_41.jpg to dataset/balanced_waste_images/Player\n",
      "Copying Player_258.jpg to dataset/balanced_waste_images/Player\n",
      "Copying Player_178.jpg to dataset/balanced_waste_images/Player\n",
      "Copying Player_288.jpg to dataset/balanced_waste_images/Player\n",
      "Copying Player_110.jpg to dataset/balanced_waste_images/Player\n",
      "Copying Player_287.jpg to dataset/balanced_waste_images/Player\n",
      "Copying Player_1.jpg to dataset/balanced_waste_images/Player\n",
      "Copying Player_257.jpg to dataset/balanced_waste_images/Player\n",
      "Copying Player_201.jpg to dataset/balanced_waste_images/Player\n",
      "Copying Player_21.jpg to dataset/balanced_waste_images/Player\n",
      "Copying Player_276.jpg to dataset/balanced_waste_images/Player\n",
      "Copying Player_163.jpg to dataset/balanced_waste_images/Player\n",
      "Copying Player_29.jpg to dataset/balanced_waste_images/Player\n",
      "Copying Player_74.jpg to dataset/balanced_waste_images/Player\n",
      "Copying Player_59.jpg to dataset/balanced_waste_images/Player\n",
      "Copying Player_206.jpg to dataset/balanced_waste_images/Player\n",
      "Copying Player_111.jpg to dataset/balanced_waste_images/Player\n",
      "Copying Player_153.jpg to dataset/balanced_waste_images/Player\n",
      "Copying Player_274.jpg to dataset/balanced_waste_images/Player\n",
      "Copying Player_222.jpg to dataset/balanced_waste_images/Player\n",
      "Copying Player_213.jpg to dataset/balanced_waste_images/Player\n",
      "Copying Player_270.jpg to dataset/balanced_waste_images/Player\n",
      "Copying Player_212.jpg to dataset/balanced_waste_images/Player\n",
      "Copying Player_60.jpg to dataset/balanced_waste_images/Player\n",
      "Copying Player_175.jpg to dataset/balanced_waste_images/Player\n",
      "Copying Player_234.jpg to dataset/balanced_waste_images/Player\n",
      "Copying Player_53.jpg to dataset/balanced_waste_images/Player\n",
      "Copying Player_273.jpg to dataset/balanced_waste_images/Player\n",
      "Copying Player_191.jpg to dataset/balanced_waste_images/Player\n",
      "Copying Player_235.jpg to dataset/balanced_waste_images/Player\n",
      "Copying Player_86.jpg to dataset/balanced_waste_images/Player\n",
      "Copying Player_181.jpg to dataset/balanced_waste_images/Player\n",
      "Copying Player_127.jpg to dataset/balanced_waste_images/Player\n",
      "Copying Player_157.jpg to dataset/balanced_waste_images/Player\n",
      "Copying Player_139.jpg to dataset/balanced_waste_images/Player\n",
      "Copying Player_70.jpg to dataset/balanced_waste_images/Player\n",
      "Copying Player_10.jpg to dataset/balanced_waste_images/Player\n",
      "Copying Player_156.jpg to dataset/balanced_waste_images/Player\n",
      "Copying Player_35.jpg to dataset/balanced_waste_images/Player\n",
      "Copying Player_98.jpg to dataset/balanced_waste_images/Player\n",
      "Copying Player_281.jpg to dataset/balanced_waste_images/Player\n",
      "Copying Player_51.jpg to dataset/balanced_waste_images/Player\n",
      "Copying Player_121.jpg to dataset/balanced_waste_images/Player\n",
      "Copying Player_9.jpg to dataset/balanced_waste_images/Player\n",
      "Copying Player_203.jpg to dataset/balanced_waste_images/Player\n",
      "Copying Player_58.jpg to dataset/balanced_waste_images/Player\n",
      "Copying Player_32.jpg to dataset/balanced_waste_images/Player\n",
      "Copying Player_20.jpg to dataset/balanced_waste_images/Player\n",
      "Copying Player_165.jpg to dataset/balanced_waste_images/Player\n",
      "Copying Player_45.jpg to dataset/balanced_waste_images/Player\n",
      "Copying Player_69.jpg to dataset/balanced_waste_images/Player\n",
      "Copying Player_214.jpg to dataset/balanced_waste_images/Player\n",
      "Copying Player_15.jpg to dataset/balanced_waste_images/Player\n",
      "Copying Player_112.jpg to dataset/balanced_waste_images/Player\n",
      "Copying Player_17.jpg to dataset/balanced_waste_images/Player\n",
      "Copying Player_218.jpg to dataset/balanced_waste_images/Player\n",
      "Copying Player_84.jpg to dataset/balanced_waste_images/Player\n",
      "Copying Player_49.jpg to dataset/balanced_waste_images/Player\n",
      "Copying Player_162.jpg to dataset/balanced_waste_images/Player\n",
      "Copying Player_252.jpg to dataset/balanced_waste_images/Player\n",
      "Copying Player_142.jpg to dataset/balanced_waste_images/Player\n",
      "Copying Player_133.jpg to dataset/balanced_waste_images/Player\n",
      "Copying Player_167.jpg to dataset/balanced_waste_images/Player\n",
      "Copying Player_136.jpg to dataset/balanced_waste_images/Player\n",
      "Copying Player_261.jpg to dataset/balanced_waste_images/Player\n",
      "Copying Player_68.jpg to dataset/balanced_waste_images/Player\n",
      "Copying Player_119.jpg to dataset/balanced_waste_images/Player\n",
      "Copying Player_125.jpg to dataset/balanced_waste_images/Player\n",
      "Copying trash87.jpg to dataset/balanced_waste_images/trash\n",
      "Copying trash85.jpg to dataset/balanced_waste_images/trash\n",
      "Copying trash100.jpg to dataset/balanced_waste_images/trash\n",
      "Copying trash66.jpg to dataset/balanced_waste_images/trash\n",
      "Copying trash134.jpg to dataset/balanced_waste_images/trash\n",
      "Copying trash127.jpg to dataset/balanced_waste_images/trash\n",
      "Copying trash61.jpg to dataset/balanced_waste_images/trash\n",
      "Copying trash50.jpg to dataset/balanced_waste_images/trash\n",
      "Copying trash54.jpg to dataset/balanced_waste_images/trash\n",
      "Copying trash62.jpg to dataset/balanced_waste_images/trash\n",
      "Copying trash23.jpg to dataset/balanced_waste_images/trash\n",
      "Copying trash59.jpg to dataset/balanced_waste_images/trash\n",
      "Copying trash93.jpg to dataset/balanced_waste_images/trash\n",
      "Copying trash15.jpg to dataset/balanced_waste_images/trash\n",
      "Copying trash121.jpg to dataset/balanced_waste_images/trash\n",
      "Copying trash104.jpg to dataset/balanced_waste_images/trash\n",
      "Copying trash38.jpg to dataset/balanced_waste_images/trash\n",
      "Copying trash109.jpg to dataset/balanced_waste_images/trash\n",
      "Copying trash124.jpg to dataset/balanced_waste_images/trash\n",
      "Copying trash29.jpg to dataset/balanced_waste_images/trash\n",
      "Copying trash32.jpg to dataset/balanced_waste_images/trash\n",
      "Copying trash91.jpg to dataset/balanced_waste_images/trash\n",
      "Copying trash71.jpg to dataset/balanced_waste_images/trash\n",
      "Copying trash49.jpg to dataset/balanced_waste_images/trash\n",
      "Copying trash92.jpg to dataset/balanced_waste_images/trash\n",
      "Copying trash52.jpg to dataset/balanced_waste_images/trash\n",
      "Copying trash7.jpg to dataset/balanced_waste_images/trash\n",
      "Copying trash80.jpg to dataset/balanced_waste_images/trash\n",
      "Copying trash105.jpg to dataset/balanced_waste_images/trash\n",
      "Copying trash95.jpg to dataset/balanced_waste_images/trash\n",
      "Copying trash58.jpg to dataset/balanced_waste_images/trash\n",
      "Copying trash83.jpg to dataset/balanced_waste_images/trash\n",
      "Copying trash119.jpg to dataset/balanced_waste_images/trash\n",
      "Copying trash79.jpg to dataset/balanced_waste_images/trash\n",
      "Copying trash115.jpg to dataset/balanced_waste_images/trash\n",
      "Copying trash107.jpg to dataset/balanced_waste_images/trash\n",
      "Copying trash27.jpg to dataset/balanced_waste_images/trash\n",
      "Copying trash118.jpg to dataset/balanced_waste_images/trash\n",
      "Copying trash137.jpg to dataset/balanced_waste_images/trash\n",
      "Copying trash26.jpg to dataset/balanced_waste_images/trash\n",
      "Copying trash19.jpg to dataset/balanced_waste_images/trash\n",
      "Copying trash89.jpg to dataset/balanced_waste_images/trash\n",
      "Copying trash98.jpg to dataset/balanced_waste_images/trash\n",
      "Copying trash65.jpg to dataset/balanced_waste_images/trash\n",
      "Copying trash64.jpg to dataset/balanced_waste_images/trash\n",
      "Copying trash41.jpg to dataset/balanced_waste_images/trash\n",
      "Copying trash72.jpg to dataset/balanced_waste_images/trash\n",
      "Copying trash42.jpg to dataset/balanced_waste_images/trash\n",
      "Copying trash67.jpg to dataset/balanced_waste_images/trash\n",
      "Copying trash47.jpg to dataset/balanced_waste_images/trash\n",
      "Copying trash129.jpg to dataset/balanced_waste_images/trash\n",
      "Copying trash34.jpg to dataset/balanced_waste_images/trash\n",
      "Copying trash31.jpg to dataset/balanced_waste_images/trash\n",
      "Copying trash120.jpg to dataset/balanced_waste_images/trash\n",
      "Copying trash12.jpg to dataset/balanced_waste_images/trash\n",
      "Copying trash10.jpg to dataset/balanced_waste_images/trash\n",
      "Copying trash125.jpg to dataset/balanced_waste_images/trash\n",
      "Copying trash136.jpg to dataset/balanced_waste_images/trash\n",
      "Copying trash133.jpg to dataset/balanced_waste_images/trash\n",
      "Copying trash25.jpg to dataset/balanced_waste_images/trash\n",
      "Copying trash97.jpg to dataset/balanced_waste_images/trash\n",
      "Copying trash70.jpg to dataset/balanced_waste_images/trash\n",
      "Copying trash43.jpg to dataset/balanced_waste_images/trash\n",
      "Copying trash18.jpg to dataset/balanced_waste_images/trash\n",
      "Copying trash132.jpg to dataset/balanced_waste_images/trash\n",
      "Copying trash35.jpg to dataset/balanced_waste_images/trash\n",
      "Copying trash5.jpg to dataset/balanced_waste_images/trash\n",
      "Copying trash110.jpg to dataset/balanced_waste_images/trash\n",
      "Copying trash24.jpg to dataset/balanced_waste_images/trash\n",
      "Copying trash69.jpg to dataset/balanced_waste_images/trash\n",
      "Copying trash1.jpg to dataset/balanced_waste_images/trash\n",
      "Copying trash60.jpg to dataset/balanced_waste_images/trash\n",
      "Copying trash46.jpg to dataset/balanced_waste_images/trash\n",
      "Copying trash68.jpg to dataset/balanced_waste_images/trash\n",
      "Copying trash74.jpg to dataset/balanced_waste_images/trash\n",
      "Copying trash130.jpg to dataset/balanced_waste_images/trash\n",
      "Copying trash73.jpg to dataset/balanced_waste_images/trash\n",
      "Copying trash102.jpg to dataset/balanced_waste_images/trash\n",
      "Copying trash81.jpg to dataset/balanced_waste_images/trash\n",
      "Copying trash84.jpg to dataset/balanced_waste_images/trash\n",
      "Copying trash114.jpg to dataset/balanced_waste_images/trash\n",
      "Copying trash116.jpg to dataset/balanced_waste_images/trash\n",
      "Copying trash3.jpg to dataset/balanced_waste_images/trash\n",
      "Copying trash44.jpg to dataset/balanced_waste_images/trash\n",
      "Copying trash112.jpg to dataset/balanced_waste_images/trash\n",
      "Copying trash131.jpg to dataset/balanced_waste_images/trash\n",
      "Copying trash30.jpg to dataset/balanced_waste_images/trash\n",
      "Copying trash88.jpg to dataset/balanced_waste_images/trash\n",
      "Copying trash21.jpg to dataset/balanced_waste_images/trash\n",
      "Copying trash57.jpg to dataset/balanced_waste_images/trash\n",
      "Copying trash45.jpg to dataset/balanced_waste_images/trash\n",
      "Copying trash99.jpg to dataset/balanced_waste_images/trash\n",
      "Copying trash48.jpg to dataset/balanced_waste_images/trash\n",
      "Copying trash122.jpg to dataset/balanced_waste_images/trash\n",
      "Copying trash106.jpg to dataset/balanced_waste_images/trash\n",
      "Copying trash33.jpg to dataset/balanced_waste_images/trash\n",
      "Copying trash11.jpg to dataset/balanced_waste_images/trash\n",
      "Copying trash111.jpg to dataset/balanced_waste_images/trash\n",
      "Copying trash128.jpg to dataset/balanced_waste_images/trash\n",
      "Copying trash86.jpg to dataset/balanced_waste_images/trash\n",
      "Copying trash53.jpg to dataset/balanced_waste_images/trash\n",
      "Copying trash40.jpg to dataset/balanced_waste_images/trash\n",
      "Copying trash55.jpg to dataset/balanced_waste_images/trash\n",
      "Copying trash20.jpg to dataset/balanced_waste_images/trash\n",
      "Copying trash78.jpg to dataset/balanced_waste_images/trash\n",
      "Copying trash76.jpg to dataset/balanced_waste_images/trash\n",
      "Copying trash8.jpg to dataset/balanced_waste_images/trash\n",
      "Copying trash4.jpg to dataset/balanced_waste_images/trash\n",
      "Copying trash90.jpg to dataset/balanced_waste_images/trash\n",
      "Copying trash37.jpg to dataset/balanced_waste_images/trash\n",
      "Copying trash63.jpg to dataset/balanced_waste_images/trash\n",
      "Copying trash36.jpg to dataset/balanced_waste_images/trash\n",
      "Copying trash13.jpg to dataset/balanced_waste_images/trash\n",
      "Copying trash9.jpg to dataset/balanced_waste_images/trash\n",
      "Copying trash17.jpg to dataset/balanced_waste_images/trash\n",
      "Copying trash126.jpg to dataset/balanced_waste_images/trash\n",
      "Copying trash94.jpg to dataset/balanced_waste_images/trash\n",
      "Copying trash75.jpg to dataset/balanced_waste_images/trash\n",
      "Copying trash6.jpg to dataset/balanced_waste_images/trash\n",
      "Copying trash39.jpg to dataset/balanced_waste_images/trash\n",
      "Copying trash51.jpg to dataset/balanced_waste_images/trash\n",
      "Copying trash96.jpg to dataset/balanced_waste_images/trash\n",
      "Copying trash108.jpg to dataset/balanced_waste_images/trash\n",
      "Copying trash117.jpg to dataset/balanced_waste_images/trash\n",
      "Copying trash113.jpg to dataset/balanced_waste_images/trash\n",
      "Copying trash101.jpg to dataset/balanced_waste_images/trash\n",
      "Copying trash135.jpg to dataset/balanced_waste_images/trash\n",
      "Copying trash28.jpg to dataset/balanced_waste_images/trash\n",
      "Copying trash103.jpg to dataset/balanced_waste_images/trash\n",
      "Copying trash2.jpg to dataset/balanced_waste_images/trash\n",
      "Copying trash123.jpg to dataset/balanced_waste_images/trash\n",
      "Copying trash56.jpg to dataset/balanced_waste_images/trash\n",
      "Copying trash77.jpg to dataset/balanced_waste_images/trash\n",
      "Copying trash16.jpg to dataset/balanced_waste_images/trash\n",
      "Copying trash14.jpg to dataset/balanced_waste_images/trash\n",
      "Copying trash82.jpg to dataset/balanced_waste_images/trash\n",
      "Copying trash22.jpg to dataset/balanced_waste_images/trash\n",
      "Copying Mouse_181.jpg to dataset/balanced_waste_images/Mouse\n",
      "Copying Mouse_67.jpg to dataset/balanced_waste_images/Mouse\n",
      "Copying Mouse_204.jpg to dataset/balanced_waste_images/Mouse\n",
      "Copying Mouse_91.jpg to dataset/balanced_waste_images/Mouse\n",
      "Copying Mouse_166.jpg to dataset/balanced_waste_images/Mouse\n",
      "Copying Mouse_28.jpg to dataset/balanced_waste_images/Mouse\n",
      "Copying Mouse_109.jpg to dataset/balanced_waste_images/Mouse\n",
      "Copying Mouse_0.jpg to dataset/balanced_waste_images/Mouse\n",
      "Copying Mouse_125.jpg to dataset/balanced_waste_images/Mouse\n",
      "Copying Mouse_283.jpg to dataset/balanced_waste_images/Mouse\n",
      "Copying Mouse_46.jpg to dataset/balanced_waste_images/Mouse\n",
      "Copying Mouse_185.jpg to dataset/balanced_waste_images/Mouse\n",
      "Copying Mouse_68.jpg to dataset/balanced_waste_images/Mouse\n",
      "Copying Mouse_80.jpg to dataset/balanced_waste_images/Mouse\n",
      "Copying Mouse_72.jpg to dataset/balanced_waste_images/Mouse\n",
      "Copying Mouse_250.jpg to dataset/balanced_waste_images/Mouse\n",
      "Copying Mouse_32.jpg to dataset/balanced_waste_images/Mouse\n",
      "Copying Mouse_55.jpg to dataset/balanced_waste_images/Mouse\n",
      "Copying Mouse_30.jpg to dataset/balanced_waste_images/Mouse\n",
      "Copying Mouse_16.jpg to dataset/balanced_waste_images/Mouse\n",
      "Copying Mouse_221.jpg to dataset/balanced_waste_images/Mouse\n",
      "Copying Mouse_298.jpg to dataset/balanced_waste_images/Mouse\n",
      "Copying Mouse_197.jpg to dataset/balanced_waste_images/Mouse\n",
      "Copying Mouse_289.jpg to dataset/balanced_waste_images/Mouse\n",
      "Copying Mouse_237.jpg to dataset/balanced_waste_images/Mouse\n",
      "Copying Mouse_74.jpg to dataset/balanced_waste_images/Mouse\n",
      "Copying Mouse_238.jpg to dataset/balanced_waste_images/Mouse\n",
      "Copying Mouse_110.jpg to dataset/balanced_waste_images/Mouse\n",
      "Copying Mouse_271.jpg to dataset/balanced_waste_images/Mouse\n",
      "Copying Mouse_84.jpg to dataset/balanced_waste_images/Mouse\n",
      "Copying Mouse_140.jpg to dataset/balanced_waste_images/Mouse\n",
      "Copying Mouse_71.jpg to dataset/balanced_waste_images/Mouse\n",
      "Copying Mouse_257.jpg to dataset/balanced_waste_images/Mouse\n",
      "Copying Mouse_117.jpg to dataset/balanced_waste_images/Mouse\n",
      "Copying Mouse_131.jpg to dataset/balanced_waste_images/Mouse\n",
      "Copying Mouse_127.jpg to dataset/balanced_waste_images/Mouse\n",
      "Copying Mouse_8.jpg to dataset/balanced_waste_images/Mouse\n",
      "Copying Mouse_39.jpg to dataset/balanced_waste_images/Mouse\n",
      "Copying Mouse_100.jpg to dataset/balanced_waste_images/Mouse\n",
      "Copying Mouse_235.jpg to dataset/balanced_waste_images/Mouse\n",
      "Copying Mouse_176.jpg to dataset/balanced_waste_images/Mouse\n",
      "Copying Mouse_26.jpg to dataset/balanced_waste_images/Mouse\n",
      "Copying Mouse_15.jpg to dataset/balanced_waste_images/Mouse\n",
      "Copying Mouse_288.jpg to dataset/balanced_waste_images/Mouse\n",
      "Copying Mouse_236.jpg to dataset/balanced_waste_images/Mouse\n",
      "Copying Mouse_58.jpg to dataset/balanced_waste_images/Mouse\n",
      "Copying Mouse_63.jpg to dataset/balanced_waste_images/Mouse\n",
      "Copying Mouse_274.jpg to dataset/balanced_waste_images/Mouse\n",
      "Copying Mouse_134.jpg to dataset/balanced_waste_images/Mouse\n",
      "Copying Mouse_104.jpg to dataset/balanced_waste_images/Mouse\n",
      "Copying Mouse_10.jpg to dataset/balanced_waste_images/Mouse\n",
      "Copying Mouse_287.jpg to dataset/balanced_waste_images/Mouse\n",
      "Copying Mouse_270.jpg to dataset/balanced_waste_images/Mouse\n",
      "Copying Mouse_116.jpg to dataset/balanced_waste_images/Mouse\n",
      "Copying Mouse_246.jpg to dataset/balanced_waste_images/Mouse\n",
      "Copying Mouse_3.jpg to dataset/balanced_waste_images/Mouse\n",
      "Copying Mouse_244.jpg to dataset/balanced_waste_images/Mouse\n",
      "Copying Mouse_14.jpg to dataset/balanced_waste_images/Mouse\n",
      "Copying Mouse_231.jpg to dataset/balanced_waste_images/Mouse\n",
      "Copying Mouse_7.jpg to dataset/balanced_waste_images/Mouse\n",
      "Copying Mouse_262.jpg to dataset/balanced_waste_images/Mouse\n",
      "Copying Mouse_136.jpg to dataset/balanced_waste_images/Mouse\n",
      "Copying Mouse_43.jpg to dataset/balanced_waste_images/Mouse\n",
      "Copying Mouse_17.jpg to dataset/balanced_waste_images/Mouse\n",
      "Copying Mouse_12.jpg to dataset/balanced_waste_images/Mouse\n",
      "Copying Mouse_153.jpg to dataset/balanced_waste_images/Mouse\n",
      "Copying Mouse_97.jpg to dataset/balanced_waste_images/Mouse\n",
      "Copying Mouse_220.jpg to dataset/balanced_waste_images/Mouse\n",
      "Copying Mouse_218.jpg to dataset/balanced_waste_images/Mouse\n",
      "Copying Mouse_114.jpg to dataset/balanced_waste_images/Mouse\n",
      "Copying Mouse_111.jpg to dataset/balanced_waste_images/Mouse\n",
      "Copying Mouse_223.jpg to dataset/balanced_waste_images/Mouse\n",
      "Copying Mouse_253.jpg to dataset/balanced_waste_images/Mouse\n",
      "Copying Mouse_299.jpg to dataset/balanced_waste_images/Mouse\n",
      "Copying Mouse_47.jpg to dataset/balanced_waste_images/Mouse\n",
      "Copying Mouse_121.jpg to dataset/balanced_waste_images/Mouse\n",
      "Copying Mouse_85.jpg to dataset/balanced_waste_images/Mouse\n",
      "Copying Mouse_281.jpg to dataset/balanced_waste_images/Mouse\n",
      "Copying Mouse_292.jpg to dataset/balanced_waste_images/Mouse\n",
      "Copying Mouse_132.jpg to dataset/balanced_waste_images/Mouse\n",
      "Copying Mouse_171.jpg to dataset/balanced_waste_images/Mouse\n",
      "Copying Mouse_222.jpg to dataset/balanced_waste_images/Mouse\n",
      "Copying Mouse_36.jpg to dataset/balanced_waste_images/Mouse\n",
      "Copying Mouse_234.jpg to dataset/balanced_waste_images/Mouse\n",
      "Copying Mouse_52.jpg to dataset/balanced_waste_images/Mouse\n",
      "Copying Mouse_193.jpg to dataset/balanced_waste_images/Mouse\n",
      "Copying Mouse_145.jpg to dataset/balanced_waste_images/Mouse\n",
      "Copying Mouse_172.jpg to dataset/balanced_waste_images/Mouse\n",
      "Copying Mouse_35.jpg to dataset/balanced_waste_images/Mouse\n",
      "Copying Mouse_210.jpg to dataset/balanced_waste_images/Mouse\n",
      "Copying Mouse_54.jpg to dataset/balanced_waste_images/Mouse\n",
      "Copying Mouse_215.jpg to dataset/balanced_waste_images/Mouse\n",
      "Copying Mouse_123.jpg to dataset/balanced_waste_images/Mouse\n",
      "Copying Mouse_19.jpg to dataset/balanced_waste_images/Mouse\n",
      "Copying Mouse_42.jpg to dataset/balanced_waste_images/Mouse\n",
      "Copying Mouse_269.jpg to dataset/balanced_waste_images/Mouse\n",
      "Copying Mouse_182.jpg to dataset/balanced_waste_images/Mouse\n",
      "Copying Mouse_120.jpg to dataset/balanced_waste_images/Mouse\n",
      "Copying Mouse_278.jpg to dataset/balanced_waste_images/Mouse\n",
      "Copying Mouse_96.jpg to dataset/balanced_waste_images/Mouse\n",
      "Copying Mouse_138.jpg to dataset/balanced_waste_images/Mouse\n",
      "Copying Mouse_81.jpg to dataset/balanced_waste_images/Mouse\n",
      "Copying Mouse_180.jpg to dataset/balanced_waste_images/Mouse\n",
      "Copying Mouse_87.jpg to dataset/balanced_waste_images/Mouse\n",
      "Copying Mouse_194.jpg to dataset/balanced_waste_images/Mouse\n",
      "Copying Mouse_167.jpg to dataset/balanced_waste_images/Mouse\n",
      "Copying Mouse_29.jpg to dataset/balanced_waste_images/Mouse\n",
      "Copying Mouse_170.jpg to dataset/balanced_waste_images/Mouse\n",
      "Copying Mouse_164.jpg to dataset/balanced_waste_images/Mouse\n",
      "Copying Mouse_144.jpg to dataset/balanced_waste_images/Mouse\n",
      "Copying Mouse_205.jpg to dataset/balanced_waste_images/Mouse\n",
      "Copying Mouse_206.jpg to dataset/balanced_waste_images/Mouse\n",
      "Copying Mouse_25.jpg to dataset/balanced_waste_images/Mouse\n",
      "Copying Mouse_70.jpg to dataset/balanced_waste_images/Mouse\n",
      "Copying Mouse_124.jpg to dataset/balanced_waste_images/Mouse\n",
      "Copying Mouse_245.jpg to dataset/balanced_waste_images/Mouse\n",
      "Copying Mouse_86.jpg to dataset/balanced_waste_images/Mouse\n",
      "Copying Mouse_50.jpg to dataset/balanced_waste_images/Mouse\n",
      "Copying Mouse_113.jpg to dataset/balanced_waste_images/Mouse\n",
      "Copying Mouse_141.jpg to dataset/balanced_waste_images/Mouse\n",
      "Copying Mouse_263.jpg to dataset/balanced_waste_images/Mouse\n",
      "Copying Mouse_143.jpg to dataset/balanced_waste_images/Mouse\n",
      "Copying Mouse_21.jpg to dataset/balanced_waste_images/Mouse\n",
      "Copying Mouse_5.jpg to dataset/balanced_waste_images/Mouse\n",
      "Copying Mouse_160.jpg to dataset/balanced_waste_images/Mouse\n",
      "Copying Mouse_31.jpg to dataset/balanced_waste_images/Mouse\n",
      "Copying Mouse_186.jpg to dataset/balanced_waste_images/Mouse\n",
      "Copying Mouse_297.jpg to dataset/balanced_waste_images/Mouse\n",
      "Copying Mouse_159.jpg to dataset/balanced_waste_images/Mouse\n",
      "Copying Mouse_290.jpg to dataset/balanced_waste_images/Mouse\n",
      "Copying Mouse_49.jpg to dataset/balanced_waste_images/Mouse\n",
      "Copying Mouse_142.jpg to dataset/balanced_waste_images/Mouse\n",
      "Copying Mouse_13.jpg to dataset/balanced_waste_images/Mouse\n",
      "Copying Mouse_41.jpg to dataset/balanced_waste_images/Mouse\n",
      "Copying Mouse_155.jpg to dataset/balanced_waste_images/Mouse\n",
      "Copying Mouse_248.jpg to dataset/balanced_waste_images/Mouse\n",
      "Copying Mouse_184.jpg to dataset/balanced_waste_images/Mouse\n",
      "Copying Mouse_295.jpg to dataset/balanced_waste_images/Mouse\n",
      "Copying Mouse_51.jpg to dataset/balanced_waste_images/Mouse\n",
      "Copying Mouse_161.jpg to dataset/balanced_waste_images/Mouse\n",
      "Copying Mouse_56.jpg to dataset/balanced_waste_images/Mouse\n",
      "Copying Mouse_57.jpg to dataset/balanced_waste_images/Mouse\n",
      "Copying Mouse_212.jpg to dataset/balanced_waste_images/Mouse\n",
      "Copying Mouse_45.jpg to dataset/balanced_waste_images/Mouse\n",
      "Copying Mouse_101.jpg to dataset/balanced_waste_images/Mouse\n",
      "Copying Mouse_119.jpg to dataset/balanced_waste_images/Mouse\n",
      "Copying Mouse_200.jpg to dataset/balanced_waste_images/Mouse\n",
      "Copying Mouse_79.jpg to dataset/balanced_waste_images/Mouse\n",
      "Copying Mouse_107.jpg to dataset/balanced_waste_images/Mouse\n",
      "Copying Mouse_76.jpg to dataset/balanced_waste_images/Mouse\n",
      "Copying Mouse_183.jpg to dataset/balanced_waste_images/Mouse\n",
      "Copying Mouse_201.jpg to dataset/balanced_waste_images/Mouse\n",
      "Copying Mouse_256.jpg to dataset/balanced_waste_images/Mouse\n",
      "Copying Mouse_268.jpg to dataset/balanced_waste_images/Mouse\n",
      "Copying Mouse_225.jpg to dataset/balanced_waste_images/Mouse\n",
      "Copying Mouse_173.jpg to dataset/balanced_waste_images/Mouse\n",
      "Copying Mouse_60.jpg to dataset/balanced_waste_images/Mouse\n",
      "Copying Mouse_73.jpg to dataset/balanced_waste_images/Mouse\n",
      "Copying Mouse_94.jpg to dataset/balanced_waste_images/Mouse\n",
      "Copying Mouse_199.jpg to dataset/balanced_waste_images/Mouse\n",
      "Copying Mouse_48.jpg to dataset/balanced_waste_images/Mouse\n",
      "Copying Mouse_112.jpg to dataset/balanced_waste_images/Mouse\n",
      "Copying Mouse_77.jpg to dataset/balanced_waste_images/Mouse\n",
      "Copying Mouse_135.jpg to dataset/balanced_waste_images/Mouse\n",
      "Copying Mouse_276.jpg to dataset/balanced_waste_images/Mouse\n",
      "Copying Mouse_27.jpg to dataset/balanced_waste_images/Mouse\n",
      "Copying Mouse_214.jpg to dataset/balanced_waste_images/Mouse\n",
      "Copying Mouse_179.jpg to dataset/balanced_waste_images/Mouse\n",
      "Copying Mouse_62.jpg to dataset/balanced_waste_images/Mouse\n",
      "Copying Mouse_258.jpg to dataset/balanced_waste_images/Mouse\n",
      "Copying Mouse_217.jpg to dataset/balanced_waste_images/Mouse\n",
      "Copying Mouse_163.jpg to dataset/balanced_waste_images/Mouse\n",
      "Copying Mouse_291.jpg to dataset/balanced_waste_images/Mouse\n",
      "Copying Mouse_233.jpg to dataset/balanced_waste_images/Mouse\n",
      "Copying Mouse_157.jpg to dataset/balanced_waste_images/Mouse\n",
      "Copying Mouse_133.jpg to dataset/balanced_waste_images/Mouse\n",
      "Copying Mouse_261.jpg to dataset/balanced_waste_images/Mouse\n",
      "Copying Mouse_272.jpg to dataset/balanced_waste_images/Mouse\n",
      "Copying Mouse_98.jpg to dataset/balanced_waste_images/Mouse\n",
      "Copying Mouse_126.jpg to dataset/balanced_waste_images/Mouse\n",
      "Copying Mouse_209.jpg to dataset/balanced_waste_images/Mouse\n",
      "Copying Mouse_213.jpg to dataset/balanced_waste_images/Mouse\n",
      "Copying Mouse_162.jpg to dataset/balanced_waste_images/Mouse\n",
      "Copying Mouse_59.jpg to dataset/balanced_waste_images/Mouse\n",
      "Copying Mouse_156.jpg to dataset/balanced_waste_images/Mouse\n",
      "Copying Mouse_1.jpg to dataset/balanced_waste_images/Mouse\n",
      "Copying Mouse_243.jpg to dataset/balanced_waste_images/Mouse\n",
      "Copying Mouse_6.jpg to dataset/balanced_waste_images/Mouse\n",
      "Copying Mouse_69.jpg to dataset/balanced_waste_images/Mouse\n",
      "Copying Mouse_82.jpg to dataset/balanced_waste_images/Mouse\n",
      "Copying Mouse_102.jpg to dataset/balanced_waste_images/Mouse\n",
      "Copying Mouse_168.jpg to dataset/balanced_waste_images/Mouse\n",
      "Copying Mouse_187.jpg to dataset/balanced_waste_images/Mouse\n",
      "Copying Mouse_191.jpg to dataset/balanced_waste_images/Mouse\n",
      "Copying Mouse_149.jpg to dataset/balanced_waste_images/Mouse\n",
      "Copying Mouse_293.jpg to dataset/balanced_waste_images/Mouse\n",
      "Copying Mouse_249.jpg to dataset/balanced_waste_images/Mouse\n",
      "Copying Mouse_115.jpg to dataset/balanced_waste_images/Mouse\n",
      "Copying Mouse_255.jpg to dataset/balanced_waste_images/Mouse\n",
      "Copying Mouse_273.jpg to dataset/balanced_waste_images/Mouse\n",
      "Copying Mouse_178.jpg to dataset/balanced_waste_images/Mouse\n",
      "Copying Mouse_89.jpg to dataset/balanced_waste_images/Mouse\n",
      "Copying Mouse_11.jpg to dataset/balanced_waste_images/Mouse\n",
      "Copying Mouse_18.jpg to dataset/balanced_waste_images/Mouse\n",
      "Copying Mouse_154.jpg to dataset/balanced_waste_images/Mouse\n",
      "Copying Mouse_151.jpg to dataset/balanced_waste_images/Mouse\n",
      "Copying Mouse_228.jpg to dataset/balanced_waste_images/Mouse\n",
      "Copying Mouse_240.jpg to dataset/balanced_waste_images/Mouse\n",
      "Copying Mouse_207.jpg to dataset/balanced_waste_images/Mouse\n",
      "Copying Mouse_285.jpg to dataset/balanced_waste_images/Mouse\n",
      "Copying Mouse_2.jpg to dataset/balanced_waste_images/Mouse\n",
      "Copying Mouse_216.jpg to dataset/balanced_waste_images/Mouse\n",
      "Copying Mouse_139.jpg to dataset/balanced_waste_images/Mouse\n",
      "Copying Mouse_90.jpg to dataset/balanced_waste_images/Mouse\n",
      "Copying Mouse_9.jpg to dataset/balanced_waste_images/Mouse\n",
      "Copying Mouse_78.jpg to dataset/balanced_waste_images/Mouse\n",
      "Copying Mouse_38.jpg to dataset/balanced_waste_images/Mouse\n",
      "Copying Mouse_296.jpg to dataset/balanced_waste_images/Mouse\n",
      "Copying Mouse_219.jpg to dataset/balanced_waste_images/Mouse\n",
      "Copying Mouse_20.jpg to dataset/balanced_waste_images/Mouse\n",
      "Copying Mouse_254.jpg to dataset/balanced_waste_images/Mouse\n",
      "Copying Mouse_202.jpg to dataset/balanced_waste_images/Mouse\n",
      "Copying Mouse_93.jpg to dataset/balanced_waste_images/Mouse\n",
      "Copying Mouse_208.jpg to dataset/balanced_waste_images/Mouse\n",
      "Copying Mouse_158.jpg to dataset/balanced_waste_images/Mouse\n",
      "Copying Mouse_64.jpg to dataset/balanced_waste_images/Mouse\n",
      "Copying Mouse_175.jpg to dataset/balanced_waste_images/Mouse\n",
      "Copying Mouse_165.jpg to dataset/balanced_waste_images/Mouse\n",
      "Copying Mouse_230.jpg to dataset/balanced_waste_images/Mouse\n",
      "Copying Mouse_137.jpg to dataset/balanced_waste_images/Mouse\n",
      "Copying Mouse_195.jpg to dataset/balanced_waste_images/Mouse\n",
      "Copying Mouse_33.jpg to dataset/balanced_waste_images/Mouse\n",
      "Copying Mouse_188.jpg to dataset/balanced_waste_images/Mouse\n",
      "Copying Mouse_196.jpg to dataset/balanced_waste_images/Mouse\n",
      "Copying Mouse_203.jpg to dataset/balanced_waste_images/Mouse\n",
      "Copying Mouse_44.jpg to dataset/balanced_waste_images/Mouse\n",
      "Copying Mouse_232.jpg to dataset/balanced_waste_images/Mouse\n",
      "Copying Mouse_252.jpg to dataset/balanced_waste_images/Mouse\n",
      "Copying Mouse_227.jpg to dataset/balanced_waste_images/Mouse\n",
      "Copying Mouse_53.jpg to dataset/balanced_waste_images/Mouse\n",
      "Copying Keyboard_114.jpg to dataset/balanced_waste_images/Keyboard\n",
      "Copying Keyboard_31.jpg to dataset/balanced_waste_images/Keyboard\n",
      "Copying Keyboard_143.jpg to dataset/balanced_waste_images/Keyboard\n",
      "Copying Keyboard_184.jpg to dataset/balanced_waste_images/Keyboard\n",
      "Copying Keyboard_151.jpg to dataset/balanced_waste_images/Keyboard\n",
      "Copying Keyboard_235.jpg to dataset/balanced_waste_images/Keyboard\n",
      "Copying Keyboard_205.jpg to dataset/balanced_waste_images/Keyboard\n",
      "Copying Keyboard_137.jpg to dataset/balanced_waste_images/Keyboard\n",
      "Copying Keyboard_163.jpg to dataset/balanced_waste_images/Keyboard\n",
      "Copying Keyboard_140.jpg to dataset/balanced_waste_images/Keyboard\n",
      "Copying Keyboard_81.jpg to dataset/balanced_waste_images/Keyboard\n",
      "Copying Keyboard_290.jpg to dataset/balanced_waste_images/Keyboard\n",
      "Copying Keyboard_62.jpg to dataset/balanced_waste_images/Keyboard\n",
      "Copying Keyboard_102.jpg to dataset/balanced_waste_images/Keyboard\n",
      "Copying Keyboard_200.jpg to dataset/balanced_waste_images/Keyboard\n",
      "Copying Keyboard_248.jpg to dataset/balanced_waste_images/Keyboard\n",
      "Copying Keyboard_167.jpg to dataset/balanced_waste_images/Keyboard\n",
      "Copying Keyboard_216.jpg to dataset/balanced_waste_images/Keyboard\n",
      "Copying Keyboard_121.jpg to dataset/balanced_waste_images/Keyboard\n",
      "Copying Keyboard_16.jpg to dataset/balanced_waste_images/Keyboard\n",
      "Copying Keyboard_19.jpg to dataset/balanced_waste_images/Keyboard\n",
      "Copying Keyboard_18.jpg to dataset/balanced_waste_images/Keyboard\n",
      "Copying Keyboard_222.jpg to dataset/balanced_waste_images/Keyboard\n",
      "Copying Keyboard_262.jpg to dataset/balanced_waste_images/Keyboard\n",
      "Copying Keyboard_77.jpg to dataset/balanced_waste_images/Keyboard\n",
      "Copying Keyboard_258.jpg to dataset/balanced_waste_images/Keyboard\n",
      "Copying Keyboard_159.jpg to dataset/balanced_waste_images/Keyboard\n",
      "Copying Keyboard_158.jpg to dataset/balanced_waste_images/Keyboard\n",
      "Copying Keyboard_25.jpg to dataset/balanced_waste_images/Keyboard\n",
      "Copying Keyboard_43.jpg to dataset/balanced_waste_images/Keyboard\n",
      "Copying Keyboard_178.jpg to dataset/balanced_waste_images/Keyboard\n",
      "Copying Keyboard_217.jpg to dataset/balanced_waste_images/Keyboard\n",
      "Copying Keyboard_126.jpg to dataset/balanced_waste_images/Keyboard\n",
      "Copying Keyboard_208.jpg to dataset/balanced_waste_images/Keyboard\n",
      "Copying Keyboard_209.jpg to dataset/balanced_waste_images/Keyboard\n",
      "Copying Keyboard_131.jpg to dataset/balanced_waste_images/Keyboard\n",
      "Copying Keyboard_57.jpg to dataset/balanced_waste_images/Keyboard\n",
      "Copying Keyboard_68.jpg to dataset/balanced_waste_images/Keyboard\n",
      "Copying Keyboard_84.jpg to dataset/balanced_waste_images/Keyboard\n",
      "Copying Keyboard_231.jpg to dataset/balanced_waste_images/Keyboard\n",
      "Copying Keyboard_80.jpg to dataset/balanced_waste_images/Keyboard\n",
      "Copying Keyboard_292.jpg to dataset/balanced_waste_images/Keyboard\n",
      "Copying Keyboard_109.jpg to dataset/balanced_waste_images/Keyboard\n",
      "Copying Keyboard_227.jpg to dataset/balanced_waste_images/Keyboard\n",
      "Copying Keyboard_183.jpg to dataset/balanced_waste_images/Keyboard\n",
      "Copying Keyboard_154.jpg to dataset/balanced_waste_images/Keyboard\n",
      "Copying Keyboard_76.jpg to dataset/balanced_waste_images/Keyboard\n",
      "Copying Keyboard_285.jpg to dataset/balanced_waste_images/Keyboard\n",
      "Copying Keyboard_113.jpg to dataset/balanced_waste_images/Keyboard\n",
      "Copying Keyboard_228.jpg to dataset/balanced_waste_images/Keyboard\n",
      "Copying Keyboard_44.jpg to dataset/balanced_waste_images/Keyboard\n",
      "Copying Keyboard_256.jpg to dataset/balanced_waste_images/Keyboard\n",
      "Copying Keyboard_220.jpg to dataset/balanced_waste_images/Keyboard\n",
      "Copying Keyboard_93.jpg to dataset/balanced_waste_images/Keyboard\n",
      "Copying Keyboard_155.jpg to dataset/balanced_waste_images/Keyboard\n",
      "Copying Keyboard_207.jpg to dataset/balanced_waste_images/Keyboard\n",
      "Copying Keyboard_170.jpg to dataset/balanced_waste_images/Keyboard\n",
      "Copying Keyboard_132.jpg to dataset/balanced_waste_images/Keyboard\n",
      "Copying Keyboard_225.jpg to dataset/balanced_waste_images/Keyboard\n",
      "Copying Keyboard_47.jpg to dataset/balanced_waste_images/Keyboard\n",
      "Copying Keyboard_72.jpg to dataset/balanced_waste_images/Keyboard\n",
      "Copying Keyboard_50.jpg to dataset/balanced_waste_images/Keyboard\n",
      "Copying Keyboard_115.jpg to dataset/balanced_waste_images/Keyboard\n",
      "Copying Keyboard_221.jpg to dataset/balanced_waste_images/Keyboard\n",
      "Copying Keyboard_149.jpg to dataset/balanced_waste_images/Keyboard\n",
      "Copying Keyboard_6.jpg to dataset/balanced_waste_images/Keyboard\n",
      "Copying Keyboard_29.jpg to dataset/balanced_waste_images/Keyboard\n",
      "Copying Keyboard_162.jpg to dataset/balanced_waste_images/Keyboard\n",
      "Copying Keyboard_63.jpg to dataset/balanced_waste_images/Keyboard\n",
      "Copying Keyboard_257.jpg to dataset/balanced_waste_images/Keyboard\n",
      "Copying Keyboard_172.jpg to dataset/balanced_waste_images/Keyboard\n",
      "Copying Keyboard_55.jpg to dataset/balanced_waste_images/Keyboard\n",
      "Copying Keyboard_123.jpg to dataset/balanced_waste_images/Keyboard\n",
      "Copying Keyboard_244.jpg to dataset/balanced_waste_images/Keyboard\n",
      "Copying Keyboard_33.jpg to dataset/balanced_waste_images/Keyboard\n",
      "Copying Keyboard_191.jpg to dataset/balanced_waste_images/Keyboard\n",
      "Copying Keyboard_196.jpg to dataset/balanced_waste_images/Keyboard\n",
      "Copying Keyboard_182.jpg to dataset/balanced_waste_images/Keyboard\n",
      "Copying Keyboard_116.jpg to dataset/balanced_waste_images/Keyboard\n",
      "Copying Keyboard_133.jpg to dataset/balanced_waste_images/Keyboard\n",
      "Copying Keyboard_287.jpg to dataset/balanced_waste_images/Keyboard\n",
      "Copying Keyboard_278.jpg to dataset/balanced_waste_images/Keyboard\n",
      "Copying Keyboard_206.jpg to dataset/balanced_waste_images/Keyboard\n",
      "Copying Keyboard_86.jpg to dataset/balanced_waste_images/Keyboard\n",
      "Copying Keyboard_272.jpg to dataset/balanced_waste_images/Keyboard\n",
      "Copying Keyboard_188.jpg to dataset/balanced_waste_images/Keyboard\n",
      "Copying Keyboard_185.jpg to dataset/balanced_waste_images/Keyboard\n",
      "Copying Keyboard_74.jpg to dataset/balanced_waste_images/Keyboard\n",
      "Copying Keyboard_237.jpg to dataset/balanced_waste_images/Keyboard\n",
      "Copying Keyboard_246.jpg to dataset/balanced_waste_images/Keyboard\n",
      "Copying Keyboard_212.jpg to dataset/balanced_waste_images/Keyboard\n",
      "Copying Keyboard_17.jpg to dataset/balanced_waste_images/Keyboard\n",
      "Copying Keyboard_79.jpg to dataset/balanced_waste_images/Keyboard\n",
      "Copying Keyboard_168.jpg to dataset/balanced_waste_images/Keyboard\n",
      "Copying Keyboard_175.jpg to dataset/balanced_waste_images/Keyboard\n",
      "Copying Keyboard_255.jpg to dataset/balanced_waste_images/Keyboard\n",
      "Copying Keyboard_145.jpg to dataset/balanced_waste_images/Keyboard\n",
      "Copying Keyboard_253.jpg to dataset/balanced_waste_images/Keyboard\n",
      "Copying Keyboard_53.jpg to dataset/balanced_waste_images/Keyboard\n",
      "Copying Keyboard_254.jpg to dataset/balanced_waste_images/Keyboard\n",
      "Copying Keyboard_240.jpg to dataset/balanced_waste_images/Keyboard\n",
      "Copying Keyboard_268.jpg to dataset/balanced_waste_images/Keyboard\n",
      "Copying Keyboard_8.jpg to dataset/balanced_waste_images/Keyboard\n",
      "Copying Keyboard_289.jpg to dataset/balanced_waste_images/Keyboard\n",
      "Copying Keyboard_134.jpg to dataset/balanced_waste_images/Keyboard\n",
      "Copying Keyboard_298.jpg to dataset/balanced_waste_images/Keyboard\n",
      "Copying Keyboard_276.jpg to dataset/balanced_waste_images/Keyboard\n",
      "Copying Keyboard_90.jpg to dataset/balanced_waste_images/Keyboard\n",
      "Copying Keyboard_269.jpg to dataset/balanced_waste_images/Keyboard\n",
      "Copying Keyboard_243.jpg to dataset/balanced_waste_images/Keyboard\n",
      "Copying Keyboard_270.jpg to dataset/balanced_waste_images/Keyboard\n",
      "Copying Keyboard_180.jpg to dataset/balanced_waste_images/Keyboard\n",
      "Copying Keyboard_124.jpg to dataset/balanced_waste_images/Keyboard\n",
      "Copying Keyboard_144.jpg to dataset/balanced_waste_images/Keyboard\n",
      "Copying Keyboard_274.jpg to dataset/balanced_waste_images/Keyboard\n",
      "Copying Keyboard_203.jpg to dataset/balanced_waste_images/Keyboard\n",
      "Copying Keyboard_56.jpg to dataset/balanced_waste_images/Keyboard\n",
      "Copying Keyboard_230.jpg to dataset/balanced_waste_images/Keyboard\n",
      "Copying Keyboard_195.jpg to dataset/balanced_waste_images/Keyboard\n",
      "Copying Keyboard_288.jpg to dataset/balanced_waste_images/Keyboard\n",
      "Copying Keyboard_199.jpg to dataset/balanced_waste_images/Keyboard\n",
      "Copying Keyboard_136.jpg to dataset/balanced_waste_images/Keyboard\n",
      "Copying Keyboard_9.jpg to dataset/balanced_waste_images/Keyboard\n",
      "Copying Keyboard_210.jpg to dataset/balanced_waste_images/Keyboard\n",
      "Copying Keyboard_141.jpg to dataset/balanced_waste_images/Keyboard\n",
      "Copying Keyboard_293.jpg to dataset/balanced_waste_images/Keyboard\n",
      "Copying Keyboard_69.jpg to dataset/balanced_waste_images/Keyboard\n",
      "Copying Keyboard_135.jpg to dataset/balanced_waste_images/Keyboard\n",
      "Copying Keyboard_219.jpg to dataset/balanced_waste_images/Keyboard\n",
      "Copying Keyboard_51.jpg to dataset/balanced_waste_images/Keyboard\n",
      "Copying Keyboard_97.jpg to dataset/balanced_waste_images/Keyboard\n",
      "Copying Keyboard_59.jpg to dataset/balanced_waste_images/Keyboard\n",
      "Copying Keyboard_101.jpg to dataset/balanced_waste_images/Keyboard\n",
      "Copying Keyboard_291.jpg to dataset/balanced_waste_images/Keyboard\n",
      "Copying Keyboard_28.jpg to dataset/balanced_waste_images/Keyboard\n",
      "Copying Keyboard_299.jpg to dataset/balanced_waste_images/Keyboard\n",
      "Copying Keyboard_38.jpg to dataset/balanced_waste_images/Keyboard\n",
      "Copying Keyboard_179.jpg to dataset/balanced_waste_images/Keyboard\n",
      "Copying Keyboard_41.jpg to dataset/balanced_waste_images/Keyboard\n",
      "Copying Keyboard_0.jpg to dataset/balanced_waste_images/Keyboard\n",
      "Copying Keyboard_125.jpg to dataset/balanced_waste_images/Keyboard\n",
      "Copying Keyboard_46.jpg to dataset/balanced_waste_images/Keyboard\n",
      "Copying Keyboard_82.jpg to dataset/balanced_waste_images/Keyboard\n",
      "Copying Keyboard_49.jpg to dataset/balanced_waste_images/Keyboard\n",
      "Copying Keyboard_164.jpg to dataset/balanced_waste_images/Keyboard\n",
      "Copying Keyboard_263.jpg to dataset/balanced_waste_images/Keyboard\n",
      "Copying Keyboard_26.jpg to dataset/balanced_waste_images/Keyboard\n",
      "Copying Keyboard_119.jpg to dataset/balanced_waste_images/Keyboard\n",
      "Copying Keyboard_58.jpg to dataset/balanced_waste_images/Keyboard\n",
      "Copying Keyboard_30.jpg to dataset/balanced_waste_images/Keyboard\n",
      "Copying Keyboard_27.jpg to dataset/balanced_waste_images/Keyboard\n",
      "Copying Keyboard_238.jpg to dataset/balanced_waste_images/Keyboard\n",
      "Copying Keyboard_10.jpg to dataset/balanced_waste_images/Keyboard\n",
      "Copying Keyboard_160.jpg to dataset/balanced_waste_images/Keyboard\n",
      "Copying Keyboard_2.jpg to dataset/balanced_waste_images/Keyboard\n",
      "Copying Keyboard_204.jpg to dataset/balanced_waste_images/Keyboard\n",
      "Copying Keyboard_12.jpg to dataset/balanced_waste_images/Keyboard\n",
      "Copying Keyboard_104.jpg to dataset/balanced_waste_images/Keyboard\n",
      "Copying Keyboard_67.jpg to dataset/balanced_waste_images/Keyboard\n",
      "Copying Keyboard_98.jpg to dataset/balanced_waste_images/Keyboard\n",
      "Copying Keyboard_70.jpg to dataset/balanced_waste_images/Keyboard\n",
      "Copying Keyboard_273.jpg to dataset/balanced_waste_images/Keyboard\n",
      "Copying Keyboard_48.jpg to dataset/balanced_waste_images/Keyboard\n",
      "Copying Keyboard_153.jpg to dataset/balanced_waste_images/Keyboard\n",
      "Copying Keyboard_197.jpg to dataset/balanced_waste_images/Keyboard\n",
      "Copying Keyboard_127.jpg to dataset/balanced_waste_images/Keyboard\n",
      "Copying Keyboard_96.jpg to dataset/balanced_waste_images/Keyboard\n",
      "Copying Keyboard_54.jpg to dataset/balanced_waste_images/Keyboard\n",
      "Copying Keyboard_112.jpg to dataset/balanced_waste_images/Keyboard\n",
      "Copying Keyboard_52.jpg to dataset/balanced_waste_images/Keyboard\n",
      "Copying Keyboard_100.jpg to dataset/balanced_waste_images/Keyboard\n",
      "Copying Keyboard_202.jpg to dataset/balanced_waste_images/Keyboard\n",
      "Copying Keyboard_39.jpg to dataset/balanced_waste_images/Keyboard\n",
      "Copying Keyboard_107.jpg to dataset/balanced_waste_images/Keyboard\n",
      "Copying Keyboard_245.jpg to dataset/balanced_waste_images/Keyboard\n",
      "Copying Keyboard_215.jpg to dataset/balanced_waste_images/Keyboard\n",
      "Copying Keyboard_250.jpg to dataset/balanced_waste_images/Keyboard\n",
      "Copying Keyboard_78.jpg to dataset/balanced_waste_images/Keyboard\n",
      "Copying Keyboard_15.jpg to dataset/balanced_waste_images/Keyboard\n",
      "Copying Keyboard_71.jpg to dataset/balanced_waste_images/Keyboard\n",
      "Copying Keyboard_194.jpg to dataset/balanced_waste_images/Keyboard\n",
      "Copying Keyboard_187.jpg to dataset/balanced_waste_images/Keyboard\n",
      "Copying Keyboard_233.jpg to dataset/balanced_waste_images/Keyboard\n",
      "Copying Keyboard_32.jpg to dataset/balanced_waste_images/Keyboard\n",
      "Copying Keyboard_60.jpg to dataset/balanced_waste_images/Keyboard\n",
      "Copying Keyboard_20.jpg to dataset/balanced_waste_images/Keyboard\n",
      "Copying Keyboard_201.jpg to dataset/balanced_waste_images/Keyboard\n",
      "Copying Keyboard_283.jpg to dataset/balanced_waste_images/Keyboard\n",
      "Copying Keyboard_281.jpg to dataset/balanced_waste_images/Keyboard\n",
      "Copying Keyboard_87.jpg to dataset/balanced_waste_images/Keyboard\n",
      "Copying Keyboard_5.jpg to dataset/balanced_waste_images/Keyboard\n",
      "Copying Keyboard_165.jpg to dataset/balanced_waste_images/Keyboard\n",
      "Copying Keyboard_193.jpg to dataset/balanced_waste_images/Keyboard\n",
      "Copying Keyboard_232.jpg to dataset/balanced_waste_images/Keyboard\n",
      "Copying Keyboard_45.jpg to dataset/balanced_waste_images/Keyboard\n",
      "Copying Keyboard_234.jpg to dataset/balanced_waste_images/Keyboard\n",
      "Copying Keyboard_110.jpg to dataset/balanced_waste_images/Keyboard\n",
      "Copying Keyboard_173.jpg to dataset/balanced_waste_images/Keyboard\n",
      "Copying Keyboard_236.jpg to dataset/balanced_waste_images/Keyboard\n",
      "Copying Keyboard_21.jpg to dataset/balanced_waste_images/Keyboard\n",
      "Copying Keyboard_176.jpg to dataset/balanced_waste_images/Keyboard\n",
      "Copying Keyboard_1.jpg to dataset/balanced_waste_images/Keyboard\n",
      "Copying Keyboard_111.jpg to dataset/balanced_waste_images/Keyboard\n",
      "Copying Keyboard_42.jpg to dataset/balanced_waste_images/Keyboard\n",
      "Copying Keyboard_13.jpg to dataset/balanced_waste_images/Keyboard\n",
      "Copying Keyboard_117.jpg to dataset/balanced_waste_images/Keyboard\n",
      "Copying Keyboard_252.jpg to dataset/balanced_waste_images/Keyboard\n",
      "Copying Keyboard_218.jpg to dataset/balanced_waste_images/Keyboard\n",
      "Copying Keyboard_214.jpg to dataset/balanced_waste_images/Keyboard\n",
      "Copying Keyboard_3.jpg to dataset/balanced_waste_images/Keyboard\n",
      "Copying Keyboard_73.jpg to dataset/balanced_waste_images/Keyboard\n",
      "Copying Keyboard_35.jpg to dataset/balanced_waste_images/Keyboard\n",
      "Copying Keyboard_91.jpg to dataset/balanced_waste_images/Keyboard\n",
      "Copying Keyboard_7.jpg to dataset/balanced_waste_images/Keyboard\n",
      "Copying Keyboard_89.jpg to dataset/balanced_waste_images/Keyboard\n",
      "Copying Keyboard_11.jpg to dataset/balanced_waste_images/Keyboard\n",
      "Copying Keyboard_94.jpg to dataset/balanced_waste_images/Keyboard\n",
      "Copying Keyboard_156.jpg to dataset/balanced_waste_images/Keyboard\n",
      "Copying Keyboard_85.jpg to dataset/balanced_waste_images/Keyboard\n",
      "Copying Keyboard_297.jpg to dataset/balanced_waste_images/Keyboard\n",
      "Copying Keyboard_166.jpg to dataset/balanced_waste_images/Keyboard\n",
      "Copying Keyboard_161.jpg to dataset/balanced_waste_images/Keyboard\n",
      "Copying Keyboard_157.jpg to dataset/balanced_waste_images/Keyboard\n",
      "Copying Keyboard_271.jpg to dataset/balanced_waste_images/Keyboard\n",
      "Copying Keyboard_249.jpg to dataset/balanced_waste_images/Keyboard\n",
      "Copying Keyboard_171.jpg to dataset/balanced_waste_images/Keyboard\n",
      "Copying Keyboard_139.jpg to dataset/balanced_waste_images/Keyboard\n",
      "Copying Keyboard_295.jpg to dataset/balanced_waste_images/Keyboard\n",
      "Copying Keyboard_186.jpg to dataset/balanced_waste_images/Keyboard\n",
      "Copying Keyboard_142.jpg to dataset/balanced_waste_images/Keyboard\n",
      "Copying Keyboard_14.jpg to dataset/balanced_waste_images/Keyboard\n",
      "Copying Keyboard_181.jpg to dataset/balanced_waste_images/Keyboard\n",
      "Copying Keyboard_296.jpg to dataset/balanced_waste_images/Keyboard\n",
      "Copying Keyboard_120.jpg to dataset/balanced_waste_images/Keyboard\n",
      "Copying Keyboard_138.jpg to dataset/balanced_waste_images/Keyboard\n",
      "Copying Keyboard_36.jpg to dataset/balanced_waste_images/Keyboard\n",
      "Copying Keyboard_213.jpg to dataset/balanced_waste_images/Keyboard\n",
      "Copying Keyboard_261.jpg to dataset/balanced_waste_images/Keyboard\n",
      "Copying Keyboard_64.jpg to dataset/balanced_waste_images/Keyboard\n",
      "Copying Keyboard_223.jpg to dataset/balanced_waste_images/Keyboard\n",
      "Copying Washing_Machine_117.jpg to dataset/balanced_waste_images/Washing Machine\n",
      "Copying Washing_Machine_244.jpg to dataset/balanced_waste_images/Washing Machine\n",
      "Copying Washing_Machine_201.jpg to dataset/balanced_waste_images/Washing Machine\n",
      "Copying Washing_Machine_221.jpg to dataset/balanced_waste_images/Washing Machine\n",
      "Copying Washing_Machine_283.jpg to dataset/balanced_waste_images/Washing Machine\n",
      "Copying Washing_Machine_64.jpg to dataset/balanced_waste_images/Washing Machine\n",
      "Copying Washing_Machine_220.jpg to dataset/balanced_waste_images/Washing Machine\n",
      "Copying Washing_Machine_205.jpg to dataset/balanced_waste_images/Washing Machine\n",
      "Copying Washing_Machine_155.jpg to dataset/balanced_waste_images/Washing Machine\n",
      "Copying Washing_Machine_144.jpg to dataset/balanced_waste_images/Washing Machine\n",
      "Copying Washing_Machine_288.jpg to dataset/balanced_waste_images/Washing Machine\n",
      "Copying Washing_Machine_68.jpg to dataset/balanced_waste_images/Washing Machine\n",
      "Copying Washing_Machine_183.jpg to dataset/balanced_waste_images/Washing Machine\n",
      "Copying Washing_Machine_3.jpg to dataset/balanced_waste_images/Washing Machine\n",
      "Copying Washing_Machine_32.jpg to dataset/balanced_waste_images/Washing Machine\n",
      "Copying Washing_Machine_154.jpg to dataset/balanced_waste_images/Washing Machine\n",
      "Copying Washing_Machine_112.jpg to dataset/balanced_waste_images/Washing Machine\n",
      "Copying Washing_Machine_6.jpg to dataset/balanced_waste_images/Washing Machine\n",
      "Copying Washing_Machine_193.jpg to dataset/balanced_waste_images/Washing Machine\n",
      "Copying Washing_Machine_26.jpg to dataset/balanced_waste_images/Washing Machine\n",
      "Copying Washing_Machine_101.jpg to dataset/balanced_waste_images/Washing Machine\n",
      "Copying Washing_Machine_222.jpg to dataset/balanced_waste_images/Washing Machine\n",
      "Copying Washing_Machine_202.jpg to dataset/balanced_waste_images/Washing Machine\n",
      "Copying Washing_Machine_173.jpg to dataset/balanced_waste_images/Washing Machine\n",
      "Copying Washing_Machine_124.jpg to dataset/balanced_waste_images/Washing Machine\n",
      "Copying Washing_Machine_38.jpg to dataset/balanced_waste_images/Washing Machine\n",
      "Copying Washing_Machine_163.jpg to dataset/balanced_waste_images/Washing Machine\n",
      "Copying Washing_Machine_119.jpg to dataset/balanced_waste_images/Washing Machine\n",
      "Copying Washing_Machine_126.jpg to dataset/balanced_waste_images/Washing Machine\n",
      "Copying Washing_Machine_54.jpg to dataset/balanced_waste_images/Washing Machine\n",
      "Copying Washing_Machine_7.jpg to dataset/balanced_waste_images/Washing Machine\n",
      "Copying Washing_Machine_29.jpg to dataset/balanced_waste_images/Washing Machine\n",
      "Copying Washing_Machine_1.jpg to dataset/balanced_waste_images/Washing Machine\n",
      "Copying Washing_Machine_246.jpg to dataset/balanced_waste_images/Washing Machine\n",
      "Copying Washing_Machine_170.jpg to dataset/balanced_waste_images/Washing Machine\n",
      "Copying Washing_Machine_182.jpg to dataset/balanced_waste_images/Washing Machine\n",
      "Copying Washing_Machine_16.jpg to dataset/balanced_waste_images/Washing Machine\n",
      "Copying Washing_Machine_153.jpg to dataset/balanced_waste_images/Washing Machine\n",
      "Copying Washing_Machine_248.jpg to dataset/balanced_waste_images/Washing Machine\n",
      "Copying Washing_Machine_120.jpg to dataset/balanced_waste_images/Washing Machine\n",
      "Copying Washing_Machine_35.jpg to dataset/balanced_waste_images/Washing Machine\n",
      "Copying Washing_Machine_184.jpg to dataset/balanced_waste_images/Washing Machine\n",
      "Copying Washing_Machine_285.jpg to dataset/balanced_waste_images/Washing Machine\n",
      "Copying Washing_Machine_272.jpg to dataset/balanced_waste_images/Washing Machine\n",
      "Copying Washing_Machine_74.jpg to dataset/balanced_waste_images/Washing Machine\n",
      "Copying Washing_Machine_69.jpg to dataset/balanced_waste_images/Washing Machine\n",
      "Copying Washing_Machine_213.jpg to dataset/balanced_waste_images/Washing Machine\n",
      "Copying Washing_Machine_111.jpg to dataset/balanced_waste_images/Washing Machine\n",
      "Copying Washing_Machine_218.jpg to dataset/balanced_waste_images/Washing Machine\n",
      "Copying Washing_Machine_209.jpg to dataset/balanced_waste_images/Washing Machine\n",
      "Copying Washing_Machine_72.jpg to dataset/balanced_waste_images/Washing Machine\n",
      "Copying Washing_Machine_186.jpg to dataset/balanced_waste_images/Washing Machine\n",
      "Copying Washing_Machine_73.jpg to dataset/balanced_waste_images/Washing Machine\n",
      "Copying Washing_Machine_138.jpg to dataset/balanced_waste_images/Washing Machine\n",
      "Copying Washing_Machine_9.jpg to dataset/balanced_waste_images/Washing Machine\n",
      "Copying Washing_Machine_188.jpg to dataset/balanced_waste_images/Washing Machine\n",
      "Copying Washing_Machine_19.jpg to dataset/balanced_waste_images/Washing Machine\n",
      "Copying Washing_Machine_84.jpg to dataset/balanced_waste_images/Washing Machine\n",
      "Copying Washing_Machine_255.jpg to dataset/balanced_waste_images/Washing Machine\n",
      "Copying Washing_Machine_274.jpg to dataset/balanced_waste_images/Washing Machine\n",
      "Copying Washing_Machine_107.jpg to dataset/balanced_waste_images/Washing Machine\n",
      "Copying Washing_Machine_165.jpg to dataset/balanced_waste_images/Washing Machine\n",
      "Copying Washing_Machine_110.jpg to dataset/balanced_waste_images/Washing Machine\n",
      "Copying Washing_Machine_15.jpg to dataset/balanced_waste_images/Washing Machine\n",
      "Copying Washing_Machine_233.jpg to dataset/balanced_waste_images/Washing Machine\n",
      "Copying Washing_Machine_55.jpg to dataset/balanced_waste_images/Washing Machine\n",
      "Copying Washing_Machine_252.jpg to dataset/balanced_waste_images/Washing Machine\n",
      "Copying Washing_Machine_230.jpg to dataset/balanced_waste_images/Washing Machine\n",
      "Copying Washing_Machine_166.jpg to dataset/balanced_waste_images/Washing Machine\n",
      "Copying Washing_Machine_204.jpg to dataset/balanced_waste_images/Washing Machine\n",
      "Copying Washing_Machine_281.jpg to dataset/balanced_waste_images/Washing Machine\n",
      "Copying Washing_Machine_17.jpg to dataset/balanced_waste_images/Washing Machine\n",
      "Copying Washing_Machine_208.jpg to dataset/balanced_waste_images/Washing Machine\n",
      "Copying Washing_Machine_158.jpg to dataset/balanced_waste_images/Washing Machine\n",
      "Copying Washing_Machine_125.jpg to dataset/balanced_waste_images/Washing Machine\n",
      "Copying Washing_Machine_262.jpg to dataset/balanced_waste_images/Washing Machine\n",
      "Copying Washing_Machine_269.jpg to dataset/balanced_waste_images/Washing Machine\n",
      "Copying Washing_Machine_245.jpg to dataset/balanced_waste_images/Washing Machine\n",
      "Copying Washing_Machine_121.jpg to dataset/balanced_waste_images/Washing Machine\n",
      "Copying Washing_Machine_94.jpg to dataset/balanced_waste_images/Washing Machine\n",
      "Copying Washing_Machine_200.jpg to dataset/balanced_waste_images/Washing Machine\n",
      "Copying Washing_Machine_87.jpg to dataset/balanced_waste_images/Washing Machine\n",
      "Copying Washing_Machine_191.jpg to dataset/balanced_waste_images/Washing Machine\n",
      "Copying Washing_Machine_140.jpg to dataset/balanced_waste_images/Washing Machine\n",
      "Copying Washing_Machine_41.jpg to dataset/balanced_waste_images/Washing Machine\n",
      "Copying Washing_Machine_86.jpg to dataset/balanced_waste_images/Washing Machine\n",
      "Copying Washing_Machine_162.jpg to dataset/balanced_waste_images/Washing Machine\n",
      "Copying Washing_Machine_254.jpg to dataset/balanced_waste_images/Washing Machine\n",
      "Copying Washing_Machine_139.jpg to dataset/balanced_waste_images/Washing Machine\n",
      "Copying Washing_Machine_298.jpg to dataset/balanced_waste_images/Washing Machine\n",
      "Copying Washing_Machine_270.jpg to dataset/balanced_waste_images/Washing Machine\n",
      "Copying Washing_Machine_194.jpg to dataset/balanced_waste_images/Washing Machine\n",
      "Copying Washing_Machine_253.jpg to dataset/balanced_waste_images/Washing Machine\n",
      "Copying Washing_Machine_8.jpg to dataset/balanced_waste_images/Washing Machine\n",
      "Copying Washing_Machine_50.jpg to dataset/balanced_waste_images/Washing Machine\n",
      "Copying Washing_Machine_268.jpg to dataset/balanced_waste_images/Washing Machine\n",
      "Copying Washing_Machine_292.jpg to dataset/balanced_waste_images/Washing Machine\n",
      "Copying Washing_Machine_156.jpg to dataset/balanced_waste_images/Washing Machine\n",
      "Copying Washing_Machine_42.jpg to dataset/balanced_waste_images/Washing Machine\n",
      "Copying Washing_Machine_271.jpg to dataset/balanced_waste_images/Washing Machine\n",
      "Copying Washing_Machine_238.jpg to dataset/balanced_waste_images/Washing Machine\n",
      "Copying Washing_Machine_71.jpg to dataset/balanced_waste_images/Washing Machine\n",
      "Copying Washing_Machine_240.jpg to dataset/balanced_waste_images/Washing Machine\n",
      "Copying Washing_Machine_187.jpg to dataset/balanced_waste_images/Washing Machine\n",
      "Copying Washing_Machine_93.jpg to dataset/balanced_waste_images/Washing Machine\n",
      "Copying Washing_Machine_261.jpg to dataset/balanced_waste_images/Washing Machine\n",
      "Copying Washing_Machine_181.jpg to dataset/balanced_waste_images/Washing Machine\n",
      "Copying Washing_Machine_132.jpg to dataset/balanced_waste_images/Washing Machine\n",
      "Copying Washing_Machine_47.jpg to dataset/balanced_waste_images/Washing Machine\n",
      "Copying Washing_Machine_131.jpg to dataset/balanced_waste_images/Washing Machine\n",
      "Copying Washing_Machine_60.jpg to dataset/balanced_waste_images/Washing Machine\n",
      "Copying Washing_Machine_287.jpg to dataset/balanced_waste_images/Washing Machine\n",
      "Copying Washing_Machine_77.jpg to dataset/balanced_waste_images/Washing Machine\n",
      "Copying Washing_Machine_234.jpg to dataset/balanced_waste_images/Washing Machine\n",
      "Copying Washing_Machine_203.jpg to dataset/balanced_waste_images/Washing Machine\n",
      "Copying Washing_Machine_109.jpg to dataset/balanced_waste_images/Washing Machine\n",
      "Copying Washing_Machine_134.jpg to dataset/balanced_waste_images/Washing Machine\n",
      "Copying Washing_Machine_207.jpg to dataset/balanced_waste_images/Washing Machine\n",
      "Copying Washing_Machine_137.jpg to dataset/balanced_waste_images/Washing Machine\n",
      "Copying Washing_Machine_115.jpg to dataset/balanced_waste_images/Washing Machine\n",
      "Copying Washing_Machine_13.jpg to dataset/balanced_waste_images/Washing Machine\n",
      "Copying Washing_Machine_161.jpg to dataset/balanced_waste_images/Washing Machine\n",
      "Copying Washing_Machine_133.jpg to dataset/balanced_waste_images/Washing Machine\n",
      "Copying Washing_Machine_91.jpg to dataset/balanced_waste_images/Washing Machine\n",
      "Copying Washing_Machine_78.jpg to dataset/balanced_waste_images/Washing Machine\n",
      "Copying Washing_Machine_295.jpg to dataset/balanced_waste_images/Washing Machine\n",
      "Copying Washing_Machine_143.jpg to dataset/balanced_waste_images/Washing Machine\n",
      "Copying Washing_Machine_216.jpg to dataset/balanced_waste_images/Washing Machine\n",
      "Copying Washing_Machine_231.jpg to dataset/balanced_waste_images/Washing Machine\n",
      "Copying Washing_Machine_127.jpg to dataset/balanced_waste_images/Washing Machine\n",
      "Copying Washing_Machine_33.jpg to dataset/balanced_waste_images/Washing Machine\n",
      "Copying Washing_Machine_141.jpg to dataset/balanced_waste_images/Washing Machine\n",
      "Copying Washing_Machine_199.jpg to dataset/balanced_waste_images/Washing Machine\n",
      "Copying Washing_Machine_212.jpg to dataset/balanced_waste_images/Washing Machine\n",
      "Copying Washing_Machine_98.jpg to dataset/balanced_waste_images/Washing Machine\n",
      "Copying Washing_Machine_57.jpg to dataset/balanced_waste_images/Washing Machine\n",
      "Copying Washing_Machine_296.jpg to dataset/balanced_waste_images/Washing Machine\n",
      "Copying Washing_Machine_197.jpg to dataset/balanced_waste_images/Washing Machine\n",
      "Copying Washing_Machine_18.jpg to dataset/balanced_waste_images/Washing Machine\n",
      "Copying Washing_Machine_168.jpg to dataset/balanced_waste_images/Washing Machine\n",
      "Copying Washing_Machine_62.jpg to dataset/balanced_waste_images/Washing Machine\n",
      "Copying Washing_Machine_5.jpg to dataset/balanced_waste_images/Washing Machine\n",
      "Copying Washing_Machine_185.jpg to dataset/balanced_waste_images/Washing Machine\n",
      "Copying Washing_Machine_59.jpg to dataset/balanced_waste_images/Washing Machine\n",
      "Copying Washing_Machine_293.jpg to dataset/balanced_waste_images/Washing Machine\n",
      "Copying Washing_Machine_39.jpg to dataset/balanced_waste_images/Washing Machine\n",
      "Copying Washing_Machine_276.jpg to dataset/balanced_waste_images/Washing Machine\n",
      "Copying Washing_Machine_70.jpg to dataset/balanced_waste_images/Washing Machine\n",
      "Copying Washing_Machine_97.jpg to dataset/balanced_waste_images/Washing Machine\n",
      "Copying Washing_Machine_136.jpg to dataset/balanced_waste_images/Washing Machine\n",
      "Copying Washing_Machine_56.jpg to dataset/balanced_waste_images/Washing Machine\n",
      "Copying Washing_Machine_172.jpg to dataset/balanced_waste_images/Washing Machine\n",
      "Copying Washing_Machine_164.jpg to dataset/balanced_waste_images/Washing Machine\n",
      "Copying Washing_Machine_243.jpg to dataset/balanced_waste_images/Washing Machine\n",
      "Copying Washing_Machine_227.jpg to dataset/balanced_waste_images/Washing Machine\n",
      "Copying Washing_Machine_250.jpg to dataset/balanced_waste_images/Washing Machine\n",
      "Copying Washing_Machine_11.jpg to dataset/balanced_waste_images/Washing Machine\n",
      "Copying Washing_Machine_43.jpg to dataset/balanced_waste_images/Washing Machine\n",
      "Copying Washing_Machine_10.jpg to dataset/balanced_waste_images/Washing Machine\n",
      "Copying Washing_Machine_100.jpg to dataset/balanced_waste_images/Washing Machine\n",
      "Copying Washing_Machine_51.jpg to dataset/balanced_waste_images/Washing Machine\n",
      "Copying Washing_Machine_46.jpg to dataset/balanced_waste_images/Washing Machine\n",
      "Copying Washing_Machine_21.jpg to dataset/balanced_waste_images/Washing Machine\n",
      "Copying Washing_Machine_180.jpg to dataset/balanced_waste_images/Washing Machine\n",
      "Copying Washing_Machine_96.jpg to dataset/balanced_waste_images/Washing Machine\n",
      "Copying Washing_Machine_273.jpg to dataset/balanced_waste_images/Washing Machine\n",
      "Copying Washing_Machine_82.jpg to dataset/balanced_waste_images/Washing Machine\n",
      "Copying Washing_Machine_278.jpg to dataset/balanced_waste_images/Washing Machine\n",
      "Copying Washing_Machine_151.jpg to dataset/balanced_waste_images/Washing Machine\n",
      "Copying Washing_Machine_89.jpg to dataset/balanced_waste_images/Washing Machine\n",
      "Copying Washing_Machine_225.jpg to dataset/balanced_waste_images/Washing Machine\n",
      "Copying Washing_Machine_195.jpg to dataset/balanced_waste_images/Washing Machine\n",
      "Copying Washing_Machine_44.jpg to dataset/balanced_waste_images/Washing Machine\n",
      "Copying Washing_Machine_0.jpg to dataset/balanced_waste_images/Washing Machine\n",
      "Copying Washing_Machine_113.jpg to dataset/balanced_waste_images/Washing Machine\n",
      "Copying Washing_Machine_31.jpg to dataset/balanced_waste_images/Washing Machine\n",
      "Copying Washing_Machine_237.jpg to dataset/balanced_waste_images/Washing Machine\n",
      "Copying Washing_Machine_175.jpg to dataset/balanced_waste_images/Washing Machine\n",
      "Copying Washing_Machine_235.jpg to dataset/balanced_waste_images/Washing Machine\n",
      "Copying Washing_Machine_257.jpg to dataset/balanced_waste_images/Washing Machine\n",
      "Copying Washing_Machine_76.jpg to dataset/balanced_waste_images/Washing Machine\n",
      "Copying Washing_Machine_157.jpg to dataset/balanced_waste_images/Washing Machine\n",
      "Copying Washing_Machine_176.jpg to dataset/balanced_waste_images/Washing Machine\n",
      "Copying Washing_Machine_2.jpg to dataset/balanced_waste_images/Washing Machine\n",
      "Copying Washing_Machine_290.jpg to dataset/balanced_waste_images/Washing Machine\n",
      "Copying Washing_Machine_79.jpg to dataset/balanced_waste_images/Washing Machine\n",
      "Copying Washing_Machine_236.jpg to dataset/balanced_waste_images/Washing Machine\n",
      "Copying Washing_Machine_210.jpg to dataset/balanced_waste_images/Washing Machine\n",
      "Copying Washing_Machine_249.jpg to dataset/balanced_waste_images/Washing Machine\n",
      "Copying Washing_Machine_196.jpg to dataset/balanced_waste_images/Washing Machine\n",
      "Copying Washing_Machine_219.jpg to dataset/balanced_waste_images/Washing Machine\n",
      "Copying Washing_Machine_28.jpg to dataset/balanced_waste_images/Washing Machine\n",
      "Copying Washing_Machine_30.jpg to dataset/balanced_waste_images/Washing Machine\n",
      "Copying Washing_Machine_179.jpg to dataset/balanced_waste_images/Washing Machine\n",
      "Copying Washing_Machine_45.jpg to dataset/balanced_waste_images/Washing Machine\n",
      "Copying Washing_Machine_123.jpg to dataset/balanced_waste_images/Washing Machine\n",
      "Copying Washing_Machine_160.jpg to dataset/balanced_waste_images/Washing Machine\n",
      "Copying Washing_Machine_256.jpg to dataset/balanced_waste_images/Washing Machine\n",
      "Copying Washing_Machine_258.jpg to dataset/balanced_waste_images/Washing Machine\n",
      "Copying Washing_Machine_223.jpg to dataset/balanced_waste_images/Washing Machine\n",
      "Copying Washing_Machine_159.jpg to dataset/balanced_waste_images/Washing Machine\n",
      "Copying Washing_Machine_217.jpg to dataset/balanced_waste_images/Washing Machine\n",
      "Copying Washing_Machine_81.jpg to dataset/balanced_waste_images/Washing Machine\n",
      "Copying Washing_Machine_104.jpg to dataset/balanced_waste_images/Washing Machine\n",
      "Copying Washing_Machine_297.jpg to dataset/balanced_waste_images/Washing Machine\n",
      "Copying Washing_Machine_206.jpg to dataset/balanced_waste_images/Washing Machine\n",
      "Copying Washing_Machine_14.jpg to dataset/balanced_waste_images/Washing Machine\n",
      "Copying Washing_Machine_12.jpg to dataset/balanced_waste_images/Washing Machine\n",
      "Copying Washing_Machine_167.jpg to dataset/balanced_waste_images/Washing Machine\n",
      "Copying Washing_Machine_27.jpg to dataset/balanced_waste_images/Washing Machine\n",
      "Copying Washing_Machine_102.jpg to dataset/balanced_waste_images/Washing Machine\n",
      "Copying Washing_Machine_289.jpg to dataset/balanced_waste_images/Washing Machine\n",
      "Copying Washing_Machine_215.jpg to dataset/balanced_waste_images/Washing Machine\n",
      "Copying Washing_Machine_63.jpg to dataset/balanced_waste_images/Washing Machine\n",
      "Copying Washing_Machine_299.jpg to dataset/balanced_waste_images/Washing Machine\n",
      "Copying Washing_Machine_36.jpg to dataset/balanced_waste_images/Washing Machine\n",
      "Copying Washing_Machine_20.jpg to dataset/balanced_waste_images/Washing Machine\n",
      "Copying Washing_Machine_58.jpg to dataset/balanced_waste_images/Washing Machine\n",
      "Copying Washing_Machine_228.jpg to dataset/balanced_waste_images/Washing Machine\n",
      "Copying Washing_Machine_85.jpg to dataset/balanced_waste_images/Washing Machine\n",
      "Copying Washing_Machine_53.jpg to dataset/balanced_waste_images/Washing Machine\n",
      "Copying Washing_Machine_142.jpg to dataset/balanced_waste_images/Washing Machine\n",
      "Copying Washing_Machine_52.jpg to dataset/balanced_waste_images/Washing Machine\n",
      "Copying Washing_Machine_48.jpg to dataset/balanced_waste_images/Washing Machine\n",
      "Copying Washing_Machine_135.jpg to dataset/balanced_waste_images/Washing Machine\n",
      "Copying Washing_Machine_214.jpg to dataset/balanced_waste_images/Washing Machine\n",
      "Copying Washing_Machine_114.jpg to dataset/balanced_waste_images/Washing Machine\n",
      "Copying Washing_Machine_232.jpg to dataset/balanced_waste_images/Washing Machine\n",
      "Copying Washing_Machine_80.jpg to dataset/balanced_waste_images/Washing Machine\n",
      "Copying Washing_Machine_291.jpg to dataset/balanced_waste_images/Washing Machine\n",
      "Copying Washing_Machine_178.jpg to dataset/balanced_waste_images/Washing Machine\n",
      "Copying Washing_Machine_90.jpg to dataset/balanced_waste_images/Washing Machine\n",
      "Copying Washing_Machine_171.jpg to dataset/balanced_waste_images/Washing Machine\n",
      "Copying Washing_Machine_149.jpg to dataset/balanced_waste_images/Washing Machine\n",
      "Copying Washing_Machine_116.jpg to dataset/balanced_waste_images/Washing Machine\n",
      "Copying Washing_Machine_25.jpg to dataset/balanced_waste_images/Washing Machine\n",
      "Copying Washing_Machine_263.jpg to dataset/balanced_waste_images/Washing Machine\n",
      "Copying Washing_Machine_145.jpg to dataset/balanced_waste_images/Washing Machine\n",
      "Copying Washing_Machine_67.jpg to dataset/balanced_waste_images/Washing Machine\n",
      "Copying Washing_Machine_49.jpg to dataset/balanced_waste_images/Washing Machine\n",
      "Copying Mobile_124.jpg to dataset/balanced_waste_images/Mobile\n",
      "Copying Mobile_102.jpg to dataset/balanced_waste_images/Mobile\n",
      "Copying Mobile_32.jpg to dataset/balanced_waste_images/Mobile\n",
      "Copying Mobile_154.jpg to dataset/balanced_waste_images/Mobile\n",
      "Copying Mobile_221.jpg to dataset/balanced_waste_images/Mobile\n",
      "Copying Mobile_186.jpg to dataset/balanced_waste_images/Mobile\n",
      "Copying Mobile_57.jpg to dataset/balanced_waste_images/Mobile\n",
      "Copying Mobile_89.jpg to dataset/balanced_waste_images/Mobile\n",
      "Copying Mobile_133.jpg to dataset/balanced_waste_images/Mobile\n",
      "Copying Mobile_67.jpg to dataset/balanced_waste_images/Mobile\n",
      "Copying Mobile_26.jpg to dataset/balanced_waste_images/Mobile\n",
      "Copying Mobile_8.jpg to dataset/balanced_waste_images/Mobile\n",
      "Copying Mobile_44.jpg to dataset/balanced_waste_images/Mobile\n",
      "Copying Mobile_76.jpg to dataset/balanced_waste_images/Mobile\n",
      "Copying Mobile_195.jpg to dataset/balanced_waste_images/Mobile\n",
      "Copying Mobile_216.jpg to dataset/balanced_waste_images/Mobile\n",
      "Copying Mobile_116.jpg to dataset/balanced_waste_images/Mobile\n",
      "Copying Mobile_20.jpg to dataset/balanced_waste_images/Mobile\n",
      "Copying Mobile_185.jpg to dataset/balanced_waste_images/Mobile\n",
      "Copying Mobile_138.jpg to dataset/balanced_waste_images/Mobile\n",
      "Copying Mobile_58.jpg to dataset/balanced_waste_images/Mobile\n",
      "Copying Mobile_51.jpg to dataset/balanced_waste_images/Mobile\n",
      "Copying Mobile_287.jpg to dataset/balanced_waste_images/Mobile\n",
      "Copying Mobile_136.jpg to dataset/balanced_waste_images/Mobile\n",
      "Copying Mobile_278.jpg to dataset/balanced_waste_images/Mobile\n",
      "Copying Mobile_156.jpg to dataset/balanced_waste_images/Mobile\n",
      "Copying Mobile_215.jpg to dataset/balanced_waste_images/Mobile\n",
      "Copying Mobile_170.jpg to dataset/balanced_waste_images/Mobile\n",
      "Copying Mobile_298.jpg to dataset/balanced_waste_images/Mobile\n",
      "Copying Mobile_80.jpg to dataset/balanced_waste_images/Mobile\n",
      "Copying Mobile_144.jpg to dataset/balanced_waste_images/Mobile\n",
      "Copying Mobile_132.jpg to dataset/balanced_waste_images/Mobile\n",
      "Copying Mobile_28.jpg to dataset/balanced_waste_images/Mobile\n",
      "Copying Mobile_85.jpg to dataset/balanced_waste_images/Mobile\n",
      "Copying Mobile_74.jpg to dataset/balanced_waste_images/Mobile\n",
      "Copying Mobile_162.jpg to dataset/balanced_waste_images/Mobile\n",
      "Copying Mobile_236.jpg to dataset/balanced_waste_images/Mobile\n",
      "Copying Mobile_3.jpg to dataset/balanced_waste_images/Mobile\n",
      "Copying Mobile_50.jpg to dataset/balanced_waste_images/Mobile\n",
      "Copying Mobile_14.jpg to dataset/balanced_waste_images/Mobile\n",
      "Copying Mobile_47.jpg to dataset/balanced_waste_images/Mobile\n",
      "Copying Mobile_19.jpg to dataset/balanced_waste_images/Mobile\n",
      "Copying Mobile_160.jpg to dataset/balanced_waste_images/Mobile\n",
      "Copying Mobile_49.jpg to dataset/balanced_waste_images/Mobile\n",
      "Copying Mobile_36.jpg to dataset/balanced_waste_images/Mobile\n",
      "Copying Mobile_15.jpg to dataset/balanced_waste_images/Mobile\n",
      "Copying Mobile_245.jpg to dataset/balanced_waste_images/Mobile\n",
      "Copying Mobile_248.jpg to dataset/balanced_waste_images/Mobile\n",
      "Copying Mobile_243.jpg to dataset/balanced_waste_images/Mobile\n",
      "Copying Mobile_86.jpg to dataset/balanced_waste_images/Mobile\n",
      "Copying Mobile_41.jpg to dataset/balanced_waste_images/Mobile\n",
      "Copying Mobile_59.jpg to dataset/balanced_waste_images/Mobile\n",
      "Copying Mobile_168.jpg to dataset/balanced_waste_images/Mobile\n",
      "Copying Mobile_234.jpg to dataset/balanced_waste_images/Mobile\n",
      "Copying Mobile_191.jpg to dataset/balanced_waste_images/Mobile\n",
      "Copying Mobile_134.jpg to dataset/balanced_waste_images/Mobile\n",
      "Copying Mobile_114.jpg to dataset/balanced_waste_images/Mobile\n",
      "Copying Mobile_52.jpg to dataset/balanced_waste_images/Mobile\n",
      "Copying Mobile_43.jpg to dataset/balanced_waste_images/Mobile\n",
      "Copying Mobile_6.jpg to dataset/balanced_waste_images/Mobile\n",
      "Copying Mobile_27.jpg to dataset/balanced_waste_images/Mobile\n",
      "Copying Mobile_64.jpg to dataset/balanced_waste_images/Mobile\n",
      "Copying Mobile_213.jpg to dataset/balanced_waste_images/Mobile\n",
      "Copying Mobile_94.jpg to dataset/balanced_waste_images/Mobile\n",
      "Copying Mobile_244.jpg to dataset/balanced_waste_images/Mobile\n",
      "Copying Mobile_207.jpg to dataset/balanced_waste_images/Mobile\n",
      "Copying Mobile_54.jpg to dataset/balanced_waste_images/Mobile\n",
      "Copying Mobile_292.jpg to dataset/balanced_waste_images/Mobile\n",
      "Copying Mobile_261.jpg to dataset/balanced_waste_images/Mobile\n",
      "Copying Mobile_113.jpg to dataset/balanced_waste_images/Mobile\n",
      "Copying Mobile_29.jpg to dataset/balanced_waste_images/Mobile\n",
      "Copying Mobile_258.jpg to dataset/balanced_waste_images/Mobile\n",
      "Copying Mobile_209.jpg to dataset/balanced_waste_images/Mobile\n",
      "Copying Mobile_109.jpg to dataset/balanced_waste_images/Mobile\n",
      "Copying Mobile_238.jpg to dataset/balanced_waste_images/Mobile\n",
      "Copying Mobile_90.jpg to dataset/balanced_waste_images/Mobile\n",
      "Copying Mobile_38.jpg to dataset/balanced_waste_images/Mobile\n",
      "Copying Mobile_200.jpg to dataset/balanced_waste_images/Mobile\n",
      "Copying Mobile_178.jpg to dataset/balanced_waste_images/Mobile\n",
      "Copying Mobile_119.jpg to dataset/balanced_waste_images/Mobile\n",
      "Copying Mobile_180.jpg to dataset/balanced_waste_images/Mobile\n",
      "Copying Mobile_100.jpg to dataset/balanced_waste_images/Mobile\n",
      "Copying Mobile_232.jpg to dataset/balanced_waste_images/Mobile\n",
      "Copying Mobile_107.jpg to dataset/balanced_waste_images/Mobile\n",
      "Copying Mobile_249.jpg to dataset/balanced_waste_images/Mobile\n",
      "Copying Mobile_220.jpg to dataset/balanced_waste_images/Mobile\n",
      "Copying Mobile_140.jpg to dataset/balanced_waste_images/Mobile\n",
      "Copying Mobile_46.jpg to dataset/balanced_waste_images/Mobile\n",
      "Copying Mobile_13.jpg to dataset/balanced_waste_images/Mobile\n",
      "Copying Mobile_270.jpg to dataset/balanced_waste_images/Mobile\n",
      "Copying Mobile_72.jpg to dataset/balanced_waste_images/Mobile\n",
      "Copying Mobile_17.jpg to dataset/balanced_waste_images/Mobile\n",
      "Copying Mobile_62.jpg to dataset/balanced_waste_images/Mobile\n",
      "Copying Mobile_149.jpg to dataset/balanced_waste_images/Mobile\n",
      "Copying Mobile_155.jpg to dataset/balanced_waste_images/Mobile\n",
      "Copying Mobile_171.jpg to dataset/balanced_waste_images/Mobile\n",
      "Copying Mobile_158.jpg to dataset/balanced_waste_images/Mobile\n",
      "Copying Mobile_293.jpg to dataset/balanced_waste_images/Mobile\n",
      "Copying Mobile_10.jpg to dataset/balanced_waste_images/Mobile\n",
      "Copying Mobile_240.jpg to dataset/balanced_waste_images/Mobile\n",
      "Copying Mobile_182.jpg to dataset/balanced_waste_images/Mobile\n",
      "Copying Mobile_268.jpg to dataset/balanced_waste_images/Mobile\n",
      "Copying Mobile_135.jpg to dataset/balanced_waste_images/Mobile\n",
      "Copying Mobile_93.jpg to dataset/balanced_waste_images/Mobile\n",
      "Copying Mobile_188.jpg to dataset/balanced_waste_images/Mobile\n",
      "Copying Mobile_161.jpg to dataset/balanced_waste_images/Mobile\n",
      "Copying Mobile_173.jpg to dataset/balanced_waste_images/Mobile\n",
      "Copying Mobile_246.jpg to dataset/balanced_waste_images/Mobile\n",
      "Copying Mobile_101.jpg to dataset/balanced_waste_images/Mobile\n",
      "Copying Mobile_5.jpg to dataset/balanced_waste_images/Mobile\n",
      "Copying Mobile_273.jpg to dataset/balanced_waste_images/Mobile\n",
      "Copying Mobile_272.jpg to dataset/balanced_waste_images/Mobile\n",
      "Copying Mobile_33.jpg to dataset/balanced_waste_images/Mobile\n",
      "Copying Mobile_223.jpg to dataset/balanced_waste_images/Mobile\n",
      "Copying Mobile_98.jpg to dataset/balanced_waste_images/Mobile\n",
      "Copying Mobile_42.jpg to dataset/balanced_waste_images/Mobile\n",
      "Copying Mobile_91.jpg to dataset/balanced_waste_images/Mobile\n",
      "Copying Mobile_203.jpg to dataset/balanced_waste_images/Mobile\n",
      "Copying Mobile_201.jpg to dataset/balanced_waste_images/Mobile\n",
      "Copying Mobile_79.jpg to dataset/balanced_waste_images/Mobile\n",
      "Copying Mobile_227.jpg to dataset/balanced_waste_images/Mobile\n",
      "Copying Mobile_30.jpg to dataset/balanced_waste_images/Mobile\n",
      "Copying Mobile_71.jpg to dataset/balanced_waste_images/Mobile\n",
      "Copying Mobile_39.jpg to dataset/balanced_waste_images/Mobile\n",
      "Copying Mobile_212.jpg to dataset/balanced_waste_images/Mobile\n",
      "Copying Mobile_274.jpg to dataset/balanced_waste_images/Mobile\n",
      "Copying Mobile_237.jpg to dataset/balanced_waste_images/Mobile\n",
      "Copying Mobile_214.jpg to dataset/balanced_waste_images/Mobile\n",
      "Copying Mobile_228.jpg to dataset/balanced_waste_images/Mobile\n",
      "Copying Mobile_84.jpg to dataset/balanced_waste_images/Mobile\n",
      "Copying Mobile_288.jpg to dataset/balanced_waste_images/Mobile\n",
      "Copying Mobile_110.jpg to dataset/balanced_waste_images/Mobile\n",
      "Copying Mobile_250.jpg to dataset/balanced_waste_images/Mobile\n",
      "Copying Mobile_7.jpg to dataset/balanced_waste_images/Mobile\n",
      "Copying Mobile_21.jpg to dataset/balanced_waste_images/Mobile\n",
      "Copying Mobile_181.jpg to dataset/balanced_waste_images/Mobile\n",
      "Copying Mobile_9.jpg to dataset/balanced_waste_images/Mobile\n",
      "Copying Mobile_204.jpg to dataset/balanced_waste_images/Mobile\n",
      "Copying Mobile_262.jpg to dataset/balanced_waste_images/Mobile\n",
      "Copying Mobile_255.jpg to dataset/balanced_waste_images/Mobile\n",
      "Copying Mobile_55.jpg to dataset/balanced_waste_images/Mobile\n",
      "Copying Mobile_233.jpg to dataset/balanced_waste_images/Mobile\n",
      "Copying Mobile_25.jpg to dataset/balanced_waste_images/Mobile\n",
      "Copying Mobile_120.jpg to dataset/balanced_waste_images/Mobile\n",
      "Copying Mobile_127.jpg to dataset/balanced_waste_images/Mobile\n",
      "Copying Mobile_1.jpg to dataset/balanced_waste_images/Mobile\n",
      "Copying Mobile_205.jpg to dataset/balanced_waste_images/Mobile\n",
      "Copying Mobile_111.jpg to dataset/balanced_waste_images/Mobile\n",
      "Copying Mobile_184.jpg to dataset/balanced_waste_images/Mobile\n",
      "Copying Mobile_151.jpg to dataset/balanced_waste_images/Mobile\n",
      "Copying Mobile_256.jpg to dataset/balanced_waste_images/Mobile\n",
      "Copying Mobile_139.jpg to dataset/balanced_waste_images/Mobile\n",
      "Copying Mobile_0.jpg to dataset/balanced_waste_images/Mobile\n",
      "Copying Mobile_143.jpg to dataset/balanced_waste_images/Mobile\n",
      "Copying Mobile_172.jpg to dataset/balanced_waste_images/Mobile\n",
      "Copying Mobile_187.jpg to dataset/balanced_waste_images/Mobile\n",
      "Copying Mobile_121.jpg to dataset/balanced_waste_images/Mobile\n",
      "Copying Mobile_157.jpg to dataset/balanced_waste_images/Mobile\n",
      "Copying Mobile_299.jpg to dataset/balanced_waste_images/Mobile\n",
      "Copying Mobile_225.jpg to dataset/balanced_waste_images/Mobile\n",
      "Copying Mobile_297.jpg to dataset/balanced_waste_images/Mobile\n",
      "Copying Mobile_31.jpg to dataset/balanced_waste_images/Mobile\n",
      "Copying Mobile_291.jpg to dataset/balanced_waste_images/Mobile\n",
      "Copying Mobile_63.jpg to dataset/balanced_waste_images/Mobile\n",
      "Copying Mobile_11.jpg to dataset/balanced_waste_images/Mobile\n",
      "Copying Mobile_218.jpg to dataset/balanced_waste_images/Mobile\n",
      "Copying Mobile_254.jpg to dataset/balanced_waste_images/Mobile\n",
      "Copying Mobile_45.jpg to dataset/balanced_waste_images/Mobile\n",
      "Copying Mobile_112.jpg to dataset/balanced_waste_images/Mobile\n",
      "Copying Mobile_196.jpg to dataset/balanced_waste_images/Mobile\n",
      "Copying Mobile_115.jpg to dataset/balanced_waste_images/Mobile\n",
      "Copying Mobile_68.jpg to dataset/balanced_waste_images/Mobile\n",
      "Copying Mobile_290.jpg to dataset/balanced_waste_images/Mobile\n",
      "Copying Mobile_208.jpg to dataset/balanced_waste_images/Mobile\n",
      "Copying Mobile_117.jpg to dataset/balanced_waste_images/Mobile\n",
      "Copying Mobile_123.jpg to dataset/balanced_waste_images/Mobile\n",
      "Copying Mobile_125.jpg to dataset/balanced_waste_images/Mobile\n",
      "Copying Mobile_73.jpg to dataset/balanced_waste_images/Mobile\n",
      "Copying Mobile_253.jpg to dataset/balanced_waste_images/Mobile\n",
      "Copying Mobile_163.jpg to dataset/balanced_waste_images/Mobile\n",
      "Copying Mobile_69.jpg to dataset/balanced_waste_images/Mobile\n",
      "Copying Mobile_295.jpg to dataset/balanced_waste_images/Mobile\n",
      "Copying Mobile_87.jpg to dataset/balanced_waste_images/Mobile\n",
      "Copying Mobile_97.jpg to dataset/balanced_waste_images/Mobile\n",
      "Copying Mobile_257.jpg to dataset/balanced_waste_images/Mobile\n",
      "Copying Mobile_263.jpg to dataset/balanced_waste_images/Mobile\n",
      "Copying Mobile_217.jpg to dataset/balanced_waste_images/Mobile\n",
      "Copying Mobile_231.jpg to dataset/balanced_waste_images/Mobile\n",
      "Copying Mobile_296.jpg to dataset/balanced_waste_images/Mobile\n",
      "Copying Mobile_289.jpg to dataset/balanced_waste_images/Mobile\n",
      "Copying Mobile_199.jpg to dataset/balanced_waste_images/Mobile\n",
      "Copying Mobile_176.jpg to dataset/balanced_waste_images/Mobile\n",
      "Copying Mobile_137.jpg to dataset/balanced_waste_images/Mobile\n",
      "Copying Mobile_35.jpg to dataset/balanced_waste_images/Mobile\n",
      "Copying Mobile_166.jpg to dataset/balanced_waste_images/Mobile\n",
      "Copying Mobile_2.jpg to dataset/balanced_waste_images/Mobile\n",
      "Copying Mobile_104.jpg to dataset/balanced_waste_images/Mobile\n",
      "Copying Mobile_283.jpg to dataset/balanced_waste_images/Mobile\n",
      "Copying Mobile_141.jpg to dataset/balanced_waste_images/Mobile\n",
      "Copying Mobile_165.jpg to dataset/balanced_waste_images/Mobile\n",
      "Copying Mobile_206.jpg to dataset/balanced_waste_images/Mobile\n",
      "Copying Mobile_96.jpg to dataset/balanced_waste_images/Mobile\n",
      "Copying Mobile_126.jpg to dataset/balanced_waste_images/Mobile\n",
      "Copying Mobile_269.jpg to dataset/balanced_waste_images/Mobile\n",
      "Copying Mobile_16.jpg to dataset/balanced_waste_images/Mobile\n",
      "Copying Mobile_252.jpg to dataset/balanced_waste_images/Mobile\n",
      "Copying Mobile_164.jpg to dataset/balanced_waste_images/Mobile\n",
      "Copying Mobile_77.jpg to dataset/balanced_waste_images/Mobile\n",
      "Copying Mobile_281.jpg to dataset/balanced_waste_images/Mobile\n",
      "Copying Mobile_18.jpg to dataset/balanced_waste_images/Mobile\n",
      "Copying Mobile_210.jpg to dataset/balanced_waste_images/Mobile\n",
      "Copying Mobile_276.jpg to dataset/balanced_waste_images/Mobile\n",
      "Copying Mobile_81.jpg to dataset/balanced_waste_images/Mobile\n",
      "Copying Mobile_222.jpg to dataset/balanced_waste_images/Mobile\n",
      "Copying Mobile_271.jpg to dataset/balanced_waste_images/Mobile\n",
      "Copying Mobile_235.jpg to dataset/balanced_waste_images/Mobile\n",
      "Copying Mobile_197.jpg to dataset/balanced_waste_images/Mobile\n",
      "Copying Mobile_145.jpg to dataset/balanced_waste_images/Mobile\n",
      "Copying Mobile_175.jpg to dataset/balanced_waste_images/Mobile\n",
      "Copying Mobile_53.jpg to dataset/balanced_waste_images/Mobile\n",
      "Copying Mobile_194.jpg to dataset/balanced_waste_images/Mobile\n",
      "Copying Mobile_70.jpg to dataset/balanced_waste_images/Mobile\n",
      "Copying Mobile_193.jpg to dataset/balanced_waste_images/Mobile\n",
      "Copying Mobile_153.jpg to dataset/balanced_waste_images/Mobile\n",
      "Copying Mobile_82.jpg to dataset/balanced_waste_images/Mobile\n",
      "Copying Mobile_179.jpg to dataset/balanced_waste_images/Mobile\n",
      "Copying Mobile_78.jpg to dataset/balanced_waste_images/Mobile\n",
      "Copying Mobile_131.jpg to dataset/balanced_waste_images/Mobile\n",
      "Copying Mobile_219.jpg to dataset/balanced_waste_images/Mobile\n",
      "Copying Mobile_48.jpg to dataset/balanced_waste_images/Mobile\n",
      "Copying Mobile_230.jpg to dataset/balanced_waste_images/Mobile\n",
      "Copying Mobile_56.jpg to dataset/balanced_waste_images/Mobile\n",
      "Copying Mobile_12.jpg to dataset/balanced_waste_images/Mobile\n",
      "Copying Mobile_167.jpg to dataset/balanced_waste_images/Mobile\n",
      "Copying Mobile_142.jpg to dataset/balanced_waste_images/Mobile\n",
      "Copying Mobile_159.jpg to dataset/balanced_waste_images/Mobile\n",
      "Copying Mobile_183.jpg to dataset/balanced_waste_images/Mobile\n",
      "Copying Mobile_60.jpg to dataset/balanced_waste_images/Mobile\n",
      "Copying Mobile_202.jpg to dataset/balanced_waste_images/Mobile\n",
      "Copying Mobile_285.jpg to dataset/balanced_waste_images/Mobile\n",
      "Copying pcb_104.jpg to dataset/balanced_waste_images/PCB\n",
      "Copying pcb_203.jpg to dataset/balanced_waste_images/PCB\n",
      "Copying pcb_7.jpg to dataset/balanced_waste_images/PCB\n",
      "Copying pcb_160.jpg to dataset/balanced_waste_images/PCB\n",
      "Copying pcb_193.jpg to dataset/balanced_waste_images/PCB\n",
      "Copying pcb_157.jpg to dataset/balanced_waste_images/PCB\n",
      "Copying pcb_42.jpg to dataset/balanced_waste_images/PCB\n",
      "Copying pcb_89.jpg to dataset/balanced_waste_images/PCB\n",
      "Copying pcb_64.jpg to dataset/balanced_waste_images/PCB\n",
      "Copying pcb_200.jpg to dataset/balanced_waste_images/PCB\n",
      "Copying pcb_132.jpg to dataset/balanced_waste_images/PCB\n",
      "Copying pcb_17.jpg to dataset/balanced_waste_images/PCB\n",
      "Copying pcb_51.jpg to dataset/balanced_waste_images/PCB\n",
      "Copying pcb_209.jpg to dataset/balanced_waste_images/PCB\n",
      "Copying pcb_154.jpg to dataset/balanced_waste_images/PCB\n",
      "Copying pcb_30.jpg to dataset/balanced_waste_images/PCB\n",
      "Copying pcb_125.jpg to dataset/balanced_waste_images/PCB\n",
      "Copying pcb_20.jpg to dataset/balanced_waste_images/PCB\n",
      "Copying pcb_62.jpg to dataset/balanced_waste_images/PCB\n",
      "Copying pcb_123.jpg to dataset/balanced_waste_images/PCB\n",
      "Copying pcb_205.jpg to dataset/balanced_waste_images/PCB\n",
      "Copying pcb_262.jpg to dataset/balanced_waste_images/PCB\n",
      "Copying pcb_231.jpg to dataset/balanced_waste_images/PCB\n",
      "Copying pcb_253.jpg to dataset/balanced_waste_images/PCB\n",
      "Copying pcb_138.jpg to dataset/balanced_waste_images/PCB\n",
      "Copying pcb_43.jpg to dataset/balanced_waste_images/PCB\n",
      "Copying pcb_69.jpg to dataset/balanced_waste_images/PCB\n",
      "Copying pcb_292.jpg to dataset/balanced_waste_images/PCB\n",
      "Copying pcb_254.jpg to dataset/balanced_waste_images/PCB\n",
      "Copying pcb_199.jpg to dataset/balanced_waste_images/PCB\n",
      "Copying pcb_79.jpg to dataset/balanced_waste_images/PCB\n",
      "Copying pcb_165.jpg to dataset/balanced_waste_images/PCB\n",
      "Copying pcb_71.jpg to dataset/balanced_waste_images/PCB\n",
      "Copying pcb_290.jpg to dataset/balanced_waste_images/PCB\n",
      "Copying pcb_178.jpg to dataset/balanced_waste_images/PCB\n",
      "Copying pcb_243.jpg to dataset/balanced_waste_images/PCB\n",
      "Copying pcb_250.jpg to dataset/balanced_waste_images/PCB\n",
      "Copying pcb_18.jpg to dataset/balanced_waste_images/PCB\n",
      "Copying pcb_195.jpg to dataset/balanced_waste_images/PCB\n",
      "Copying pcb_27.jpg to dataset/balanced_waste_images/PCB\n",
      "Copying pcb_114.jpg to dataset/balanced_waste_images/PCB\n",
      "Copying pcb_78.jpg to dataset/balanced_waste_images/PCB\n",
      "Copying pcb_120.jpg to dataset/balanced_waste_images/PCB\n",
      "Copying pcb_77.jpg to dataset/balanced_waste_images/PCB\n",
      "Copying pcb_228.jpg to dataset/balanced_waste_images/PCB\n",
      "Copying pcb_87.jpg to dataset/balanced_waste_images/PCB\n",
      "Copying pcb_181.jpg to dataset/balanced_waste_images/PCB\n",
      "Copying pcb_297.jpg to dataset/balanced_waste_images/PCB\n",
      "Copying pcb_142.jpg to dataset/balanced_waste_images/PCB\n",
      "Copying pcb_218.jpg to dataset/balanced_waste_images/PCB\n",
      "Copying pcb_9.jpg to dataset/balanced_waste_images/PCB\n",
      "Copying pcb_15.jpg to dataset/balanced_waste_images/PCB\n",
      "Copying pcb_217.jpg to dataset/balanced_waste_images/PCB\n",
      "Copying pcb_28.jpg to dataset/balanced_waste_images/PCB\n",
      "Copying pcb_112.jpg to dataset/balanced_waste_images/PCB\n",
      "Copying pcb_212.jpg to dataset/balanced_waste_images/PCB\n",
      "Copying pcb_81.jpg to dataset/balanced_waste_images/PCB\n",
      "Copying pcb_53.jpg to dataset/balanced_waste_images/PCB\n",
      "Copying pcb_238.jpg to dataset/balanced_waste_images/PCB\n",
      "Copying pcb_0.jpg to dataset/balanced_waste_images/PCB\n",
      "Copying pcb_80.jpg to dataset/balanced_waste_images/PCB\n",
      "Copying pcb_127.jpg to dataset/balanced_waste_images/PCB\n",
      "Copying pcb_16.jpg to dataset/balanced_waste_images/PCB\n",
      "Copying pcb_29.jpg to dataset/balanced_waste_images/PCB\n",
      "Copying pcb_126.jpg to dataset/balanced_waste_images/PCB\n",
      "Copying pcb_256.jpg to dataset/balanced_waste_images/PCB\n",
      "Copying pcb_296.jpg to dataset/balanced_waste_images/PCB\n",
      "Copying pcb_170.jpg to dataset/balanced_waste_images/PCB\n",
      "Copying pcb_39.jpg to dataset/balanced_waste_images/PCB\n",
      "Copying pcb_276.jpg to dataset/balanced_waste_images/PCB\n",
      "Copying pcb_244.jpg to dataset/balanced_waste_images/PCB\n",
      "Copying pcb_233.jpg to dataset/balanced_waste_images/PCB\n",
      "Copying pcb_223.jpg to dataset/balanced_waste_images/PCB\n",
      "Copying pcb_131.jpg to dataset/balanced_waste_images/PCB\n",
      "Copying pcb_59.jpg to dataset/balanced_waste_images/PCB\n",
      "Copying pcb_287.jpg to dataset/balanced_waste_images/PCB\n",
      "Copying pcb_188.jpg to dataset/balanced_waste_images/PCB\n",
      "Copying pcb_285.jpg to dataset/balanced_waste_images/PCB\n",
      "Copying pcb_115.jpg to dataset/balanced_waste_images/PCB\n",
      "Copying pcb_171.jpg to dataset/balanced_waste_images/PCB\n",
      "Copying pcb_33.jpg to dataset/balanced_waste_images/PCB\n",
      "Copying pcb_8.jpg to dataset/balanced_waste_images/PCB\n",
      "Copying pcb_96.jpg to dataset/balanced_waste_images/PCB\n",
      "Copying pcb_55.jpg to dataset/balanced_waste_images/PCB\n",
      "Copying pcb_261.jpg to dataset/balanced_waste_images/PCB\n",
      "Copying pcb_91.jpg to dataset/balanced_waste_images/PCB\n",
      "Copying pcb_151.jpg to dataset/balanced_waste_images/PCB\n",
      "Copying pcb_269.jpg to dataset/balanced_waste_images/PCB\n",
      "Copying pcb_6.jpg to dataset/balanced_waste_images/PCB\n",
      "Copying pcb_35.jpg to dataset/balanced_waste_images/PCB\n",
      "Copying pcb_210.jpg to dataset/balanced_waste_images/PCB\n",
      "Copying pcb_100.jpg to dataset/balanced_waste_images/PCB\n",
      "Copying pcb_213.jpg to dataset/balanced_waste_images/PCB\n",
      "Copying pcb_72.jpg to dataset/balanced_waste_images/PCB\n",
      "Copying pcb_219.jpg to dataset/balanced_waste_images/PCB\n",
      "Copying pcb_46.jpg to dataset/balanced_waste_images/PCB\n",
      "Copying pcb_153.jpg to dataset/balanced_waste_images/PCB\n",
      "Copying pcb_208.jpg to dataset/balanced_waste_images/PCB\n",
      "Copying pcb_113.jpg to dataset/balanced_waste_images/PCB\n",
      "Copying pcb_159.jpg to dataset/balanced_waste_images/PCB\n",
      "Copying pcb_215.jpg to dataset/balanced_waste_images/PCB\n",
      "Copying pcb_271.jpg to dataset/balanced_waste_images/PCB\n",
      "Copying pcb_230.jpg to dataset/balanced_waste_images/PCB\n",
      "Copying pcb_41.jpg to dataset/balanced_waste_images/PCB\n",
      "Copying pcb_299.jpg to dataset/balanced_waste_images/PCB\n",
      "Copying pcb_135.jpg to dataset/balanced_waste_images/PCB\n",
      "Copying pcb_144.jpg to dataset/balanced_waste_images/PCB\n",
      "Copying pcb_13.jpg to dataset/balanced_waste_images/PCB\n",
      "Copying pcb_90.jpg to dataset/balanced_waste_images/PCB\n",
      "Copying pcb_25.jpg to dataset/balanced_waste_images/PCB\n",
      "Copying pcb_161.jpg to dataset/balanced_waste_images/PCB\n",
      "Copying pcb_48.jpg to dataset/balanced_waste_images/PCB\n",
      "Copying pcb_32.jpg to dataset/balanced_waste_images/PCB\n",
      "Copying pcb_221.jpg to dataset/balanced_waste_images/PCB\n",
      "Copying pcb_44.jpg to dataset/balanced_waste_images/PCB\n",
      "Copying pcb_137.jpg to dataset/balanced_waste_images/PCB\n",
      "Copying pcb_101.jpg to dataset/balanced_waste_images/PCB\n",
      "Copying pcb_252.jpg to dataset/balanced_waste_images/PCB\n",
      "Copying pcb_60.jpg to dataset/balanced_waste_images/PCB\n",
      "Copying pcb_70.jpg to dataset/balanced_waste_images/PCB\n",
      "Copying pcb_248.jpg to dataset/balanced_waste_images/PCB\n",
      "Copying pcb_140.jpg to dataset/balanced_waste_images/PCB\n",
      "Copying pcb_184.jpg to dataset/balanced_waste_images/PCB\n",
      "Copying pcb_116.jpg to dataset/balanced_waste_images/PCB\n",
      "Copying pcb_185.jpg to dataset/balanced_waste_images/PCB\n",
      "Copying pcb_76.jpg to dataset/balanced_waste_images/PCB\n",
      "Copying pcb_235.jpg to dataset/balanced_waste_images/PCB\n",
      "Copying pcb_289.jpg to dataset/balanced_waste_images/PCB\n",
      "Copying pcb_156.jpg to dataset/balanced_waste_images/PCB\n",
      "Copying pcb_97.jpg to dataset/balanced_waste_images/PCB\n",
      "Copying pcb_202.jpg to dataset/balanced_waste_images/PCB\n",
      "Copying pcb_197.jpg to dataset/balanced_waste_images/PCB\n",
      "Copying pcb_293.jpg to dataset/balanced_waste_images/PCB\n",
      "Copying pcb_67.jpg to dataset/balanced_waste_images/PCB\n",
      "Copying pcb_54.jpg to dataset/balanced_waste_images/PCB\n",
      "Copying pcb_109.jpg to dataset/balanced_waste_images/PCB\n",
      "Copying pcb_45.jpg to dataset/balanced_waste_images/PCB\n",
      "Copying pcb_173.jpg to dataset/balanced_waste_images/PCB\n",
      "Copying pcb_246.jpg to dataset/balanced_waste_images/PCB\n",
      "Copying pcb_225.jpg to dataset/balanced_waste_images/PCB\n",
      "Copying pcb_134.jpg to dataset/balanced_waste_images/PCB\n",
      "Copying pcb_268.jpg to dataset/balanced_waste_images/PCB\n",
      "Copying pcb_216.jpg to dataset/balanced_waste_images/PCB\n",
      "Copying pcb_270.jpg to dataset/balanced_waste_images/PCB\n",
      "Copying pcb_93.jpg to dataset/balanced_waste_images/PCB\n",
      "Copying pcb_3.jpg to dataset/balanced_waste_images/PCB\n",
      "Copying pcb_63.jpg to dataset/balanced_waste_images/PCB\n",
      "Copying pcb_155.jpg to dataset/balanced_waste_images/PCB\n",
      "Copying pcb_85.jpg to dataset/balanced_waste_images/PCB\n",
      "Copying pcb_82.jpg to dataset/balanced_waste_images/PCB\n",
      "Copying pcb_136.jpg to dataset/balanced_waste_images/PCB\n",
      "Copying pcb_214.jpg to dataset/balanced_waste_images/PCB\n",
      "Copying pcb_240.jpg to dataset/balanced_waste_images/PCB\n",
      "Copying pcb_278.jpg to dataset/balanced_waste_images/PCB\n",
      "Copying pcb_119.jpg to dataset/balanced_waste_images/PCB\n",
      "Copying pcb_232.jpg to dataset/balanced_waste_images/PCB\n",
      "Copying pcb_86.jpg to dataset/balanced_waste_images/PCB\n",
      "Copying pcb_31.jpg to dataset/balanced_waste_images/PCB\n",
      "Copying pcb_102.jpg to dataset/balanced_waste_images/PCB\n",
      "Copying pcb_1.jpg to dataset/balanced_waste_images/PCB\n",
      "Copying pcb_257.jpg to dataset/balanced_waste_images/PCB\n",
      "Copying pcb_58.jpg to dataset/balanced_waste_images/PCB\n",
      "Copying pcb_291.jpg to dataset/balanced_waste_images/PCB\n",
      "Copying pcb_172.jpg to dataset/balanced_waste_images/PCB\n",
      "Copying pcb_283.jpg to dataset/balanced_waste_images/PCB\n",
      "Copying pcb_191.jpg to dataset/balanced_waste_images/PCB\n",
      "Copying pcb_107.jpg to dataset/balanced_waste_images/PCB\n",
      "Copying pcb_206.jpg to dataset/balanced_waste_images/PCB\n",
      "Copying pcb_139.jpg to dataset/balanced_waste_images/PCB\n",
      "Copying pcb_273.jpg to dataset/balanced_waste_images/PCB\n",
      "Copying pcb_47.jpg to dataset/balanced_waste_images/PCB\n",
      "Copying pcb_98.jpg to dataset/balanced_waste_images/PCB\n",
      "Copying pcb_38.jpg to dataset/balanced_waste_images/PCB\n",
      "Copying pcb_245.jpg to dataset/balanced_waste_images/PCB\n",
      "Copying pcb_158.jpg to dataset/balanced_waste_images/PCB\n",
      "Copying pcb_49.jpg to dataset/balanced_waste_images/PCB\n",
      "Copying pcb_73.jpg to dataset/balanced_waste_images/PCB\n",
      "Copying pcb_163.jpg to dataset/balanced_waste_images/PCB\n",
      "Copying pcb_14.jpg to dataset/balanced_waste_images/PCB\n",
      "Copying pcb_10.jpg to dataset/balanced_waste_images/PCB\n",
      "Copying pcb_237.jpg to dataset/balanced_waste_images/PCB\n",
      "Copying pcb_52.jpg to dataset/balanced_waste_images/PCB\n",
      "Copying pcb_36.jpg to dataset/balanced_waste_images/PCB\n",
      "Copying pcb_288.jpg to dataset/balanced_waste_images/PCB\n",
      "Copying pcb_183.jpg to dataset/balanced_waste_images/PCB\n",
      "Copying pcb_234.jpg to dataset/balanced_waste_images/PCB\n",
      "Copying pcb_281.jpg to dataset/balanced_waste_images/PCB\n",
      "Copying pcb_74.jpg to dataset/balanced_waste_images/PCB\n",
      "Copying pcb_117.jpg to dataset/balanced_waste_images/PCB\n",
      "Copying pcb_5.jpg to dataset/balanced_waste_images/PCB\n",
      "Copying pcb_168.jpg to dataset/balanced_waste_images/PCB\n",
      "Copying pcb_220.jpg to dataset/balanced_waste_images/PCB\n",
      "Copying pcb_110.jpg to dataset/balanced_waste_images/PCB\n",
      "Copying pcb_236.jpg to dataset/balanced_waste_images/PCB\n",
      "Copying pcb_141.jpg to dataset/balanced_waste_images/PCB\n",
      "Copying pcb_255.jpg to dataset/balanced_waste_images/PCB\n",
      "Copying pcb_176.jpg to dataset/balanced_waste_images/PCB\n",
      "Copying pcb_180.jpg to dataset/balanced_waste_images/PCB\n",
      "Copying pcb_26.jpg to dataset/balanced_waste_images/PCB\n",
      "Copying pcb_94.jpg to dataset/balanced_waste_images/PCB\n",
      "Copying pcb_182.jpg to dataset/balanced_waste_images/PCB\n",
      "Copying pcb_121.jpg to dataset/balanced_waste_images/PCB\n",
      "Copying pcb_124.jpg to dataset/balanced_waste_images/PCB\n",
      "Copying pcb_167.jpg to dataset/balanced_waste_images/PCB\n",
      "Copying pcb_258.jpg to dataset/balanced_waste_images/PCB\n",
      "Copying pcb_222.jpg to dataset/balanced_waste_images/PCB\n",
      "Copying pcb_175.jpg to dataset/balanced_waste_images/PCB\n",
      "Copying pcb_84.jpg to dataset/balanced_waste_images/PCB\n",
      "Copying pcb_149.jpg to dataset/balanced_waste_images/PCB\n",
      "Copying pcb_201.jpg to dataset/balanced_waste_images/PCB\n",
      "Copying pcb_133.jpg to dataset/balanced_waste_images/PCB\n",
      "Copying pcb_57.jpg to dataset/balanced_waste_images/PCB\n",
      "Copying pcb_145.jpg to dataset/balanced_waste_images/PCB\n",
      "Copying pcb_21.jpg to dataset/balanced_waste_images/PCB\n",
      "Copying pcb_143.jpg to dataset/balanced_waste_images/PCB\n",
      "Copying pcb_50.jpg to dataset/balanced_waste_images/PCB\n",
      "Copying pcb_295.jpg to dataset/balanced_waste_images/PCB\n",
      "Copying pcb_207.jpg to dataset/balanced_waste_images/PCB\n",
      "Copying pcb_68.jpg to dataset/balanced_waste_images/PCB\n",
      "Copying pcb_179.jpg to dataset/balanced_waste_images/PCB\n",
      "Copying pcb_2.jpg to dataset/balanced_waste_images/PCB\n",
      "Copying pcb_166.jpg to dataset/balanced_waste_images/PCB\n",
      "Copying pcb_249.jpg to dataset/balanced_waste_images/PCB\n",
      "Copying pcb_272.jpg to dataset/balanced_waste_images/PCB\n",
      "Copying pcb_196.jpg to dataset/balanced_waste_images/PCB\n",
      "Copying pcb_263.jpg to dataset/balanced_waste_images/PCB\n",
      "Copying pcb_56.jpg to dataset/balanced_waste_images/PCB\n",
      "Copying pcb_194.jpg to dataset/balanced_waste_images/PCB\n",
      "Copying pcb_111.jpg to dataset/balanced_waste_images/PCB\n",
      "Copying pcb_164.jpg to dataset/balanced_waste_images/PCB\n",
      "Copying pcb_186.jpg to dataset/balanced_waste_images/PCB\n",
      "Copying pcb_204.jpg to dataset/balanced_waste_images/PCB\n",
      "Copying pcb_187.jpg to dataset/balanced_waste_images/PCB\n",
      "Copying pcb_11.jpg to dataset/balanced_waste_images/PCB\n",
      "Copying pcb_227.jpg to dataset/balanced_waste_images/PCB\n",
      "Copying pcb_19.jpg to dataset/balanced_waste_images/PCB\n",
      "Copying pcb_12.jpg to dataset/balanced_waste_images/PCB\n",
      "Copying pcb_274.jpg to dataset/balanced_waste_images/PCB\n",
      "Copying pcb_162.jpg to dataset/balanced_waste_images/PCB\n",
      "Copying pcb_298.jpg to dataset/balanced_waste_images/PCB\n",
      "Copying battery_47.jpg to dataset/balanced_waste_images/Battery\n",
      "Copying battery_295.jpg to dataset/balanced_waste_images/Battery\n",
      "Copying battery_293.jpg to dataset/balanced_waste_images/Battery\n",
      "Copying battery_183.jpg to dataset/balanced_waste_images/Battery\n",
      "Copying battery_158.jpg to dataset/balanced_waste_images/Battery\n",
      "Copying battery_252.jpg to dataset/balanced_waste_images/Battery\n",
      "Copying battery_219.jpg to dataset/balanced_waste_images/Battery\n",
      "Copying battery_119.jpg to dataset/balanced_waste_images/Battery\n",
      "Copying battery_149.jpg to dataset/balanced_waste_images/Battery\n",
      "Copying battery_263.jpg to dataset/balanced_waste_images/Battery\n",
      "Copying battery_236.jpg to dataset/balanced_waste_images/Battery\n",
      "Copying battery_53.jpg to dataset/balanced_waste_images/Battery\n",
      "Copying battery_87.jpg to dataset/balanced_waste_images/Battery\n",
      "Copying battery_231.jpg to dataset/balanced_waste_images/Battery\n",
      "Copying battery_197.jpg to dataset/balanced_waste_images/Battery\n",
      "Copying battery_50.jpg to dataset/balanced_waste_images/Battery\n",
      "Copying battery_154.jpg to dataset/balanced_waste_images/Battery\n",
      "Copying battery_59.jpg to dataset/balanced_waste_images/Battery\n",
      "Copying battery_179.jpg to dataset/balanced_waste_images/Battery\n",
      "Copying battery_86.jpg to dataset/balanced_waste_images/Battery\n",
      "Copying battery_139.jpg to dataset/balanced_waste_images/Battery\n",
      "Copying battery_217.jpg to dataset/balanced_waste_images/Battery\n",
      "Copying battery_141.jpg to dataset/balanced_waste_images/Battery\n",
      "Copying battery_205.jpg to dataset/balanced_waste_images/Battery\n",
      "Copying battery_72.jpg to dataset/balanced_waste_images/Battery\n",
      "Copying battery_233.jpg to dataset/balanced_waste_images/Battery\n",
      "Copying battery_218.jpg to dataset/balanced_waste_images/Battery\n",
      "Copying battery_79.jpg to dataset/balanced_waste_images/Battery\n",
      "Copying battery_238.jpg to dataset/balanced_waste_images/Battery\n",
      "Copying battery_74.jpg to dataset/balanced_waste_images/Battery\n",
      "Copying battery_235.jpg to dataset/balanced_waste_images/Battery\n",
      "Copying battery_228.jpg to dataset/balanced_waste_images/Battery\n",
      "Copying battery_200.jpg to dataset/balanced_waste_images/Battery\n",
      "Copying battery_121.jpg to dataset/balanced_waste_images/Battery\n",
      "Copying battery_213.jpg to dataset/balanced_waste_images/Battery\n",
      "Copying battery_278.jpg to dataset/balanced_waste_images/Battery\n",
      "Copying battery_45.jpg to dataset/balanced_waste_images/Battery\n",
      "Copying battery_181.jpg to dataset/balanced_waste_images/Battery\n",
      "Copying battery_54.jpg to dataset/balanced_waste_images/Battery\n",
      "Copying battery_173.jpg to dataset/balanced_waste_images/Battery\n",
      "Copying battery_117.jpg to dataset/balanced_waste_images/Battery\n",
      "Copying battery_63.jpg to dataset/balanced_waste_images/Battery\n",
      "Copying battery_199.jpg to dataset/balanced_waste_images/Battery\n",
      "Copying battery_163.jpg to dataset/balanced_waste_images/Battery\n",
      "Copying battery_114.jpg to dataset/balanced_waste_images/Battery\n",
      "Copying battery_268.jpg to dataset/balanced_waste_images/Battery\n",
      "Copying battery_5.jpg to dataset/balanced_waste_images/Battery\n",
      "Copying battery_255.jpg to dataset/balanced_waste_images/Battery\n",
      "Copying battery_202.jpg to dataset/balanced_waste_images/Battery\n",
      "Copying battery_262.jpg to dataset/balanced_waste_images/Battery\n",
      "Copying battery_94.jpg to dataset/balanced_waste_images/Battery\n",
      "Copying battery_134.jpg to dataset/balanced_waste_images/Battery\n",
      "Copying battery_272.jpg to dataset/balanced_waste_images/Battery\n",
      "Copying battery_168.jpg to dataset/balanced_waste_images/Battery\n",
      "Copying battery_81.jpg to dataset/balanced_waste_images/Battery\n",
      "Copying battery_44.jpg to dataset/balanced_waste_images/Battery\n",
      "Copying battery_91.jpg to dataset/balanced_waste_images/Battery\n",
      "Copying battery_127.jpg to dataset/balanced_waste_images/Battery\n",
      "Copying battery_140.jpg to dataset/balanced_waste_images/Battery\n",
      "Copying battery_184.jpg to dataset/balanced_waste_images/Battery\n",
      "Copying battery_142.jpg to dataset/balanced_waste_images/Battery\n",
      "Copying battery_185.jpg to dataset/balanced_waste_images/Battery\n",
      "Copying battery_60.jpg to dataset/balanced_waste_images/Battery\n",
      "Copying battery_62.jpg to dataset/balanced_waste_images/Battery\n",
      "Copying battery_254.jpg to dataset/balanced_waste_images/Battery\n",
      "Copying battery_290.jpg to dataset/balanced_waste_images/Battery\n",
      "Copying battery_215.jpg to dataset/balanced_waste_images/Battery\n",
      "Copying battery_296.jpg to dataset/balanced_waste_images/Battery\n",
      "Copying battery_21.jpg to dataset/balanced_waste_images/Battery\n",
      "Copying battery_124.jpg to dataset/balanced_waste_images/Battery\n",
      "Copying battery_101.jpg to dataset/balanced_waste_images/Battery\n",
      "Copying battery_166.jpg to dataset/balanced_waste_images/Battery\n",
      "Copying battery_222.jpg to dataset/balanced_waste_images/Battery\n",
      "Copying battery_160.jpg to dataset/balanced_waste_images/Battery\n",
      "Copying battery_55.jpg to dataset/balanced_waste_images/Battery\n",
      "Copying battery_84.jpg to dataset/balanced_waste_images/Battery\n",
      "Copying battery_111.jpg to dataset/balanced_waste_images/Battery\n",
      "Copying battery_257.jpg to dataset/balanced_waste_images/Battery\n",
      "Copying battery_71.jpg to dataset/balanced_waste_images/Battery\n",
      "Copying battery_98.jpg to dataset/balanced_waste_images/Battery\n",
      "Copying battery_120.jpg to dataset/balanced_waste_images/Battery\n",
      "Copying battery_206.jpg to dataset/balanced_waste_images/Battery\n",
      "Copying battery_28.jpg to dataset/balanced_waste_images/Battery\n",
      "Copying battery_210.jpg to dataset/balanced_waste_images/Battery\n",
      "Copying battery_289.jpg to dataset/balanced_waste_images/Battery\n",
      "Copying battery_93.jpg to dataset/balanced_waste_images/Battery\n",
      "Copying battery_249.jpg to dataset/balanced_waste_images/Battery\n",
      "Copying battery_52.jpg to dataset/balanced_waste_images/Battery\n",
      "Copying battery_57.jpg to dataset/balanced_waste_images/Battery\n",
      "Copying battery_19.jpg to dataset/balanced_waste_images/Battery\n",
      "Copying battery_78.jpg to dataset/balanced_waste_images/Battery\n",
      "Copying battery_209.jpg to dataset/balanced_waste_images/Battery\n",
      "Copying battery_18.jpg to dataset/balanced_waste_images/Battery\n",
      "Copying battery_100.jpg to dataset/balanced_waste_images/Battery\n",
      "Copying battery_112.jpg to dataset/balanced_waste_images/Battery\n",
      "Copying battery_299.jpg to dataset/balanced_waste_images/Battery\n",
      "Copying battery_261.jpg to dataset/balanced_waste_images/Battery\n",
      "Copying battery_245.jpg to dataset/balanced_waste_images/Battery\n",
      "Copying battery_67.jpg to dataset/balanced_waste_images/Battery\n",
      "Copying battery_240.jpg to dataset/balanced_waste_images/Battery\n",
      "Copying battery_234.jpg to dataset/balanced_waste_images/Battery\n",
      "Copying battery_10.jpg to dataset/balanced_waste_images/Battery\n",
      "Copying battery_115.jpg to dataset/balanced_waste_images/Battery\n",
      "Copying battery_208.jpg to dataset/balanced_waste_images/Battery\n",
      "Copying battery_176.jpg to dataset/balanced_waste_images/Battery\n",
      "Copying battery_187.jpg to dataset/balanced_waste_images/Battery\n",
      "Copying battery_143.jpg to dataset/balanced_waste_images/Battery\n",
      "Copying battery_125.jpg to dataset/balanced_waste_images/Battery\n",
      "Copying battery_178.jpg to dataset/balanced_waste_images/Battery\n",
      "Copying battery_281.jpg to dataset/balanced_waste_images/Battery\n",
      "Copying battery_153.jpg to dataset/balanced_waste_images/Battery\n",
      "Copying battery_244.jpg to dataset/balanced_waste_images/Battery\n",
      "Copying battery_201.jpg to dataset/balanced_waste_images/Battery\n",
      "Copying battery_256.jpg to dataset/balanced_waste_images/Battery\n",
      "Copying battery_207.jpg to dataset/balanced_waste_images/Battery\n",
      "Copying battery_191.jpg to dataset/balanced_waste_images/Battery\n",
      "Copying battery_212.jpg to dataset/balanced_waste_images/Battery\n",
      "Copying battery_131.jpg to dataset/balanced_waste_images/Battery\n",
      "Copying battery_51.jpg to dataset/balanced_waste_images/Battery\n",
      "Copying battery_230.jpg to dataset/balanced_waste_images/Battery\n",
      "Copying battery_221.jpg to dataset/balanced_waste_images/Battery\n",
      "Copying battery_6.jpg to dataset/balanced_waste_images/Battery\n",
      "Copying battery_38.jpg to dataset/balanced_waste_images/Battery\n",
      "Copying battery_2.jpg to dataset/balanced_waste_images/Battery\n",
      "Copying battery_113.jpg to dataset/balanced_waste_images/Battery\n",
      "Copying battery_195.jpg to dataset/balanced_waste_images/Battery\n",
      "Copying battery_246.jpg to dataset/balanced_waste_images/Battery\n",
      "Copying battery_110.jpg to dataset/balanced_waste_images/Battery\n",
      "Copying battery_172.jpg to dataset/balanced_waste_images/Battery\n",
      "Copying battery_89.jpg to dataset/balanced_waste_images/Battery\n",
      "Copying battery_32.jpg to dataset/balanced_waste_images/Battery\n",
      "Copying battery_144.jpg to dataset/balanced_waste_images/Battery\n",
      "Copying battery_164.jpg to dataset/balanced_waste_images/Battery\n",
      "Copying battery_56.jpg to dataset/balanced_waste_images/Battery\n",
      "Copying battery_20.jpg to dataset/balanced_waste_images/Battery\n",
      "Copying battery_30.jpg to dataset/balanced_waste_images/Battery\n",
      "Copying battery_276.jpg to dataset/balanced_waste_images/Battery\n",
      "Copying battery_170.jpg to dataset/balanced_waste_images/Battery\n",
      "Copying battery_1.jpg to dataset/balanced_waste_images/Battery\n",
      "Copying battery_9.jpg to dataset/balanced_waste_images/Battery\n",
      "Copying battery_14.jpg to dataset/balanced_waste_images/Battery\n",
      "Copying battery_285.jpg to dataset/balanced_waste_images/Battery\n",
      "Copying battery_223.jpg to dataset/balanced_waste_images/Battery\n",
      "Copying battery_41.jpg to dataset/balanced_waste_images/Battery\n",
      "Copying battery_287.jpg to dataset/balanced_waste_images/Battery\n",
      "Copying battery_132.jpg to dataset/balanced_waste_images/Battery\n",
      "Copying battery_156.jpg to dataset/balanced_waste_images/Battery\n",
      "Copying battery_90.jpg to dataset/balanced_waste_images/Battery\n",
      "Copying battery_29.jpg to dataset/balanced_waste_images/Battery\n",
      "Copying battery_298.jpg to dataset/balanced_waste_images/Battery\n",
      "Copying battery_138.jpg to dataset/balanced_waste_images/Battery\n",
      "Copying battery_162.jpg to dataset/balanced_waste_images/Battery\n",
      "Copying battery_39.jpg to dataset/balanced_waste_images/Battery\n",
      "Copying battery_216.jpg to dataset/balanced_waste_images/Battery\n",
      "Copying battery_36.jpg to dataset/balanced_waste_images/Battery\n",
      "Copying battery_97.jpg to dataset/balanced_waste_images/Battery\n",
      "Copying battery_31.jpg to dataset/balanced_waste_images/Battery\n",
      "Copying battery_227.jpg to dataset/balanced_waste_images/Battery\n",
      "Copying battery_96.jpg to dataset/balanced_waste_images/Battery\n",
      "Copying battery_135.jpg to dataset/balanced_waste_images/Battery\n",
      "Copying battery_271.jpg to dataset/balanced_waste_images/Battery\n",
      "Copying battery_109.jpg to dataset/balanced_waste_images/Battery\n",
      "Copying battery_270.jpg to dataset/balanced_waste_images/Battery\n",
      "Copying battery_25.jpg to dataset/balanced_waste_images/Battery\n",
      "Copying battery_167.jpg to dataset/balanced_waste_images/Battery\n",
      "Copying battery_12.jpg to dataset/balanced_waste_images/Battery\n",
      "Copying battery_16.jpg to dataset/balanced_waste_images/Battery\n",
      "Copying battery_68.jpg to dataset/balanced_waste_images/Battery\n",
      "Copying battery_33.jpg to dataset/balanced_waste_images/Battery\n",
      "Copying battery_175.jpg to dataset/balanced_waste_images/Battery\n",
      "Copying battery_171.jpg to dataset/balanced_waste_images/Battery\n",
      "Copying battery_69.jpg to dataset/balanced_waste_images/Battery\n",
      "Copying battery_17.jpg to dataset/balanced_waste_images/Battery\n",
      "Copying battery_292.jpg to dataset/balanced_waste_images/Battery\n",
      "Copying battery_126.jpg to dataset/balanced_waste_images/Battery\n",
      "Copying battery_3.jpg to dataset/balanced_waste_images/Battery\n",
      "Copying battery_274.jpg to dataset/balanced_waste_images/Battery\n",
      "Copying battery_151.jpg to dataset/balanced_waste_images/Battery\n",
      "Copying battery_107.jpg to dataset/balanced_waste_images/Battery\n",
      "Copying battery_291.jpg to dataset/balanced_waste_images/Battery\n",
      "Copying battery_70.jpg to dataset/balanced_waste_images/Battery\n",
      "Copying battery_258.jpg to dataset/balanced_waste_images/Battery\n",
      "Copying battery_11.jpg to dataset/balanced_waste_images/Battery\n",
      "Copying battery_243.jpg to dataset/balanced_waste_images/Battery\n",
      "Copying battery_0.jpg to dataset/balanced_waste_images/Battery\n",
      "Copying battery_26.jpg to dataset/balanced_waste_images/Battery\n",
      "Copying battery_157.jpg to dataset/balanced_waste_images/Battery\n",
      "Copying battery_180.jpg to dataset/balanced_waste_images/Battery\n",
      "Copying battery_182.jpg to dataset/balanced_waste_images/Battery\n",
      "Copying battery_283.jpg to dataset/balanced_waste_images/Battery\n",
      "Copying battery_161.jpg to dataset/balanced_waste_images/Battery\n",
      "Copying battery_77.jpg to dataset/balanced_waste_images/Battery\n",
      "Copying battery_43.jpg to dataset/balanced_waste_images/Battery\n",
      "Copying battery_46.jpg to dataset/balanced_waste_images/Battery\n",
      "Copying battery_8.jpg to dataset/balanced_waste_images/Battery\n",
      "Copying battery_237.jpg to dataset/balanced_waste_images/Battery\n",
      "Copying battery_250.jpg to dataset/balanced_waste_images/Battery\n",
      "Copying battery_186.jpg to dataset/balanced_waste_images/Battery\n",
      "Copying battery_73.jpg to dataset/balanced_waste_images/Battery\n",
      "Copying battery_48.jpg to dataset/balanced_waste_images/Battery\n",
      "Copying battery_188.jpg to dataset/balanced_waste_images/Battery\n",
      "Copying battery_165.jpg to dataset/balanced_waste_images/Battery\n",
      "Copying battery_102.jpg to dataset/balanced_waste_images/Battery\n",
      "Copying battery_133.jpg to dataset/balanced_waste_images/Battery\n",
      "Copying battery_35.jpg to dataset/balanced_waste_images/Battery\n",
      "Copying battery_297.jpg to dataset/balanced_waste_images/Battery\n",
      "Copying battery_58.jpg to dataset/balanced_waste_images/Battery\n",
      "Copying battery_82.jpg to dataset/balanced_waste_images/Battery\n",
      "Copying battery_42.jpg to dataset/balanced_waste_images/Battery\n",
      "Copying battery_232.jpg to dataset/balanced_waste_images/Battery\n",
      "Copying battery_136.jpg to dataset/balanced_waste_images/Battery\n",
      "Copying battery_204.jpg to dataset/balanced_waste_images/Battery\n",
      "Copying battery_116.jpg to dataset/balanced_waste_images/Battery\n",
      "Copying battery_104.jpg to dataset/balanced_waste_images/Battery\n",
      "Copying battery_220.jpg to dataset/balanced_waste_images/Battery\n",
      "Copying battery_273.jpg to dataset/balanced_waste_images/Battery\n",
      "Copying battery_15.jpg to dataset/balanced_waste_images/Battery\n",
      "Copying battery_13.jpg to dataset/balanced_waste_images/Battery\n",
      "Copying battery_7.jpg to dataset/balanced_waste_images/Battery\n",
      "Copying battery_225.jpg to dataset/balanced_waste_images/Battery\n",
      "Copying battery_64.jpg to dataset/balanced_waste_images/Battery\n",
      "Copying battery_248.jpg to dataset/balanced_waste_images/Battery\n",
      "Copying battery_159.jpg to dataset/balanced_waste_images/Battery\n",
      "Copying battery_145.jpg to dataset/balanced_waste_images/Battery\n",
      "Copying battery_196.jpg to dataset/balanced_waste_images/Battery\n",
      "Copying battery_288.jpg to dataset/balanced_waste_images/Battery\n",
      "Copying battery_203.jpg to dataset/balanced_waste_images/Battery\n",
      "Copying battery_214.jpg to dataset/balanced_waste_images/Battery\n",
      "Copying battery_27.jpg to dataset/balanced_waste_images/Battery\n",
      "Copying battery_253.jpg to dataset/balanced_waste_images/Battery\n",
      "Copying battery_269.jpg to dataset/balanced_waste_images/Battery\n",
      "Copying battery_155.jpg to dataset/balanced_waste_images/Battery\n",
      "Copying battery_80.jpg to dataset/balanced_waste_images/Battery\n",
      "Copying battery_193.jpg to dataset/balanced_waste_images/Battery\n",
      "Copying battery_123.jpg to dataset/balanced_waste_images/Battery\n",
      "Copying battery_76.jpg to dataset/balanced_waste_images/Battery\n",
      "Copying battery_49.jpg to dataset/balanced_waste_images/Battery\n",
      "Copying battery_194.jpg to dataset/balanced_waste_images/Battery\n",
      "Copying battery_137.jpg to dataset/balanced_waste_images/Battery\n",
      "Copying battery_85.jpg to dataset/balanced_waste_images/Battery\n",
      "Copying Printer_253.jpg to dataset/balanced_waste_images/Printer\n",
      "Copying Printer_121.jpg to dataset/balanced_waste_images/Printer\n",
      "Copying Printer_27.jpg to dataset/balanced_waste_images/Printer\n",
      "Copying Printer_120.jpg to dataset/balanced_waste_images/Printer\n",
      "Copying Printer_82.jpg to dataset/balanced_waste_images/Printer\n",
      "Copying Printer_175.jpg to dataset/balanced_waste_images/Printer\n",
      "Copying Printer_168.jpg to dataset/balanced_waste_images/Printer\n",
      "Copying Printer_57.jpg to dataset/balanced_waste_images/Printer\n",
      "Copying Printer_299.jpg to dataset/balanced_waste_images/Printer\n",
      "Copying Printer_43.jpg to dataset/balanced_waste_images/Printer\n",
      "Copying Printer_272.jpg to dataset/balanced_waste_images/Printer\n",
      "Copying Printer_295.jpg to dataset/balanced_waste_images/Printer\n",
      "Copying Printer_296.jpg to dataset/balanced_waste_images/Printer\n",
      "Copying Printer_213.jpg to dataset/balanced_waste_images/Printer\n",
      "Copying Printer_225.jpg to dataset/balanced_waste_images/Printer\n",
      "Copying Printer_62.jpg to dataset/balanced_waste_images/Printer\n",
      "Copying Printer_193.jpg to dataset/balanced_waste_images/Printer\n",
      "Copying Printer_136.jpg to dataset/balanced_waste_images/Printer\n",
      "Copying Printer_140.jpg to dataset/balanced_waste_images/Printer\n",
      "Copying Printer_25.jpg to dataset/balanced_waste_images/Printer\n",
      "Copying Printer_32.jpg to dataset/balanced_waste_images/Printer\n",
      "Copying Printer_89.jpg to dataset/balanced_waste_images/Printer\n",
      "Copying Printer_185.jpg to dataset/balanced_waste_images/Printer\n",
      "Copying Printer_42.jpg to dataset/balanced_waste_images/Printer\n",
      "Copying Printer_73.jpg to dataset/balanced_waste_images/Printer\n",
      "Copying Printer_67.jpg to dataset/balanced_waste_images/Printer\n",
      "Copying Printer_233.jpg to dataset/balanced_waste_images/Printer\n",
      "Copying Printer_223.jpg to dataset/balanced_waste_images/Printer\n",
      "Copying Printer_28.jpg to dataset/balanced_waste_images/Printer\n",
      "Copying Printer_292.jpg to dataset/balanced_waste_images/Printer\n",
      "Copying Printer_244.jpg to dataset/balanced_waste_images/Printer\n",
      "Copying Printer_68.jpg to dataset/balanced_waste_images/Printer\n",
      "Copying Printer_171.jpg to dataset/balanced_waste_images/Printer\n",
      "Copying Printer_203.jpg to dataset/balanced_waste_images/Printer\n",
      "Copying Printer_137.jpg to dataset/balanced_waste_images/Printer\n",
      "Copying Printer_97.jpg to dataset/balanced_waste_images/Printer\n",
      "Copying Printer_289.jpg to dataset/balanced_waste_images/Printer\n",
      "Copying Printer_218.jpg to dataset/balanced_waste_images/Printer\n",
      "Copying Printer_221.jpg to dataset/balanced_waste_images/Printer\n",
      "Copying Printer_155.jpg to dataset/balanced_waste_images/Printer\n",
      "Copying Printer_20.jpg to dataset/balanced_waste_images/Printer\n",
      "Copying Printer_297.jpg to dataset/balanced_waste_images/Printer\n",
      "Copying Printer_212.jpg to dataset/balanced_waste_images/Printer\n",
      "Copying Printer_281.jpg to dataset/balanced_waste_images/Printer\n",
      "Copying Printer_143.jpg to dataset/balanced_waste_images/Printer\n",
      "Copying Printer_215.jpg to dataset/balanced_waste_images/Printer\n",
      "Copying Printer_206.jpg to dataset/balanced_waste_images/Printer\n",
      "Copying Printer_256.jpg to dataset/balanced_waste_images/Printer\n",
      "Copying Printer_141.jpg to dataset/balanced_waste_images/Printer\n",
      "Copying Printer_205.jpg to dataset/balanced_waste_images/Printer\n",
      "Copying Printer_214.jpg to dataset/balanced_waste_images/Printer\n",
      "Copying Printer_64.jpg to dataset/balanced_waste_images/Printer\n",
      "Copying Printer_200.jpg to dataset/balanced_waste_images/Printer\n",
      "Copying Printer_48.jpg to dataset/balanced_waste_images/Printer\n",
      "Copying Printer_163.jpg to dataset/balanced_waste_images/Printer\n",
      "Copying Printer_196.jpg to dataset/balanced_waste_images/Printer\n",
      "Copying Printer_166.jpg to dataset/balanced_waste_images/Printer\n",
      "Copying Printer_123.jpg to dataset/balanced_waste_images/Printer\n",
      "Copying Printer_202.jpg to dataset/balanced_waste_images/Printer\n",
      "Copying Printer_258.jpg to dataset/balanced_waste_images/Printer\n",
      "Copying Printer_201.jpg to dataset/balanced_waste_images/Printer\n",
      "Copying Printer_187.jpg to dataset/balanced_waste_images/Printer\n",
      "Copying Printer_72.jpg to dataset/balanced_waste_images/Printer\n",
      "Copying Printer_257.jpg to dataset/balanced_waste_images/Printer\n",
      "Copying Printer_254.jpg to dataset/balanced_waste_images/Printer\n",
      "Copying Printer_31.jpg to dataset/balanced_waste_images/Printer\n",
      "Copying Printer_182.jpg to dataset/balanced_waste_images/Printer\n",
      "Copying Printer_271.jpg to dataset/balanced_waste_images/Printer\n",
      "Copying Printer_232.jpg to dataset/balanced_waste_images/Printer\n",
      "Copying Printer_274.jpg to dataset/balanced_waste_images/Printer\n",
      "Copying Printer_186.jpg to dataset/balanced_waste_images/Printer\n",
      "Copying Printer_183.jpg to dataset/balanced_waste_images/Printer\n",
      "Copying Printer_237.jpg to dataset/balanced_waste_images/Printer\n",
      "Copying Printer_263.jpg to dataset/balanced_waste_images/Printer\n",
      "Copying Printer_126.jpg to dataset/balanced_waste_images/Printer\n",
      "Copying Printer_285.jpg to dataset/balanced_waste_images/Printer\n",
      "Copying Printer_96.jpg to dataset/balanced_waste_images/Printer\n",
      "Copying Printer_135.jpg to dataset/balanced_waste_images/Printer\n",
      "Copying Printer_56.jpg to dataset/balanced_waste_images/Printer\n",
      "Copying Printer_210.jpg to dataset/balanced_waste_images/Printer\n",
      "Copying Printer_109.jpg to dataset/balanced_waste_images/Printer\n",
      "Copying Printer_250.jpg to dataset/balanced_waste_images/Printer\n",
      "Copying Printer_86.jpg to dataset/balanced_waste_images/Printer\n",
      "Copying Printer_176.jpg to dataset/balanced_waste_images/Printer\n",
      "Copying Printer_117.jpg to dataset/balanced_waste_images/Printer\n",
      "Copying Printer_222.jpg to dataset/balanced_waste_images/Printer\n",
      "Copying Printer_104.jpg to dataset/balanced_waste_images/Printer\n",
      "Copying Printer_52.jpg to dataset/balanced_waste_images/Printer\n",
      "Copying Printer_38.jpg to dataset/balanced_waste_images/Printer\n",
      "Copying Printer_54.jpg to dataset/balanced_waste_images/Printer\n",
      "Copying Printer_3.jpg to dataset/balanced_waste_images/Printer\n",
      "Copying Printer_41.jpg to dataset/balanced_waste_images/Printer\n",
      "Copying Printer_138.jpg to dataset/balanced_waste_images/Printer\n",
      "Copying Printer_236.jpg to dataset/balanced_waste_images/Printer\n",
      "Copying Printer_290.jpg to dataset/balanced_waste_images/Printer\n",
      "Copying Printer_235.jpg to dataset/balanced_waste_images/Printer\n",
      "Copying Printer_245.jpg to dataset/balanced_waste_images/Printer\n",
      "Copying Printer_15.jpg to dataset/balanced_waste_images/Printer\n",
      "Copying Printer_76.jpg to dataset/balanced_waste_images/Printer\n",
      "Copying Printer_6.jpg to dataset/balanced_waste_images/Printer\n",
      "Copying Printer_151.jpg to dataset/balanced_waste_images/Printer\n",
      "Copying Printer_10.jpg to dataset/balanced_waste_images/Printer\n",
      "Copying Printer_158.jpg to dataset/balanced_waste_images/Printer\n",
      "Copying Printer_17.jpg to dataset/balanced_waste_images/Printer\n",
      "Copying Printer_172.jpg to dataset/balanced_waste_images/Printer\n",
      "Copying Printer_204.jpg to dataset/balanced_waste_images/Printer\n",
      "Copying Printer_197.jpg to dataset/balanced_waste_images/Printer\n",
      "Copying Printer_131.jpg to dataset/balanced_waste_images/Printer\n",
      "Copying Printer_70.jpg to dataset/balanced_waste_images/Printer\n",
      "Copying Printer_60.jpg to dataset/balanced_waste_images/Printer\n",
      "Copying Printer_58.jpg to dataset/balanced_waste_images/Printer\n",
      "Copying Printer_44.jpg to dataset/balanced_waste_images/Printer\n",
      "Copying Printer_16.jpg to dataset/balanced_waste_images/Printer\n",
      "Copying Printer_5.jpg to dataset/balanced_waste_images/Printer\n",
      "Copying Printer_115.jpg to dataset/balanced_waste_images/Printer\n",
      "Copying Printer_231.jpg to dataset/balanced_waste_images/Printer\n",
      "Copying Printer_165.jpg to dataset/balanced_waste_images/Printer\n",
      "Copying Printer_194.jpg to dataset/balanced_waste_images/Printer\n",
      "Copying Printer_102.jpg to dataset/balanced_waste_images/Printer\n",
      "Copying Printer_161.jpg to dataset/balanced_waste_images/Printer\n",
      "Copying Printer_288.jpg to dataset/balanced_waste_images/Printer\n",
      "Copying Printer_181.jpg to dataset/balanced_waste_images/Printer\n",
      "Copying Printer_142.jpg to dataset/balanced_waste_images/Printer\n",
      "Copying Printer_90.jpg to dataset/balanced_waste_images/Printer\n",
      "Copying Printer_100.jpg to dataset/balanced_waste_images/Printer\n",
      "Copying Printer_53.jpg to dataset/balanced_waste_images/Printer\n",
      "Copying Printer_87.jpg to dataset/balanced_waste_images/Printer\n",
      "Copying Printer_153.jpg to dataset/balanced_waste_images/Printer\n",
      "Copying Printer_262.jpg to dataset/balanced_waste_images/Printer\n",
      "Copying Printer_12.jpg to dataset/balanced_waste_images/Printer\n",
      "Copying Printer_9.jpg to dataset/balanced_waste_images/Printer\n",
      "Copying Printer_255.jpg to dataset/balanced_waste_images/Printer\n",
      "Copying Printer_184.jpg to dataset/balanced_waste_images/Printer\n",
      "Copying Printer_30.jpg to dataset/balanced_waste_images/Printer\n",
      "Copying Printer_167.jpg to dataset/balanced_waste_images/Printer\n",
      "Copying Printer_227.jpg to dataset/balanced_waste_images/Printer\n",
      "Copying Printer_29.jpg to dataset/balanced_waste_images/Printer\n",
      "Copying Printer_219.jpg to dataset/balanced_waste_images/Printer\n",
      "Copying Printer_18.jpg to dataset/balanced_waste_images/Printer\n",
      "Copying Printer_238.jpg to dataset/balanced_waste_images/Printer\n",
      "Copying Printer_199.jpg to dataset/balanced_waste_images/Printer\n",
      "Copying Printer_78.jpg to dataset/balanced_waste_images/Printer\n",
      "Copying Printer_246.jpg to dataset/balanced_waste_images/Printer\n",
      "Copying Printer_228.jpg to dataset/balanced_waste_images/Printer\n",
      "Copying Printer_291.jpg to dataset/balanced_waste_images/Printer\n",
      "Copying Printer_164.jpg to dataset/balanced_waste_images/Printer\n",
      "Copying Printer_119.jpg to dataset/balanced_waste_images/Printer\n",
      "Copying Printer_230.jpg to dataset/balanced_waste_images/Printer\n",
      "Copying Printer_217.jpg to dataset/balanced_waste_images/Printer\n",
      "Copying Printer_47.jpg to dataset/balanced_waste_images/Printer\n",
      "Copying Printer_13.jpg to dataset/balanced_waste_images/Printer\n",
      "Copying Printer_11.jpg to dataset/balanced_waste_images/Printer\n",
      "Copying Printer_170.jpg to dataset/balanced_waste_images/Printer\n",
      "Copying Printer_107.jpg to dataset/balanced_waste_images/Printer\n",
      "Copying Printer_84.jpg to dataset/balanced_waste_images/Printer\n",
      "Copying Printer_33.jpg to dataset/balanced_waste_images/Printer\n",
      "Copying Printer_127.jpg to dataset/balanced_waste_images/Printer\n",
      "Copying Printer_283.jpg to dataset/balanced_waste_images/Printer\n",
      "Copying Printer_125.jpg to dataset/balanced_waste_images/Printer\n",
      "Copying Printer_270.jpg to dataset/balanced_waste_images/Printer\n",
      "Copying Printer_195.jpg to dataset/balanced_waste_images/Printer\n",
      "Copying Printer_8.jpg to dataset/balanced_waste_images/Printer\n",
      "Copying Printer_63.jpg to dataset/balanced_waste_images/Printer\n",
      "Copying Printer_112.jpg to dataset/balanced_waste_images/Printer\n",
      "Copying Printer_157.jpg to dataset/balanced_waste_images/Printer\n",
      "Copying Printer_14.jpg to dataset/balanced_waste_images/Printer\n",
      "Copying Printer_81.jpg to dataset/balanced_waste_images/Printer\n",
      "Copying Printer_207.jpg to dataset/balanced_waste_images/Printer\n",
      "Copying Printer_85.jpg to dataset/balanced_waste_images/Printer\n",
      "Copying Printer_79.jpg to dataset/balanced_waste_images/Printer\n",
      "Copying Printer_159.jpg to dataset/balanced_waste_images/Printer\n",
      "Copying Printer_114.jpg to dataset/balanced_waste_images/Printer\n",
      "Copying Printer_249.jpg to dataset/balanced_waste_images/Printer\n",
      "Copying Printer_178.jpg to dataset/balanced_waste_images/Printer\n",
      "Copying Printer_50.jpg to dataset/balanced_waste_images/Printer\n",
      "Copying Printer_216.jpg to dataset/balanced_waste_images/Printer\n",
      "Copying Printer_298.jpg to dataset/balanced_waste_images/Printer\n",
      "Copying Printer_110.jpg to dataset/balanced_waste_images/Printer\n",
      "Copying Printer_154.jpg to dataset/balanced_waste_images/Printer\n",
      "Copying Printer_2.jpg to dataset/balanced_waste_images/Printer\n",
      "Copying Printer_269.jpg to dataset/balanced_waste_images/Printer\n",
      "Copying Printer_240.jpg to dataset/balanced_waste_images/Printer\n",
      "Copying Printer_156.jpg to dataset/balanced_waste_images/Printer\n",
      "Copying Printer_98.jpg to dataset/balanced_waste_images/Printer\n",
      "Copying Printer_7.jpg to dataset/balanced_waste_images/Printer\n",
      "Copying Printer_248.jpg to dataset/balanced_waste_images/Printer\n",
      "Copying Printer_139.jpg to dataset/balanced_waste_images/Printer\n",
      "Copying Printer_51.jpg to dataset/balanced_waste_images/Printer\n",
      "Copying Printer_94.jpg to dataset/balanced_waste_images/Printer\n",
      "Copying Printer_276.jpg to dataset/balanced_waste_images/Printer\n",
      "Copying Printer_35.jpg to dataset/balanced_waste_images/Printer\n",
      "Copying Printer_132.jpg to dataset/balanced_waste_images/Printer\n",
      "Copying Printer_134.jpg to dataset/balanced_waste_images/Printer\n",
      "Copying Printer_287.jpg to dataset/balanced_waste_images/Printer\n",
      "Copying Printer_188.jpg to dataset/balanced_waste_images/Printer\n",
      "Copying Printer_21.jpg to dataset/balanced_waste_images/Printer\n",
      "Copying Printer_26.jpg to dataset/balanced_waste_images/Printer\n",
      "Copying Printer_91.jpg to dataset/balanced_waste_images/Printer\n",
      "Copying Printer_162.jpg to dataset/balanced_waste_images/Printer\n",
      "Copying Printer_145.jpg to dataset/balanced_waste_images/Printer\n",
      "Copying Printer_293.jpg to dataset/balanced_waste_images/Printer\n",
      "Copying Printer_149.jpg to dataset/balanced_waste_images/Printer\n",
      "Copying Printer_173.jpg to dataset/balanced_waste_images/Printer\n",
      "Copying Printer_49.jpg to dataset/balanced_waste_images/Printer\n",
      "Copying Printer_220.jpg to dataset/balanced_waste_images/Printer\n",
      "Copying Printer_59.jpg to dataset/balanced_waste_images/Printer\n",
      "Copying Printer_39.jpg to dataset/balanced_waste_images/Printer\n",
      "Copying Printer_268.jpg to dataset/balanced_waste_images/Printer\n",
      "Copying Printer_261.jpg to dataset/balanced_waste_images/Printer\n",
      "Copying Printer_124.jpg to dataset/balanced_waste_images/Printer\n",
      "Copying Printer_74.jpg to dataset/balanced_waste_images/Printer\n",
      "Copying Printer_208.jpg to dataset/balanced_waste_images/Printer\n",
      "Copying Printer_55.jpg to dataset/balanced_waste_images/Printer\n",
      "Copying Printer_160.jpg to dataset/balanced_waste_images/Printer\n",
      "Copying Printer_93.jpg to dataset/balanced_waste_images/Printer\n",
      "Copying Printer_46.jpg to dataset/balanced_waste_images/Printer\n",
      "Copying Printer_252.jpg to dataset/balanced_waste_images/Printer\n",
      "Copying Printer_111.jpg to dataset/balanced_waste_images/Printer\n",
      "Copying Printer_191.jpg to dataset/balanced_waste_images/Printer\n",
      "Copying Printer_113.jpg to dataset/balanced_waste_images/Printer\n",
      "Copying Printer_0.jpg to dataset/balanced_waste_images/Printer\n",
      "Copying Printer_273.jpg to dataset/balanced_waste_images/Printer\n",
      "Copying Printer_133.jpg to dataset/balanced_waste_images/Printer\n",
      "Copying Printer_1.jpg to dataset/balanced_waste_images/Printer\n",
      "Copying Printer_234.jpg to dataset/balanced_waste_images/Printer\n",
      "Copying Printer_36.jpg to dataset/balanced_waste_images/Printer\n",
      "Copying Printer_69.jpg to dataset/balanced_waste_images/Printer\n",
      "Copying Printer_278.jpg to dataset/balanced_waste_images/Printer\n",
      "Copying Printer_243.jpg to dataset/balanced_waste_images/Printer\n",
      "Copying Printer_77.jpg to dataset/balanced_waste_images/Printer\n",
      "Copying Printer_144.jpg to dataset/balanced_waste_images/Printer\n",
      "Copying Printer_19.jpg to dataset/balanced_waste_images/Printer\n",
      "Copying Printer_101.jpg to dataset/balanced_waste_images/Printer\n",
      "Copying Printer_179.jpg to dataset/balanced_waste_images/Printer\n",
      "Copying Printer_71.jpg to dataset/balanced_waste_images/Printer\n",
      "Copying Printer_45.jpg to dataset/balanced_waste_images/Printer\n",
      "Copying Printer_209.jpg to dataset/balanced_waste_images/Printer\n",
      "Copying Printer_116.jpg to dataset/balanced_waste_images/Printer\n",
      "Copying Printer_80.jpg to dataset/balanced_waste_images/Printer\n",
      "Copying Printer_180.jpg to dataset/balanced_waste_images/Printer\n"
     ]
    }
   ],
   "source": [
    "balanced_dir = \"dataset/balanced_waste_images\"\n",
    "\n",
    "for cls in class_names:\n",
    "    class_path = os.path.join(rootPath, cls)\n",
    "    output_class_path = os.path.join(balanced_dir, cls)\n",
    "    os.makedirs(output_class_path, exist_ok=True)\n",
    "\n",
    "    images = os.listdir(class_path)\n",
    "    count = len(images)\n",
    "\n",
    "    if count > 400:\n",
    "        undersample_class(class_path, 400, output_dir=output_class_path)\n",
    "    else:\n",
    "        # Az olanları direkt kopyala\n",
    "        for img in images:\n",
    "            print(f\"Copying {img} to {output_class_path}\")\n",
    "            shutil.copy(os.path.join(class_path, img), os.path.join(output_class_path, img))\n",
    "\n",
    "        # Ve augment yap\n",
    "        augment_images(output_class_path, 400, output_class_path)\n",
    "\n"
   ]
  },
  {
   "cell_type": "code",
   "execution_count": 26,
   "metadata": {},
   "outputs": [
    {
     "data": {
      "application/vnd.plotly.v1+json": {
       "config": {
        "plotlyServerURL": "https://plot.ly"
       },
       "data": [
        {
         "domain": {
          "x": [
           0,
           1
          ],
          "y": [
           0,
           1
          ]
         },
         "hovertemplate": "label=%{label}<br>value=%{value}<extra></extra>",
         "labels": [
          "Microwave",
          "paper",
          "cardboard",
          "Television",
          "Player",
          "plastic",
          "trash",
          "glass",
          "Mouse",
          "Keyboard",
          "Washing Machine",
          "Mobile",
          "organic",
          "PCB",
          "metal",
          "Battery",
          "Printer"
         ],
         "legendgroup": "",
         "name": "",
         "showlegend": true,
         "type": "pie",
         "values": [
          397,
          400,
          400,
          399,
          399,
          400,
          396,
          400,
          400,
          397,
          400,
          397,
          400,
          399,
          400,
          398,
          398
         ]
        }
       ],
       "layout": {
        "legend": {
         "tracegroupgap": 0
        },
        "piecolorway": [
         "rgb(102, 197, 204)",
         "rgb(246, 207, 113)",
         "rgb(248, 156, 116)",
         "rgb(220, 176, 242)",
         "rgb(135, 197, 95)",
         "rgb(158, 185, 243)",
         "rgb(254, 136, 177)",
         "rgb(201, 219, 116)",
         "rgb(139, 224, 164)",
         "rgb(180, 151, 231)",
         "rgb(179, 179, 179)"
        ],
        "template": {
         "data": {
          "bar": [
           {
            "error_x": {
             "color": "#2a3f5f"
            },
            "error_y": {
             "color": "#2a3f5f"
            },
            "marker": {
             "line": {
              "color": "#E5ECF6",
              "width": 0.5
             },
             "pattern": {
              "fillmode": "overlay",
              "size": 10,
              "solidity": 0.2
             }
            },
            "type": "bar"
           }
          ],
          "barpolar": [
           {
            "marker": {
             "line": {
              "color": "#E5ECF6",
              "width": 0.5
             },
             "pattern": {
              "fillmode": "overlay",
              "size": 10,
              "solidity": 0.2
             }
            },
            "type": "barpolar"
           }
          ],
          "carpet": [
           {
            "aaxis": {
             "endlinecolor": "#2a3f5f",
             "gridcolor": "white",
             "linecolor": "white",
             "minorgridcolor": "white",
             "startlinecolor": "#2a3f5f"
            },
            "baxis": {
             "endlinecolor": "#2a3f5f",
             "gridcolor": "white",
             "linecolor": "white",
             "minorgridcolor": "white",
             "startlinecolor": "#2a3f5f"
            },
            "type": "carpet"
           }
          ],
          "choropleth": [
           {
            "colorbar": {
             "outlinewidth": 0,
             "ticks": ""
            },
            "type": "choropleth"
           }
          ],
          "contour": [
           {
            "colorbar": {
             "outlinewidth": 0,
             "ticks": ""
            },
            "colorscale": [
             [
              0,
              "#0d0887"
             ],
             [
              0.1111111111111111,
              "#46039f"
             ],
             [
              0.2222222222222222,
              "#7201a8"
             ],
             [
              0.3333333333333333,
              "#9c179e"
             ],
             [
              0.4444444444444444,
              "#bd3786"
             ],
             [
              0.5555555555555556,
              "#d8576b"
             ],
             [
              0.6666666666666666,
              "#ed7953"
             ],
             [
              0.7777777777777778,
              "#fb9f3a"
             ],
             [
              0.8888888888888888,
              "#fdca26"
             ],
             [
              1,
              "#f0f921"
             ]
            ],
            "type": "contour"
           }
          ],
          "contourcarpet": [
           {
            "colorbar": {
             "outlinewidth": 0,
             "ticks": ""
            },
            "type": "contourcarpet"
           }
          ],
          "heatmap": [
           {
            "colorbar": {
             "outlinewidth": 0,
             "ticks": ""
            },
            "colorscale": [
             [
              0,
              "#0d0887"
             ],
             [
              0.1111111111111111,
              "#46039f"
             ],
             [
              0.2222222222222222,
              "#7201a8"
             ],
             [
              0.3333333333333333,
              "#9c179e"
             ],
             [
              0.4444444444444444,
              "#bd3786"
             ],
             [
              0.5555555555555556,
              "#d8576b"
             ],
             [
              0.6666666666666666,
              "#ed7953"
             ],
             [
              0.7777777777777778,
              "#fb9f3a"
             ],
             [
              0.8888888888888888,
              "#fdca26"
             ],
             [
              1,
              "#f0f921"
             ]
            ],
            "type": "heatmap"
           }
          ],
          "heatmapgl": [
           {
            "colorbar": {
             "outlinewidth": 0,
             "ticks": ""
            },
            "colorscale": [
             [
              0,
              "#0d0887"
             ],
             [
              0.1111111111111111,
              "#46039f"
             ],
             [
              0.2222222222222222,
              "#7201a8"
             ],
             [
              0.3333333333333333,
              "#9c179e"
             ],
             [
              0.4444444444444444,
              "#bd3786"
             ],
             [
              0.5555555555555556,
              "#d8576b"
             ],
             [
              0.6666666666666666,
              "#ed7953"
             ],
             [
              0.7777777777777778,
              "#fb9f3a"
             ],
             [
              0.8888888888888888,
              "#fdca26"
             ],
             [
              1,
              "#f0f921"
             ]
            ],
            "type": "heatmapgl"
           }
          ],
          "histogram": [
           {
            "marker": {
             "pattern": {
              "fillmode": "overlay",
              "size": 10,
              "solidity": 0.2
             }
            },
            "type": "histogram"
           }
          ],
          "histogram2d": [
           {
            "colorbar": {
             "outlinewidth": 0,
             "ticks": ""
            },
            "colorscale": [
             [
              0,
              "#0d0887"
             ],
             [
              0.1111111111111111,
              "#46039f"
             ],
             [
              0.2222222222222222,
              "#7201a8"
             ],
             [
              0.3333333333333333,
              "#9c179e"
             ],
             [
              0.4444444444444444,
              "#bd3786"
             ],
             [
              0.5555555555555556,
              "#d8576b"
             ],
             [
              0.6666666666666666,
              "#ed7953"
             ],
             [
              0.7777777777777778,
              "#fb9f3a"
             ],
             [
              0.8888888888888888,
              "#fdca26"
             ],
             [
              1,
              "#f0f921"
             ]
            ],
            "type": "histogram2d"
           }
          ],
          "histogram2dcontour": [
           {
            "colorbar": {
             "outlinewidth": 0,
             "ticks": ""
            },
            "colorscale": [
             [
              0,
              "#0d0887"
             ],
             [
              0.1111111111111111,
              "#46039f"
             ],
             [
              0.2222222222222222,
              "#7201a8"
             ],
             [
              0.3333333333333333,
              "#9c179e"
             ],
             [
              0.4444444444444444,
              "#bd3786"
             ],
             [
              0.5555555555555556,
              "#d8576b"
             ],
             [
              0.6666666666666666,
              "#ed7953"
             ],
             [
              0.7777777777777778,
              "#fb9f3a"
             ],
             [
              0.8888888888888888,
              "#fdca26"
             ],
             [
              1,
              "#f0f921"
             ]
            ],
            "type": "histogram2dcontour"
           }
          ],
          "mesh3d": [
           {
            "colorbar": {
             "outlinewidth": 0,
             "ticks": ""
            },
            "type": "mesh3d"
           }
          ],
          "parcoords": [
           {
            "line": {
             "colorbar": {
              "outlinewidth": 0,
              "ticks": ""
             }
            },
            "type": "parcoords"
           }
          ],
          "pie": [
           {
            "automargin": true,
            "type": "pie"
           }
          ],
          "scatter": [
           {
            "fillpattern": {
             "fillmode": "overlay",
             "size": 10,
             "solidity": 0.2
            },
            "type": "scatter"
           }
          ],
          "scatter3d": [
           {
            "line": {
             "colorbar": {
              "outlinewidth": 0,
              "ticks": ""
             }
            },
            "marker": {
             "colorbar": {
              "outlinewidth": 0,
              "ticks": ""
             }
            },
            "type": "scatter3d"
           }
          ],
          "scattercarpet": [
           {
            "marker": {
             "colorbar": {
              "outlinewidth": 0,
              "ticks": ""
             }
            },
            "type": "scattercarpet"
           }
          ],
          "scattergeo": [
           {
            "marker": {
             "colorbar": {
              "outlinewidth": 0,
              "ticks": ""
             }
            },
            "type": "scattergeo"
           }
          ],
          "scattergl": [
           {
            "marker": {
             "colorbar": {
              "outlinewidth": 0,
              "ticks": ""
             }
            },
            "type": "scattergl"
           }
          ],
          "scattermapbox": [
           {
            "marker": {
             "colorbar": {
              "outlinewidth": 0,
              "ticks": ""
             }
            },
            "type": "scattermapbox"
           }
          ],
          "scatterpolar": [
           {
            "marker": {
             "colorbar": {
              "outlinewidth": 0,
              "ticks": ""
             }
            },
            "type": "scatterpolar"
           }
          ],
          "scatterpolargl": [
           {
            "marker": {
             "colorbar": {
              "outlinewidth": 0,
              "ticks": ""
             }
            },
            "type": "scatterpolargl"
           }
          ],
          "scatterternary": [
           {
            "marker": {
             "colorbar": {
              "outlinewidth": 0,
              "ticks": ""
             }
            },
            "type": "scatterternary"
           }
          ],
          "surface": [
           {
            "colorbar": {
             "outlinewidth": 0,
             "ticks": ""
            },
            "colorscale": [
             [
              0,
              "#0d0887"
             ],
             [
              0.1111111111111111,
              "#46039f"
             ],
             [
              0.2222222222222222,
              "#7201a8"
             ],
             [
              0.3333333333333333,
              "#9c179e"
             ],
             [
              0.4444444444444444,
              "#bd3786"
             ],
             [
              0.5555555555555556,
              "#d8576b"
             ],
             [
              0.6666666666666666,
              "#ed7953"
             ],
             [
              0.7777777777777778,
              "#fb9f3a"
             ],
             [
              0.8888888888888888,
              "#fdca26"
             ],
             [
              1,
              "#f0f921"
             ]
            ],
            "type": "surface"
           }
          ],
          "table": [
           {
            "cells": {
             "fill": {
              "color": "#EBF0F8"
             },
             "line": {
              "color": "white"
             }
            },
            "header": {
             "fill": {
              "color": "#C8D4E3"
             },
             "line": {
              "color": "white"
             }
            },
            "type": "table"
           }
          ]
         },
         "layout": {
          "annotationdefaults": {
           "arrowcolor": "#2a3f5f",
           "arrowhead": 0,
           "arrowwidth": 1
          },
          "autotypenumbers": "strict",
          "coloraxis": {
           "colorbar": {
            "outlinewidth": 0,
            "ticks": ""
           }
          },
          "colorscale": {
           "diverging": [
            [
             0,
             "#8e0152"
            ],
            [
             0.1,
             "#c51b7d"
            ],
            [
             0.2,
             "#de77ae"
            ],
            [
             0.3,
             "#f1b6da"
            ],
            [
             0.4,
             "#fde0ef"
            ],
            [
             0.5,
             "#f7f7f7"
            ],
            [
             0.6,
             "#e6f5d0"
            ],
            [
             0.7,
             "#b8e186"
            ],
            [
             0.8,
             "#7fbc41"
            ],
            [
             0.9,
             "#4d9221"
            ],
            [
             1,
             "#276419"
            ]
           ],
           "sequential": [
            [
             0,
             "#0d0887"
            ],
            [
             0.1111111111111111,
             "#46039f"
            ],
            [
             0.2222222222222222,
             "#7201a8"
            ],
            [
             0.3333333333333333,
             "#9c179e"
            ],
            [
             0.4444444444444444,
             "#bd3786"
            ],
            [
             0.5555555555555556,
             "#d8576b"
            ],
            [
             0.6666666666666666,
             "#ed7953"
            ],
            [
             0.7777777777777778,
             "#fb9f3a"
            ],
            [
             0.8888888888888888,
             "#fdca26"
            ],
            [
             1,
             "#f0f921"
            ]
           ],
           "sequentialminus": [
            [
             0,
             "#0d0887"
            ],
            [
             0.1111111111111111,
             "#46039f"
            ],
            [
             0.2222222222222222,
             "#7201a8"
            ],
            [
             0.3333333333333333,
             "#9c179e"
            ],
            [
             0.4444444444444444,
             "#bd3786"
            ],
            [
             0.5555555555555556,
             "#d8576b"
            ],
            [
             0.6666666666666666,
             "#ed7953"
            ],
            [
             0.7777777777777778,
             "#fb9f3a"
            ],
            [
             0.8888888888888888,
             "#fdca26"
            ],
            [
             1,
             "#f0f921"
            ]
           ]
          },
          "colorway": [
           "#636efa",
           "#EF553B",
           "#00cc96",
           "#ab63fa",
           "#FFA15A",
           "#19d3f3",
           "#FF6692",
           "#B6E880",
           "#FF97FF",
           "#FECB52"
          ],
          "font": {
           "color": "#2a3f5f"
          },
          "geo": {
           "bgcolor": "white",
           "lakecolor": "white",
           "landcolor": "#E5ECF6",
           "showlakes": true,
           "showland": true,
           "subunitcolor": "white"
          },
          "hoverlabel": {
           "align": "left"
          },
          "hovermode": "closest",
          "mapbox": {
           "style": "light"
          },
          "paper_bgcolor": "white",
          "plot_bgcolor": "#E5ECF6",
          "polar": {
           "angularaxis": {
            "gridcolor": "white",
            "linecolor": "white",
            "ticks": ""
           },
           "bgcolor": "#E5ECF6",
           "radialaxis": {
            "gridcolor": "white",
            "linecolor": "white",
            "ticks": ""
           }
          },
          "scene": {
           "xaxis": {
            "backgroundcolor": "#E5ECF6",
            "gridcolor": "white",
            "gridwidth": 2,
            "linecolor": "white",
            "showbackground": true,
            "ticks": "",
            "zerolinecolor": "white"
           },
           "yaxis": {
            "backgroundcolor": "#E5ECF6",
            "gridcolor": "white",
            "gridwidth": 2,
            "linecolor": "white",
            "showbackground": true,
            "ticks": "",
            "zerolinecolor": "white"
           },
           "zaxis": {
            "backgroundcolor": "#E5ECF6",
            "gridcolor": "white",
            "gridwidth": 2,
            "linecolor": "white",
            "showbackground": true,
            "ticks": "",
            "zerolinecolor": "white"
           }
          },
          "shapedefaults": {
           "line": {
            "color": "#2a3f5f"
           }
          },
          "ternary": {
           "aaxis": {
            "gridcolor": "white",
            "linecolor": "white",
            "ticks": ""
           },
           "baxis": {
            "gridcolor": "white",
            "linecolor": "white",
            "ticks": ""
           },
           "bgcolor": "#E5ECF6",
           "caxis": {
            "gridcolor": "white",
            "linecolor": "white",
            "ticks": ""
           }
          },
          "title": {
           "x": 0.05
          },
          "xaxis": {
           "automargin": true,
           "gridcolor": "white",
           "linecolor": "white",
           "ticks": "",
           "title": {
            "standoff": 15
           },
           "zerolinecolor": "white",
           "zerolinewidth": 2
          },
          "yaxis": {
           "automargin": true,
           "gridcolor": "white",
           "linecolor": "white",
           "ticks": "",
           "title": {
            "standoff": 15
           },
           "zerolinecolor": "white",
           "zerolinewidth": 2
          }
         }
        },
        "title": {
         "text": "Garbage Image Dataset Distribution"
        }
       }
      }
     },
     "metadata": {},
     "output_type": "display_data"
    }
   ],
   "source": [
    "sizes = [len(os.listdir(os.path.join(\"dataset/balanced_waste_images\", class_name))) for class_name in class_names]\n",
    "\n",
    "fig = px.pie(\n",
    "    names=os.listdir(\"dataset/balanced_waste_images\"),\n",
    "    values=sizes,\n",
    "    title=\"Garbage Image Dataset Distribution\",\n",
    "    color_discrete_sequence=px.colors.qualitative.Pastel\n",
    ")\n",
    "fig.show()\n"
   ]
  },
  {
   "cell_type": "code",
   "execution_count": null,
   "metadata": {},
   "outputs": [],
   "source": [
    "splitfolders.ratio(input=rootPath,output='imgs',seed=15,ratio=(.8,.1,.1),group_prefix=None,move=False)"
   ]
  }
 ],
 "metadata": {
  "kernelspec": {
   "display_name": "Python 3",
   "language": "python",
   "name": "python3"
  },
  "language_info": {
   "codemirror_mode": {
    "name": "ipython",
    "version": 3
   },
   "file_extension": ".py",
   "mimetype": "text/x-python",
   "name": "python",
   "nbconvert_exporter": "python",
   "pygments_lexer": "ipython3",
   "version": "3.12.3"
  }
 },
 "nbformat": 4,
 "nbformat_minor": 2
}
